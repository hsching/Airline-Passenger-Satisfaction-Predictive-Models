{
  "nbformat": 4,
  "nbformat_minor": 0,
  "metadata": {
    "colab": {
      "provenance": [],
      "collapsed_sections": [
        "ItBwQxhNSN_y",
        "weiqRO-sVkFB"
      ],
      "authorship_tag": "ABX9TyNNoChhJVFGH1mLJK9ZaV+T",
      "include_colab_link": true
    },
    "kernelspec": {
      "name": "python3",
      "display_name": "Python 3"
    },
    "language_info": {
      "name": "python"
    }
  },
  "cells": [
    {
      "cell_type": "markdown",
      "metadata": {
        "id": "view-in-github",
        "colab_type": "text"
      },
      "source": [
        "<a href=\"https://colab.research.google.com/github/hsching/Airline-Passenger-Satisfaction-Predictive-Models/blob/main/4_Feature_selection.ipynb\" target=\"_parent\"><img src=\"https://colab.research.google.com/assets/colab-badge.svg\" alt=\"Open In Colab\"/></a>"
      ]
    },
    {
      "cell_type": "code",
      "source": [
        "# import file from the folder \"ISOM3360\" in our MyDrive, with shortcut of shared folder \"ISOM3360 group project\" in\n",
        "from google.colab import drive\n",
        "drive.mount('/content/drive')"
      ],
      "metadata": {
        "id": "V40BBa8-fcc2"
      },
      "execution_count": null,
      "outputs": []
    },
    {
      "cell_type": "code",
      "execution_count": null,
      "metadata": {
        "colab": {
          "base_uri": "https://localhost:8080/"
        },
        "id": "E6WF6H5CxGqK",
        "outputId": "0c3c065f-9681-46e1-c3e0-99d1dac9694b"
      },
      "outputs": [
        {
          "output_type": "stream",
          "name": "stdout",
          "text": [
            "Drive already mounted at /content/drive; to attempt to forcibly remount, call drive.mount(\"/content/drive\", force_remount=True).\n"
          ]
        }
      ],
      "source": [
        "import pandas as pd\n",
        "import numpy as np\n",
        "import matplotlib.pyplot as plt\n",
        "import seaborn as sns\n",
        "import sklearn\n",
        "from sklearn import preprocessing\n",
        "from sklearn.model_selection import train_test_split\n",
        "from sklearn.tree import DecisionTreeClassifier"
      ]
    },
    {
      "cell_type": "markdown",
      "source": [
        "# all standard scaler"
      ],
      "metadata": {
        "id": "J1K8_1oG1ueJ"
      }
    },
    {
      "cell_type": "code",
      "source": [
        "file_name = 'train_processed (all standardization).csv'\n",
        "loc = ''\n",
        "# loc = '/content/drive/MyDrive/ISOM3360/ISOM3360 group project/Cathy_Data preparation, Decision tree/'\n",
        "train = pd.read_csv(loc+file_name,index_col=0)\n",
        "train_df = train.copy()\n",
        "train_df"
      ],
      "metadata": {
        "colab": {
          "base_uri": "https://localhost:8080/",
          "height": 554
        },
        "outputId": "1ebe6f31-7005-475a-c7f7-92aee4dd3e8c",
        "id": "hu_nCLbT1ueJ"
      },
      "execution_count": null,
      "outputs": [
        {
          "output_type": "execute_result",
          "data": {
            "text/plain": [
              "             Age  Inflight wifi service  Departure/Arrival time convenient  \\\n",
              "id                                                                           \n",
              "70172  -1.745279               0.203579                           0.616172   \n",
              "5047   -0.951360               0.203579                          -0.695245   \n",
              "110028 -0.885200              -0.549533                          -0.695245   \n",
              "24026  -0.951360              -0.549533                           1.271880   \n",
              "119299  1.430397               0.203579                          -0.039537   \n",
              "...          ...                    ...                                ...   \n",
              "94171  -1.083680              -0.549533                          -1.350954   \n",
              "73097   0.636478               0.956691                           0.616172   \n",
              "68825  -0.620561              -1.302646                          -1.350954   \n",
              "54173  -1.149840              -1.302646                          -1.350954   \n",
              "62567  -0.819040              -1.302646                          -0.039537   \n",
              "\n",
              "        Ease of Online booking  Gate location  Food and drink  \\\n",
              "id                                                              \n",
              "70172                 0.173776      -1.547323        1.352264   \n",
              "5047                  0.173776       0.018094       -1.656326   \n",
              "110028               -0.541060      -0.764614        1.352264   \n",
              "24026                 1.603448       1.583511       -0.904178   \n",
              "119299                0.173776       0.018094        0.600117   \n",
              "...                        ...            ...             ...   \n",
              "94171                -0.541060       0.018094       -0.904178   \n",
              "73097                 0.888612       0.800803       -0.904178   \n",
              "68825                -1.255895       0.018094        0.600117   \n",
              "54173                -1.255895       1.583511       -1.656326   \n",
              "62567                 0.173776       0.018094       -1.656326   \n",
              "\n",
              "        Online boarding  Seat comfort  Inflight entertainment  \\\n",
              "id                                                              \n",
              "70172         -0.185532      1.183099                1.231704   \n",
              "5047          -0.185532     -1.849315               -1.769081   \n",
              "110028         1.296496      1.183099                1.231704   \n",
              "24026         -0.926545     -1.091211               -1.018885   \n",
              "119299         1.296496      1.183099               -0.268688   \n",
              "...                 ...           ...                     ...   \n",
              "94171         -0.926545     -1.091211               -1.018885   \n",
              "73097          0.555482      1.183099                1.231704   \n",
              "68825         -1.667559      1.183099                0.481508   \n",
              "54173         -1.667559     -1.849315               -1.769081   \n",
              "62567         -1.667559     -1.849315               -1.769081   \n",
              "\n",
              "        On-board service  ...  Gender_Male  Customer Type_disloyal Customer  \\\n",
              "id                        ...                                                 \n",
              "70172           0.479403  ...          1.0                              0.0   \n",
              "5047           -1.849161  ...          1.0                              1.0   \n",
              "110028          0.479403  ...          0.0                              0.0   \n",
              "24026          -1.072973  ...          0.0                              0.0   \n",
              "119299         -0.296785  ...          1.0                              0.0   \n",
              "...                  ...  ...          ...                              ...   \n",
              "94171          -0.296785  ...          0.0                              1.0   \n",
              "73097           1.255590  ...          1.0                              0.0   \n",
              "68825          -0.296785  ...          1.0                              1.0   \n",
              "54173           0.479403  ...          0.0                              1.0   \n",
              "62567          -1.849161  ...          1.0                              0.0   \n",
              "\n",
              "        Type of Travel_Personal Travel  Class_Business  Class_Eco  \\\n",
              "id                                                                  \n",
              "70172                              1.0             0.0        0.0   \n",
              "5047                               0.0             1.0        0.0   \n",
              "110028                             0.0             1.0        0.0   \n",
              "24026                              0.0             1.0        0.0   \n",
              "119299                             0.0             1.0        0.0   \n",
              "...                                ...             ...        ...   \n",
              "94171                              0.0             0.0        1.0   \n",
              "73097                              0.0             1.0        0.0   \n",
              "68825                              0.0             1.0        0.0   \n",
              "54173                              0.0             0.0        1.0   \n",
              "62567                              0.0             1.0        0.0   \n",
              "\n",
              "        Class_Eco Plus  Flight Distance_binned_long  \\\n",
              "id                                                    \n",
              "70172              1.0                          0.0   \n",
              "5047               0.0                          0.0   \n",
              "110028             0.0                          0.0   \n",
              "24026              0.0                          0.0   \n",
              "119299             0.0                          0.0   \n",
              "...                ...                          ...   \n",
              "94171              0.0                          0.0   \n",
              "73097              0.0                          0.0   \n",
              "68825              0.0                          0.0   \n",
              "54173              0.0                          0.0   \n",
              "62567              0.0                          0.0   \n",
              "\n",
              "        Flight Distance_binned_middle  Flight Distance_binned_short  \\\n",
              "id                                                                    \n",
              "70172                             0.0                           1.0   \n",
              "5047                              0.0                           1.0   \n",
              "110028                            0.0                           1.0   \n",
              "24026                             0.0                           1.0   \n",
              "119299                            0.0                           1.0   \n",
              "...                               ...                           ...   \n",
              "94171                             0.0                           1.0   \n",
              "73097                             1.0                           0.0   \n",
              "68825                             1.0                           0.0   \n",
              "54173                             0.0                           1.0   \n",
              "62567                             1.0                           0.0   \n",
              "\n",
              "        satisfaction_satisfied  \n",
              "id                              \n",
              "70172                      0.0  \n",
              "5047                       0.0  \n",
              "110028                     1.0  \n",
              "24026                      0.0  \n",
              "119299                     1.0  \n",
              "...                        ...  \n",
              "94171                      0.0  \n",
              "73097                      1.0  \n",
              "68825                      0.0  \n",
              "54173                      0.0  \n",
              "62567                      0.0  \n",
              "\n",
              "[103904 rows x 27 columns]"
            ],
            "text/html": [
              "\n",
              "  <div id=\"df-3840648e-2128-4860-a398-80f665c15b5f\">\n",
              "    <div class=\"colab-df-container\">\n",
              "      <div>\n",
              "<style scoped>\n",
              "    .dataframe tbody tr th:only-of-type {\n",
              "        vertical-align: middle;\n",
              "    }\n",
              "\n",
              "    .dataframe tbody tr th {\n",
              "        vertical-align: top;\n",
              "    }\n",
              "\n",
              "    .dataframe thead th {\n",
              "        text-align: right;\n",
              "    }\n",
              "</style>\n",
              "<table border=\"1\" class=\"dataframe\">\n",
              "  <thead>\n",
              "    <tr style=\"text-align: right;\">\n",
              "      <th></th>\n",
              "      <th>Age</th>\n",
              "      <th>Inflight wifi service</th>\n",
              "      <th>Departure/Arrival time convenient</th>\n",
              "      <th>Ease of Online booking</th>\n",
              "      <th>Gate location</th>\n",
              "      <th>Food and drink</th>\n",
              "      <th>Online boarding</th>\n",
              "      <th>Seat comfort</th>\n",
              "      <th>Inflight entertainment</th>\n",
              "      <th>On-board service</th>\n",
              "      <th>...</th>\n",
              "      <th>Gender_Male</th>\n",
              "      <th>Customer Type_disloyal Customer</th>\n",
              "      <th>Type of Travel_Personal Travel</th>\n",
              "      <th>Class_Business</th>\n",
              "      <th>Class_Eco</th>\n",
              "      <th>Class_Eco Plus</th>\n",
              "      <th>Flight Distance_binned_long</th>\n",
              "      <th>Flight Distance_binned_middle</th>\n",
              "      <th>Flight Distance_binned_short</th>\n",
              "      <th>satisfaction_satisfied</th>\n",
              "    </tr>\n",
              "    <tr>\n",
              "      <th>id</th>\n",
              "      <th></th>\n",
              "      <th></th>\n",
              "      <th></th>\n",
              "      <th></th>\n",
              "      <th></th>\n",
              "      <th></th>\n",
              "      <th></th>\n",
              "      <th></th>\n",
              "      <th></th>\n",
              "      <th></th>\n",
              "      <th></th>\n",
              "      <th></th>\n",
              "      <th></th>\n",
              "      <th></th>\n",
              "      <th></th>\n",
              "      <th></th>\n",
              "      <th></th>\n",
              "      <th></th>\n",
              "      <th></th>\n",
              "      <th></th>\n",
              "      <th></th>\n",
              "    </tr>\n",
              "  </thead>\n",
              "  <tbody>\n",
              "    <tr>\n",
              "      <th>70172</th>\n",
              "      <td>-1.745279</td>\n",
              "      <td>0.203579</td>\n",
              "      <td>0.616172</td>\n",
              "      <td>0.173776</td>\n",
              "      <td>-1.547323</td>\n",
              "      <td>1.352264</td>\n",
              "      <td>-0.185532</td>\n",
              "      <td>1.183099</td>\n",
              "      <td>1.231704</td>\n",
              "      <td>0.479403</td>\n",
              "      <td>...</td>\n",
              "      <td>1.0</td>\n",
              "      <td>0.0</td>\n",
              "      <td>1.0</td>\n",
              "      <td>0.0</td>\n",
              "      <td>0.0</td>\n",
              "      <td>1.0</td>\n",
              "      <td>0.0</td>\n",
              "      <td>0.0</td>\n",
              "      <td>1.0</td>\n",
              "      <td>0.0</td>\n",
              "    </tr>\n",
              "    <tr>\n",
              "      <th>5047</th>\n",
              "      <td>-0.951360</td>\n",
              "      <td>0.203579</td>\n",
              "      <td>-0.695245</td>\n",
              "      <td>0.173776</td>\n",
              "      <td>0.018094</td>\n",
              "      <td>-1.656326</td>\n",
              "      <td>-0.185532</td>\n",
              "      <td>-1.849315</td>\n",
              "      <td>-1.769081</td>\n",
              "      <td>-1.849161</td>\n",
              "      <td>...</td>\n",
              "      <td>1.0</td>\n",
              "      <td>1.0</td>\n",
              "      <td>0.0</td>\n",
              "      <td>1.0</td>\n",
              "      <td>0.0</td>\n",
              "      <td>0.0</td>\n",
              "      <td>0.0</td>\n",
              "      <td>0.0</td>\n",
              "      <td>1.0</td>\n",
              "      <td>0.0</td>\n",
              "    </tr>\n",
              "    <tr>\n",
              "      <th>110028</th>\n",
              "      <td>-0.885200</td>\n",
              "      <td>-0.549533</td>\n",
              "      <td>-0.695245</td>\n",
              "      <td>-0.541060</td>\n",
              "      <td>-0.764614</td>\n",
              "      <td>1.352264</td>\n",
              "      <td>1.296496</td>\n",
              "      <td>1.183099</td>\n",
              "      <td>1.231704</td>\n",
              "      <td>0.479403</td>\n",
              "      <td>...</td>\n",
              "      <td>0.0</td>\n",
              "      <td>0.0</td>\n",
              "      <td>0.0</td>\n",
              "      <td>1.0</td>\n",
              "      <td>0.0</td>\n",
              "      <td>0.0</td>\n",
              "      <td>0.0</td>\n",
              "      <td>0.0</td>\n",
              "      <td>1.0</td>\n",
              "      <td>1.0</td>\n",
              "    </tr>\n",
              "    <tr>\n",
              "      <th>24026</th>\n",
              "      <td>-0.951360</td>\n",
              "      <td>-0.549533</td>\n",
              "      <td>1.271880</td>\n",
              "      <td>1.603448</td>\n",
              "      <td>1.583511</td>\n",
              "      <td>-0.904178</td>\n",
              "      <td>-0.926545</td>\n",
              "      <td>-1.091211</td>\n",
              "      <td>-1.018885</td>\n",
              "      <td>-1.072973</td>\n",
              "      <td>...</td>\n",
              "      <td>0.0</td>\n",
              "      <td>0.0</td>\n",
              "      <td>0.0</td>\n",
              "      <td>1.0</td>\n",
              "      <td>0.0</td>\n",
              "      <td>0.0</td>\n",
              "      <td>0.0</td>\n",
              "      <td>0.0</td>\n",
              "      <td>1.0</td>\n",
              "      <td>0.0</td>\n",
              "    </tr>\n",
              "    <tr>\n",
              "      <th>119299</th>\n",
              "      <td>1.430397</td>\n",
              "      <td>0.203579</td>\n",
              "      <td>-0.039537</td>\n",
              "      <td>0.173776</td>\n",
              "      <td>0.018094</td>\n",
              "      <td>0.600117</td>\n",
              "      <td>1.296496</td>\n",
              "      <td>1.183099</td>\n",
              "      <td>-0.268688</td>\n",
              "      <td>-0.296785</td>\n",
              "      <td>...</td>\n",
              "      <td>1.0</td>\n",
              "      <td>0.0</td>\n",
              "      <td>0.0</td>\n",
              "      <td>1.0</td>\n",
              "      <td>0.0</td>\n",
              "      <td>0.0</td>\n",
              "      <td>0.0</td>\n",
              "      <td>0.0</td>\n",
              "      <td>1.0</td>\n",
              "      <td>1.0</td>\n",
              "    </tr>\n",
              "    <tr>\n",
              "      <th>...</th>\n",
              "      <td>...</td>\n",
              "      <td>...</td>\n",
              "      <td>...</td>\n",
              "      <td>...</td>\n",
              "      <td>...</td>\n",
              "      <td>...</td>\n",
              "      <td>...</td>\n",
              "      <td>...</td>\n",
              "      <td>...</td>\n",
              "      <td>...</td>\n",
              "      <td>...</td>\n",
              "      <td>...</td>\n",
              "      <td>...</td>\n",
              "      <td>...</td>\n",
              "      <td>...</td>\n",
              "      <td>...</td>\n",
              "      <td>...</td>\n",
              "      <td>...</td>\n",
              "      <td>...</td>\n",
              "      <td>...</td>\n",
              "      <td>...</td>\n",
              "    </tr>\n",
              "    <tr>\n",
              "      <th>94171</th>\n",
              "      <td>-1.083680</td>\n",
              "      <td>-0.549533</td>\n",
              "      <td>-1.350954</td>\n",
              "      <td>-0.541060</td>\n",
              "      <td>0.018094</td>\n",
              "      <td>-0.904178</td>\n",
              "      <td>-0.926545</td>\n",
              "      <td>-1.091211</td>\n",
              "      <td>-1.018885</td>\n",
              "      <td>-0.296785</td>\n",
              "      <td>...</td>\n",
              "      <td>0.0</td>\n",
              "      <td>1.0</td>\n",
              "      <td>0.0</td>\n",
              "      <td>0.0</td>\n",
              "      <td>1.0</td>\n",
              "      <td>0.0</td>\n",
              "      <td>0.0</td>\n",
              "      <td>0.0</td>\n",
              "      <td>1.0</td>\n",
              "      <td>0.0</td>\n",
              "    </tr>\n",
              "    <tr>\n",
              "      <th>73097</th>\n",
              "      <td>0.636478</td>\n",
              "      <td>0.956691</td>\n",
              "      <td>0.616172</td>\n",
              "      <td>0.888612</td>\n",
              "      <td>0.800803</td>\n",
              "      <td>-0.904178</td>\n",
              "      <td>0.555482</td>\n",
              "      <td>1.183099</td>\n",
              "      <td>1.231704</td>\n",
              "      <td>1.255590</td>\n",
              "      <td>...</td>\n",
              "      <td>1.0</td>\n",
              "      <td>0.0</td>\n",
              "      <td>0.0</td>\n",
              "      <td>1.0</td>\n",
              "      <td>0.0</td>\n",
              "      <td>0.0</td>\n",
              "      <td>0.0</td>\n",
              "      <td>1.0</td>\n",
              "      <td>0.0</td>\n",
              "      <td>1.0</td>\n",
              "    </tr>\n",
              "    <tr>\n",
              "      <th>68825</th>\n",
              "      <td>-0.620561</td>\n",
              "      <td>-1.302646</td>\n",
              "      <td>-1.350954</td>\n",
              "      <td>-1.255895</td>\n",
              "      <td>0.018094</td>\n",
              "      <td>0.600117</td>\n",
              "      <td>-1.667559</td>\n",
              "      <td>1.183099</td>\n",
              "      <td>0.481508</td>\n",
              "      <td>-0.296785</td>\n",
              "      <td>...</td>\n",
              "      <td>1.0</td>\n",
              "      <td>1.0</td>\n",
              "      <td>0.0</td>\n",
              "      <td>1.0</td>\n",
              "      <td>0.0</td>\n",
              "      <td>0.0</td>\n",
              "      <td>0.0</td>\n",
              "      <td>1.0</td>\n",
              "      <td>0.0</td>\n",
              "      <td>0.0</td>\n",
              "    </tr>\n",
              "    <tr>\n",
              "      <th>54173</th>\n",
              "      <td>-1.149840</td>\n",
              "      <td>-1.302646</td>\n",
              "      <td>-1.350954</td>\n",
              "      <td>-1.255895</td>\n",
              "      <td>1.583511</td>\n",
              "      <td>-1.656326</td>\n",
              "      <td>-1.667559</td>\n",
              "      <td>-1.849315</td>\n",
              "      <td>-1.769081</td>\n",
              "      <td>0.479403</td>\n",
              "      <td>...</td>\n",
              "      <td>0.0</td>\n",
              "      <td>1.0</td>\n",
              "      <td>0.0</td>\n",
              "      <td>0.0</td>\n",
              "      <td>1.0</td>\n",
              "      <td>0.0</td>\n",
              "      <td>0.0</td>\n",
              "      <td>0.0</td>\n",
              "      <td>1.0</td>\n",
              "      <td>0.0</td>\n",
              "    </tr>\n",
              "    <tr>\n",
              "      <th>62567</th>\n",
              "      <td>-0.819040</td>\n",
              "      <td>-1.302646</td>\n",
              "      <td>-0.039537</td>\n",
              "      <td>0.173776</td>\n",
              "      <td>0.018094</td>\n",
              "      <td>-1.656326</td>\n",
              "      <td>-1.667559</td>\n",
              "      <td>-1.849315</td>\n",
              "      <td>-1.769081</td>\n",
              "      <td>-1.849161</td>\n",
              "      <td>...</td>\n",
              "      <td>1.0</td>\n",
              "      <td>0.0</td>\n",
              "      <td>0.0</td>\n",
              "      <td>1.0</td>\n",
              "      <td>0.0</td>\n",
              "      <td>0.0</td>\n",
              "      <td>0.0</td>\n",
              "      <td>1.0</td>\n",
              "      <td>0.0</td>\n",
              "      <td>0.0</td>\n",
              "    </tr>\n",
              "  </tbody>\n",
              "</table>\n",
              "<p>103904 rows × 27 columns</p>\n",
              "</div>\n",
              "      <button class=\"colab-df-convert\" onclick=\"convertToInteractive('df-3840648e-2128-4860-a398-80f665c15b5f')\"\n",
              "              title=\"Convert this dataframe to an interactive table.\"\n",
              "              style=\"display:none;\">\n",
              "        \n",
              "  <svg xmlns=\"http://www.w3.org/2000/svg\" height=\"24px\"viewBox=\"0 0 24 24\"\n",
              "       width=\"24px\">\n",
              "    <path d=\"M0 0h24v24H0V0z\" fill=\"none\"/>\n",
              "    <path d=\"M18.56 5.44l.94 2.06.94-2.06 2.06-.94-2.06-.94-.94-2.06-.94 2.06-2.06.94zm-11 1L8.5 8.5l.94-2.06 2.06-.94-2.06-.94L8.5 2.5l-.94 2.06-2.06.94zm10 10l.94 2.06.94-2.06 2.06-.94-2.06-.94-.94-2.06-.94 2.06-2.06.94z\"/><path d=\"M17.41 7.96l-1.37-1.37c-.4-.4-.92-.59-1.43-.59-.52 0-1.04.2-1.43.59L10.3 9.45l-7.72 7.72c-.78.78-.78 2.05 0 2.83L4 21.41c.39.39.9.59 1.41.59.51 0 1.02-.2 1.41-.59l7.78-7.78 2.81-2.81c.8-.78.8-2.07 0-2.86zM5.41 20L4 18.59l7.72-7.72 1.47 1.35L5.41 20z\"/>\n",
              "  </svg>\n",
              "      </button>\n",
              "      \n",
              "  <style>\n",
              "    .colab-df-container {\n",
              "      display:flex;\n",
              "      flex-wrap:wrap;\n",
              "      gap: 12px;\n",
              "    }\n",
              "\n",
              "    .colab-df-convert {\n",
              "      background-color: #E8F0FE;\n",
              "      border: none;\n",
              "      border-radius: 50%;\n",
              "      cursor: pointer;\n",
              "      display: none;\n",
              "      fill: #1967D2;\n",
              "      height: 32px;\n",
              "      padding: 0 0 0 0;\n",
              "      width: 32px;\n",
              "    }\n",
              "\n",
              "    .colab-df-convert:hover {\n",
              "      background-color: #E2EBFA;\n",
              "      box-shadow: 0px 1px 2px rgba(60, 64, 67, 0.3), 0px 1px 3px 1px rgba(60, 64, 67, 0.15);\n",
              "      fill: #174EA6;\n",
              "    }\n",
              "\n",
              "    [theme=dark] .colab-df-convert {\n",
              "      background-color: #3B4455;\n",
              "      fill: #D2E3FC;\n",
              "    }\n",
              "\n",
              "    [theme=dark] .colab-df-convert:hover {\n",
              "      background-color: #434B5C;\n",
              "      box-shadow: 0px 1px 3px 1px rgba(0, 0, 0, 0.15);\n",
              "      filter: drop-shadow(0px 1px 2px rgba(0, 0, 0, 0.3));\n",
              "      fill: #FFFFFF;\n",
              "    }\n",
              "  </style>\n",
              "\n",
              "      <script>\n",
              "        const buttonEl =\n",
              "          document.querySelector('#df-3840648e-2128-4860-a398-80f665c15b5f button.colab-df-convert');\n",
              "        buttonEl.style.display =\n",
              "          google.colab.kernel.accessAllowed ? 'block' : 'none';\n",
              "\n",
              "        async function convertToInteractive(key) {\n",
              "          const element = document.querySelector('#df-3840648e-2128-4860-a398-80f665c15b5f');\n",
              "          const dataTable =\n",
              "            await google.colab.kernel.invokeFunction('convertToInteractive',\n",
              "                                                     [key], {});\n",
              "          if (!dataTable) return;\n",
              "\n",
              "          const docLinkHtml = 'Like what you see? Visit the ' +\n",
              "            '<a target=\"_blank\" href=https://colab.research.google.com/notebooks/data_table.ipynb>data table notebook</a>'\n",
              "            + ' to learn more about interactive tables.';\n",
              "          element.innerHTML = '';\n",
              "          dataTable['output_type'] = 'display_data';\n",
              "          await google.colab.output.renderOutput(dataTable, element);\n",
              "          const docLink = document.createElement('div');\n",
              "          docLink.innerHTML = docLinkHtml;\n",
              "          element.appendChild(docLink);\n",
              "        }\n",
              "      </script>\n",
              "    </div>\n",
              "  </div>\n",
              "  "
            ]
          },
          "metadata": {},
          "execution_count": 120
        }
      ]
    },
    {
      "cell_type": "code",
      "source": [
        "X = train_df.iloc[:,0:26]  #features\n",
        "y = train_df['satisfaction_satisfied']  #target label\n",
        "X_train, X_test, y_train, y_test = train_test_split(X, y, test_size=0.4, random_state=42)"
      ],
      "metadata": {
        "id": "wmUTm64_1ueK"
      },
      "execution_count": null,
      "outputs": []
    },
    {
      "cell_type": "code",
      "source": [
        "from sklearn.tree import DecisionTreeClassifier\n",
        "from sklearn.model_selection import cross_val_predict\n",
        "from sklearn.metrics import accuracy_score\n",
        "from sklearn.metrics import confusion_matrix\n",
        "from sklearn.metrics import roc_curve, auc\n",
        "\n",
        "def run():\n",
        "  model_tunning = DecisionTreeClassifier(criterion='entropy', max_leaf_nodes=440, random_state=42)\n",
        "  model_tunning.fit(X_train, y_train)\n",
        "\n",
        "  y_pred_test = model_tunning.predict(X_test)\n",
        "  y_pred_cv = cross_val_predict(model_tunning, X, y, cv=5)\n",
        "\n",
        "  tree_fpr, tree_tpr, thresholds = roc_curve(y, y_pred_cv)\n",
        "  tree_auc = auc(tree_fpr, tree_tpr)\n",
        "\n",
        "  cm = confusion_matrix(y, y_pred_cv)\n",
        "\n",
        "  print('Simple Accuracy:', accuracy_score(y_test, y_pred_test))\n",
        "  print('CV Accuracy:', accuracy_score(y, y_pred_cv))\n",
        "  print('CV AUC:', tree_auc)\n",
        "  print('Tree object node count:', model_tunning.tree_.node_count)\n",
        "  print('CV Confusion matrix:\\n', cm)\n",
        "  print('FPR:', cm[0][1] / (cm[0][1] + cm[1][1]))"
      ],
      "metadata": {
        "id": "wro1hghAcTRx"
      },
      "execution_count": null,
      "outputs": []
    },
    {
      "cell_type": "code",
      "source": [
        "run()"
      ],
      "metadata": {
        "colab": {
          "base_uri": "https://localhost:8080/"
        },
        "id": "VbzzusS7FNoB",
        "outputId": "ee91aa16-efec-46d1-a6e7-4611c176d285"
      },
      "execution_count": null,
      "outputs": [
        {
          "output_type": "stream",
          "name": "stdout",
          "text": [
            "Simple Accuracy: 0.959241614936721\n",
            "CV Accuracy: 0.9592027255928549\n",
            "CV AUC: 0.9562811794851692\n",
            "Tree object node count: 879\n",
            "Confusion matrix:\n",
            " [[57595  1284]\n",
            " [ 2955 42070]]\n",
            "FPR: 0.02961664436960834\n"
          ]
        }
      ]
    },
    {
      "cell_type": "markdown",
      "source": [
        "# Features Selection"
      ],
      "metadata": {
        "id": "T-FR7Y1GVYs_"
      }
    },
    {
      "cell_type": "markdown",
      "source": [
        "## Removing features with low variance"
      ],
      "metadata": {
        "id": "ItBwQxhNSN_y"
      }
    },
    {
      "cell_type": "code",
      "source": [
        "train_df.describe()"
      ],
      "metadata": {
        "colab": {
          "base_uri": "https://localhost:8080/",
          "height": 428
        },
        "id": "TdPHtsTYWfzR",
        "outputId": "708a906d-ae9e-48df-bf29-5d49744968db"
      },
      "execution_count": null,
      "outputs": [
        {
          "output_type": "execute_result",
          "data": {
            "text/plain": [
              "                Age  Inflight wifi service  Departure/Arrival time convenient  \\\n",
              "count  1.039040e+05           1.039040e+05                       1.039040e+05   \n",
              "mean   1.046283e-17           5.128841e-17                      -1.615927e-16   \n",
              "std    1.000005e+00           1.000005e+00                       1.000005e+00   \n",
              "min   -2.142239e+00          -2.055758e+00                      -2.006662e+00   \n",
              "25%   -8.190404e-01          -5.495334e-01                      -6.952452e-01   \n",
              "50%    4.103858e-02           2.035790e-01                      -3.953663e-02   \n",
              "75%    7.687977e-01           9.566913e-01                       6.161719e-01   \n",
              "max    3.018235e+00           1.709804e+00                       1.271880e+00   \n",
              "\n",
              "       Ease of Online booking  Gate location  Food and drink  Online boarding  \\\n",
              "count            1.039040e+05   1.039040e+05    1.039040e+05     1.039040e+05   \n",
              "mean             1.364955e-16   1.094153e-18    1.717136e-16    -1.805352e-17   \n",
              "std              1.000005e+00   1.000005e+00    1.000005e+00     1.000005e+00   \n",
              "min             -1.970731e+00  -2.330031e+00   -2.408473e+00    -2.408573e+00   \n",
              "25%             -5.410596e-01  -7.646142e-01   -9.041783e-01    -9.265454e-01   \n",
              "50%              1.737761e-01   1.809426e-02   -1.520308e-01    -1.855316e-01   \n",
              "75%              8.886119e-01   8.008027e-01    6.001168e-01     5.554822e-01   \n",
              "max              1.603448e+00   1.583511e+00    1.352264e+00     1.296496e+00   \n",
              "\n",
              "       Seat comfort  Inflight entertainment  On-board service  ...  \\\n",
              "count  1.039040e+05            1.039040e+05      1.039040e+05  ...   \n",
              "mean  -5.450248e-17           -5.946036e-17      1.813558e-16  ...   \n",
              "std    1.000005e+00            1.000005e+00      1.000005e+00  ...   \n",
              "min   -2.607418e+00           -2.519278e+00     -2.625348e+00  ...   \n",
              "25%   -1.091211e+00           -1.018885e+00     -1.072973e+00  ...   \n",
              "50%    4.249958e-01            4.815079e-01      4.794026e-01  ...   \n",
              "75%    1.183099e+00            4.815079e-01      4.794026e-01  ...   \n",
              "max    1.183099e+00            1.231704e+00      1.255590e+00  ...   \n",
              "\n",
              "         Gender_Male  Customer Type_disloyal Customer  \\\n",
              "count  103904.000000                    103904.000000   \n",
              "mean        0.492541                         0.182678   \n",
              "std         0.499947                         0.386404   \n",
              "min         0.000000                         0.000000   \n",
              "25%         0.000000                         0.000000   \n",
              "50%         0.000000                         0.000000   \n",
              "75%         1.000000                         0.000000   \n",
              "max         1.000000                         1.000000   \n",
              "\n",
              "       Type of Travel_Personal Travel  Class_Business      Class_Eco  \\\n",
              "count                   103904.000000   103904.000000  103904.000000   \n",
              "mean                         0.310373        0.477989       0.449886   \n",
              "std                          0.462649        0.499518       0.497485   \n",
              "min                          0.000000        0.000000       0.000000   \n",
              "25%                          0.000000        0.000000       0.000000   \n",
              "50%                          0.000000        0.000000       0.000000   \n",
              "75%                          1.000000        1.000000       1.000000   \n",
              "max                          1.000000        1.000000       1.000000   \n",
              "\n",
              "       Class_Eco Plus  Flight Distance_binned_long  \\\n",
              "count   103904.000000                103904.000000   \n",
              "mean         0.072124                     0.053954   \n",
              "std          0.258695                     0.225927   \n",
              "min          0.000000                     0.000000   \n",
              "25%          0.000000                     0.000000   \n",
              "50%          0.000000                     0.000000   \n",
              "75%          0.000000                     0.000000   \n",
              "max          1.000000                     1.000000   \n",
              "\n",
              "       Flight Distance_binned_middle  Flight Distance_binned_short  \\\n",
              "count                  103904.000000                 103904.000000   \n",
              "mean                        0.207509                      0.738537   \n",
              "std                         0.405525                      0.439433   \n",
              "min                         0.000000                      0.000000   \n",
              "25%                         0.000000                      0.000000   \n",
              "50%                         0.000000                      1.000000   \n",
              "75%                         0.000000                      1.000000   \n",
              "max                         1.000000                      1.000000   \n",
              "\n",
              "       satisfaction_satisfied  \n",
              "count           103904.000000  \n",
              "mean                 0.433333  \n",
              "std                  0.495538  \n",
              "min                  0.000000  \n",
              "25%                  0.000000  \n",
              "50%                  0.000000  \n",
              "75%                  1.000000  \n",
              "max                  1.000000  \n",
              "\n",
              "[8 rows x 27 columns]"
            ],
            "text/html": [
              "\n",
              "  <div id=\"df-989a2d3f-a6ba-497c-9c0e-f2443891db38\">\n",
              "    <div class=\"colab-df-container\">\n",
              "      <div>\n",
              "<style scoped>\n",
              "    .dataframe tbody tr th:only-of-type {\n",
              "        vertical-align: middle;\n",
              "    }\n",
              "\n",
              "    .dataframe tbody tr th {\n",
              "        vertical-align: top;\n",
              "    }\n",
              "\n",
              "    .dataframe thead th {\n",
              "        text-align: right;\n",
              "    }\n",
              "</style>\n",
              "<table border=\"1\" class=\"dataframe\">\n",
              "  <thead>\n",
              "    <tr style=\"text-align: right;\">\n",
              "      <th></th>\n",
              "      <th>Age</th>\n",
              "      <th>Inflight wifi service</th>\n",
              "      <th>Departure/Arrival time convenient</th>\n",
              "      <th>Ease of Online booking</th>\n",
              "      <th>Gate location</th>\n",
              "      <th>Food and drink</th>\n",
              "      <th>Online boarding</th>\n",
              "      <th>Seat comfort</th>\n",
              "      <th>Inflight entertainment</th>\n",
              "      <th>On-board service</th>\n",
              "      <th>...</th>\n",
              "      <th>Gender_Male</th>\n",
              "      <th>Customer Type_disloyal Customer</th>\n",
              "      <th>Type of Travel_Personal Travel</th>\n",
              "      <th>Class_Business</th>\n",
              "      <th>Class_Eco</th>\n",
              "      <th>Class_Eco Plus</th>\n",
              "      <th>Flight Distance_binned_long</th>\n",
              "      <th>Flight Distance_binned_middle</th>\n",
              "      <th>Flight Distance_binned_short</th>\n",
              "      <th>satisfaction_satisfied</th>\n",
              "    </tr>\n",
              "  </thead>\n",
              "  <tbody>\n",
              "    <tr>\n",
              "      <th>count</th>\n",
              "      <td>1.039040e+05</td>\n",
              "      <td>1.039040e+05</td>\n",
              "      <td>1.039040e+05</td>\n",
              "      <td>1.039040e+05</td>\n",
              "      <td>1.039040e+05</td>\n",
              "      <td>1.039040e+05</td>\n",
              "      <td>1.039040e+05</td>\n",
              "      <td>1.039040e+05</td>\n",
              "      <td>1.039040e+05</td>\n",
              "      <td>1.039040e+05</td>\n",
              "      <td>...</td>\n",
              "      <td>103904.000000</td>\n",
              "      <td>103904.000000</td>\n",
              "      <td>103904.000000</td>\n",
              "      <td>103904.000000</td>\n",
              "      <td>103904.000000</td>\n",
              "      <td>103904.000000</td>\n",
              "      <td>103904.000000</td>\n",
              "      <td>103904.000000</td>\n",
              "      <td>103904.000000</td>\n",
              "      <td>103904.000000</td>\n",
              "    </tr>\n",
              "    <tr>\n",
              "      <th>mean</th>\n",
              "      <td>1.046283e-17</td>\n",
              "      <td>5.128841e-17</td>\n",
              "      <td>-1.615927e-16</td>\n",
              "      <td>1.364955e-16</td>\n",
              "      <td>1.094153e-18</td>\n",
              "      <td>1.717136e-16</td>\n",
              "      <td>-1.805352e-17</td>\n",
              "      <td>-5.450248e-17</td>\n",
              "      <td>-5.946036e-17</td>\n",
              "      <td>1.813558e-16</td>\n",
              "      <td>...</td>\n",
              "      <td>0.492541</td>\n",
              "      <td>0.182678</td>\n",
              "      <td>0.310373</td>\n",
              "      <td>0.477989</td>\n",
              "      <td>0.449886</td>\n",
              "      <td>0.072124</td>\n",
              "      <td>0.053954</td>\n",
              "      <td>0.207509</td>\n",
              "      <td>0.738537</td>\n",
              "      <td>0.433333</td>\n",
              "    </tr>\n",
              "    <tr>\n",
              "      <th>std</th>\n",
              "      <td>1.000005e+00</td>\n",
              "      <td>1.000005e+00</td>\n",
              "      <td>1.000005e+00</td>\n",
              "      <td>1.000005e+00</td>\n",
              "      <td>1.000005e+00</td>\n",
              "      <td>1.000005e+00</td>\n",
              "      <td>1.000005e+00</td>\n",
              "      <td>1.000005e+00</td>\n",
              "      <td>1.000005e+00</td>\n",
              "      <td>1.000005e+00</td>\n",
              "      <td>...</td>\n",
              "      <td>0.499947</td>\n",
              "      <td>0.386404</td>\n",
              "      <td>0.462649</td>\n",
              "      <td>0.499518</td>\n",
              "      <td>0.497485</td>\n",
              "      <td>0.258695</td>\n",
              "      <td>0.225927</td>\n",
              "      <td>0.405525</td>\n",
              "      <td>0.439433</td>\n",
              "      <td>0.495538</td>\n",
              "    </tr>\n",
              "    <tr>\n",
              "      <th>min</th>\n",
              "      <td>-2.142239e+00</td>\n",
              "      <td>-2.055758e+00</td>\n",
              "      <td>-2.006662e+00</td>\n",
              "      <td>-1.970731e+00</td>\n",
              "      <td>-2.330031e+00</td>\n",
              "      <td>-2.408473e+00</td>\n",
              "      <td>-2.408573e+00</td>\n",
              "      <td>-2.607418e+00</td>\n",
              "      <td>-2.519278e+00</td>\n",
              "      <td>-2.625348e+00</td>\n",
              "      <td>...</td>\n",
              "      <td>0.000000</td>\n",
              "      <td>0.000000</td>\n",
              "      <td>0.000000</td>\n",
              "      <td>0.000000</td>\n",
              "      <td>0.000000</td>\n",
              "      <td>0.000000</td>\n",
              "      <td>0.000000</td>\n",
              "      <td>0.000000</td>\n",
              "      <td>0.000000</td>\n",
              "      <td>0.000000</td>\n",
              "    </tr>\n",
              "    <tr>\n",
              "      <th>25%</th>\n",
              "      <td>-8.190404e-01</td>\n",
              "      <td>-5.495334e-01</td>\n",
              "      <td>-6.952452e-01</td>\n",
              "      <td>-5.410596e-01</td>\n",
              "      <td>-7.646142e-01</td>\n",
              "      <td>-9.041783e-01</td>\n",
              "      <td>-9.265454e-01</td>\n",
              "      <td>-1.091211e+00</td>\n",
              "      <td>-1.018885e+00</td>\n",
              "      <td>-1.072973e+00</td>\n",
              "      <td>...</td>\n",
              "      <td>0.000000</td>\n",
              "      <td>0.000000</td>\n",
              "      <td>0.000000</td>\n",
              "      <td>0.000000</td>\n",
              "      <td>0.000000</td>\n",
              "      <td>0.000000</td>\n",
              "      <td>0.000000</td>\n",
              "      <td>0.000000</td>\n",
              "      <td>0.000000</td>\n",
              "      <td>0.000000</td>\n",
              "    </tr>\n",
              "    <tr>\n",
              "      <th>50%</th>\n",
              "      <td>4.103858e-02</td>\n",
              "      <td>2.035790e-01</td>\n",
              "      <td>-3.953663e-02</td>\n",
              "      <td>1.737761e-01</td>\n",
              "      <td>1.809426e-02</td>\n",
              "      <td>-1.520308e-01</td>\n",
              "      <td>-1.855316e-01</td>\n",
              "      <td>4.249958e-01</td>\n",
              "      <td>4.815079e-01</td>\n",
              "      <td>4.794026e-01</td>\n",
              "      <td>...</td>\n",
              "      <td>0.000000</td>\n",
              "      <td>0.000000</td>\n",
              "      <td>0.000000</td>\n",
              "      <td>0.000000</td>\n",
              "      <td>0.000000</td>\n",
              "      <td>0.000000</td>\n",
              "      <td>0.000000</td>\n",
              "      <td>0.000000</td>\n",
              "      <td>1.000000</td>\n",
              "      <td>0.000000</td>\n",
              "    </tr>\n",
              "    <tr>\n",
              "      <th>75%</th>\n",
              "      <td>7.687977e-01</td>\n",
              "      <td>9.566913e-01</td>\n",
              "      <td>6.161719e-01</td>\n",
              "      <td>8.886119e-01</td>\n",
              "      <td>8.008027e-01</td>\n",
              "      <td>6.001168e-01</td>\n",
              "      <td>5.554822e-01</td>\n",
              "      <td>1.183099e+00</td>\n",
              "      <td>4.815079e-01</td>\n",
              "      <td>4.794026e-01</td>\n",
              "      <td>...</td>\n",
              "      <td>1.000000</td>\n",
              "      <td>0.000000</td>\n",
              "      <td>1.000000</td>\n",
              "      <td>1.000000</td>\n",
              "      <td>1.000000</td>\n",
              "      <td>0.000000</td>\n",
              "      <td>0.000000</td>\n",
              "      <td>0.000000</td>\n",
              "      <td>1.000000</td>\n",
              "      <td>1.000000</td>\n",
              "    </tr>\n",
              "    <tr>\n",
              "      <th>max</th>\n",
              "      <td>3.018235e+00</td>\n",
              "      <td>1.709804e+00</td>\n",
              "      <td>1.271880e+00</td>\n",
              "      <td>1.603448e+00</td>\n",
              "      <td>1.583511e+00</td>\n",
              "      <td>1.352264e+00</td>\n",
              "      <td>1.296496e+00</td>\n",
              "      <td>1.183099e+00</td>\n",
              "      <td>1.231704e+00</td>\n",
              "      <td>1.255590e+00</td>\n",
              "      <td>...</td>\n",
              "      <td>1.000000</td>\n",
              "      <td>1.000000</td>\n",
              "      <td>1.000000</td>\n",
              "      <td>1.000000</td>\n",
              "      <td>1.000000</td>\n",
              "      <td>1.000000</td>\n",
              "      <td>1.000000</td>\n",
              "      <td>1.000000</td>\n",
              "      <td>1.000000</td>\n",
              "      <td>1.000000</td>\n",
              "    </tr>\n",
              "  </tbody>\n",
              "</table>\n",
              "<p>8 rows × 27 columns</p>\n",
              "</div>\n",
              "      <button class=\"colab-df-convert\" onclick=\"convertToInteractive('df-989a2d3f-a6ba-497c-9c0e-f2443891db38')\"\n",
              "              title=\"Convert this dataframe to an interactive table.\"\n",
              "              style=\"display:none;\">\n",
              "        \n",
              "  <svg xmlns=\"http://www.w3.org/2000/svg\" height=\"24px\"viewBox=\"0 0 24 24\"\n",
              "       width=\"24px\">\n",
              "    <path d=\"M0 0h24v24H0V0z\" fill=\"none\"/>\n",
              "    <path d=\"M18.56 5.44l.94 2.06.94-2.06 2.06-.94-2.06-.94-.94-2.06-.94 2.06-2.06.94zm-11 1L8.5 8.5l.94-2.06 2.06-.94-2.06-.94L8.5 2.5l-.94 2.06-2.06.94zm10 10l.94 2.06.94-2.06 2.06-.94-2.06-.94-.94-2.06-.94 2.06-2.06.94z\"/><path d=\"M17.41 7.96l-1.37-1.37c-.4-.4-.92-.59-1.43-.59-.52 0-1.04.2-1.43.59L10.3 9.45l-7.72 7.72c-.78.78-.78 2.05 0 2.83L4 21.41c.39.39.9.59 1.41.59.51 0 1.02-.2 1.41-.59l7.78-7.78 2.81-2.81c.8-.78.8-2.07 0-2.86zM5.41 20L4 18.59l7.72-7.72 1.47 1.35L5.41 20z\"/>\n",
              "  </svg>\n",
              "      </button>\n",
              "      \n",
              "  <style>\n",
              "    .colab-df-container {\n",
              "      display:flex;\n",
              "      flex-wrap:wrap;\n",
              "      gap: 12px;\n",
              "    }\n",
              "\n",
              "    .colab-df-convert {\n",
              "      background-color: #E8F0FE;\n",
              "      border: none;\n",
              "      border-radius: 50%;\n",
              "      cursor: pointer;\n",
              "      display: none;\n",
              "      fill: #1967D2;\n",
              "      height: 32px;\n",
              "      padding: 0 0 0 0;\n",
              "      width: 32px;\n",
              "    }\n",
              "\n",
              "    .colab-df-convert:hover {\n",
              "      background-color: #E2EBFA;\n",
              "      box-shadow: 0px 1px 2px rgba(60, 64, 67, 0.3), 0px 1px 3px 1px rgba(60, 64, 67, 0.15);\n",
              "      fill: #174EA6;\n",
              "    }\n",
              "\n",
              "    [theme=dark] .colab-df-convert {\n",
              "      background-color: #3B4455;\n",
              "      fill: #D2E3FC;\n",
              "    }\n",
              "\n",
              "    [theme=dark] .colab-df-convert:hover {\n",
              "      background-color: #434B5C;\n",
              "      box-shadow: 0px 1px 3px 1px rgba(0, 0, 0, 0.15);\n",
              "      filter: drop-shadow(0px 1px 2px rgba(0, 0, 0, 0.3));\n",
              "      fill: #FFFFFF;\n",
              "    }\n",
              "  </style>\n",
              "\n",
              "      <script>\n",
              "        const buttonEl =\n",
              "          document.querySelector('#df-989a2d3f-a6ba-497c-9c0e-f2443891db38 button.colab-df-convert');\n",
              "        buttonEl.style.display =\n",
              "          google.colab.kernel.accessAllowed ? 'block' : 'none';\n",
              "\n",
              "        async function convertToInteractive(key) {\n",
              "          const element = document.querySelector('#df-989a2d3f-a6ba-497c-9c0e-f2443891db38');\n",
              "          const dataTable =\n",
              "            await google.colab.kernel.invokeFunction('convertToInteractive',\n",
              "                                                     [key], {});\n",
              "          if (!dataTable) return;\n",
              "\n",
              "          const docLinkHtml = 'Like what you see? Visit the ' +\n",
              "            '<a target=\"_blank\" href=https://colab.research.google.com/notebooks/data_table.ipynb>data table notebook</a>'\n",
              "            + ' to learn more about interactive tables.';\n",
              "          element.innerHTML = '';\n",
              "          dataTable['output_type'] = 'display_data';\n",
              "          await google.colab.output.renderOutput(dataTable, element);\n",
              "          const docLink = document.createElement('div');\n",
              "          docLink.innerHTML = docLinkHtml;\n",
              "          element.appendChild(docLink);\n",
              "        }\n",
              "      </script>\n",
              "    </div>\n",
              "  </div>\n",
              "  "
            ]
          },
          "metadata": {},
          "execution_count": 17
        }
      ]
    },
    {
      "cell_type": "code",
      "source": [
        "print(train_df.var(),'\\n')\n",
        "train_df.var().describe()"
      ],
      "metadata": {
        "colab": {
          "base_uri": "https://localhost:8080/"
        },
        "id": "0A6Rc_QKbAOJ",
        "outputId": "04f60bff-1db9-422f-8539-17cfcac1cfbd"
      },
      "execution_count": null,
      "outputs": [
        {
          "output_type": "stream",
          "name": "stdout",
          "text": [
            "Age                                  1.000010\n",
            "Inflight wifi service                1.000010\n",
            "Departure/Arrival time convenient    1.000010\n",
            "Ease of Online booking               1.000010\n",
            "Gate location                        1.000010\n",
            "Food and drink                       1.000010\n",
            "Online boarding                      1.000010\n",
            "Seat comfort                         1.000010\n",
            "Inflight entertainment               1.000010\n",
            "On-board service                     1.000010\n",
            "Leg room service                     1.000010\n",
            "Baggage handling                     1.000010\n",
            "Checkin service                      1.000010\n",
            "Inflight service                     1.000010\n",
            "Cleanliness                          1.000010\n",
            "Departure Delay in Minutes           1.000010\n",
            "Arrival Delay in Minutes             1.000010\n",
            "Gender_Male                          0.249947\n",
            "Customer Type_disloyal Customer      0.149308\n",
            "Type of Travel_Personal Travel       0.214044\n",
            "Class_Business                       0.249518\n",
            "Class_Eco                            0.247491\n",
            "Class_Eco Plus                       0.066923\n",
            "Flight Distance_binned_long          0.051043\n",
            "Flight Distance_binned_middle        0.164451\n",
            "Flight Distance_binned_short         0.193102\n",
            "satisfaction_satisfied               0.245558\n",
            "dtype: float64 \n",
            "\n"
          ]
        },
        {
          "output_type": "execute_result",
          "data": {
            "text/plain": [
              "count    27.000000\n",
              "mean      0.697465\n",
              "std       0.404389\n",
              "min       0.051043\n",
              "25%       0.246524\n",
              "50%       1.000010\n",
              "75%       1.000010\n",
              "max       1.000010\n",
              "dtype: float64"
            ]
          },
          "metadata": {},
          "execution_count": 18
        }
      ]
    },
    {
      "cell_type": "code",
      "source": [
        "from sklearn.feature_selection import VarianceThreshold\n",
        "def var_feature_sel(var_threshold):\n",
        "  sel = VarianceThreshold(threshold = var_threshold)\n",
        "  sel.fit_transform(train_df)\n",
        "  sel.get_support() # a list of True/False\n",
        "  return train_df.columns[sel.get_support()]"
      ],
      "metadata": {
        "id": "vQKtHjxXXGnU"
      },
      "execution_count": null,
      "outputs": []
    },
    {
      "cell_type": "code",
      "source": [
        "print(len(var_feature_sel(0.9)))\n",
        "var_feature_sel(0.9)"
      ],
      "metadata": {
        "colab": {
          "base_uri": "https://localhost:8080/"
        },
        "id": "h-HJZ6sYXfNT",
        "outputId": "babef055-7b41-4d58-9bf1-7c885928d707"
      },
      "execution_count": null,
      "outputs": [
        {
          "output_type": "stream",
          "name": "stdout",
          "text": [
            "17\n"
          ]
        },
        {
          "output_type": "execute_result",
          "data": {
            "text/plain": [
              "Index(['Age', 'Inflight wifi service', 'Departure/Arrival time convenient',\n",
              "       'Ease of Online booking', 'Gate location', 'Food and drink',\n",
              "       'Online boarding', 'Seat comfort', 'Inflight entertainment',\n",
              "       'On-board service', 'Leg room service', 'Baggage handling',\n",
              "       'Checkin service', 'Inflight service', 'Cleanliness',\n",
              "       'Departure Delay in Minutes', 'Arrival Delay in Minutes'],\n",
              "      dtype='object')"
            ]
          },
          "metadata": {},
          "execution_count": 20
        }
      ]
    },
    {
      "cell_type": "code",
      "source": [
        "print(len(var_feature_sel(1)))\n",
        "var_feature_sel(1)"
      ],
      "metadata": {
        "colab": {
          "base_uri": "https://localhost:8080/"
        },
        "id": "jFretd_N1xEL",
        "outputId": "7080a9fe-556d-4810-ef7c-c92dec55fb5a"
      },
      "execution_count": null,
      "outputs": [
        {
          "output_type": "stream",
          "name": "stdout",
          "text": [
            "10\n"
          ]
        },
        {
          "output_type": "execute_result",
          "data": {
            "text/plain": [
              "Index(['Age', 'Inflight wifi service', 'Gate location', 'Online boarding',\n",
              "       'Inflight entertainment', 'Leg room service', 'Baggage handling',\n",
              "       'Checkin service', 'Cleanliness', 'Arrival Delay in Minutes'],\n",
              "      dtype='object')"
            ]
          },
          "metadata": {},
          "execution_count": 21
        }
      ]
    },
    {
      "cell_type": "code",
      "source": [
        "# new datasets with selected features\n",
        "train_df_var_10 = train_df[var_feature_sel(1)]\n",
        "train_df_var_17 = train_df[var_feature_sel(0.9)]"
      ],
      "metadata": {
        "id": "M0yLJSdyxdiq"
      },
      "execution_count": null,
      "outputs": []
    },
    {
      "cell_type": "code",
      "source": [
        "X = train_df_var_10  #features\n",
        "y = train_df['satisfaction_satisfied']  #target label\n",
        "X_train, X_test, y_train, y_test = train_test_split(X, y, test_size=0.4, random_state=42)\n",
        "run()"
      ],
      "metadata": {
        "colab": {
          "base_uri": "https://localhost:8080/"
        },
        "id": "auk0t0fvdlpY",
        "outputId": "0bf38a8c-f15d-4870-c9da-707312ac1d07"
      },
      "execution_count": null,
      "outputs": [
        {
          "output_type": "stream",
          "name": "stdout",
          "text": [
            "Simple Accuracy: 0.9187238342716905\n",
            "CV Accuracy: 0.9188674160763782\n",
            "CV AUC: 0.9155829242363708\n",
            "Tree object node count: 879\n",
            "Confusion matrix:\n",
            " [[55359  3520]\n",
            " [ 4910 40115]]\n",
            "FPR: 0.0806691875787785\n"
          ]
        }
      ]
    },
    {
      "cell_type": "code",
      "source": [
        "X = train_df_var_17  #features\n",
        "y = train_df['satisfaction_satisfied']  #target label\n",
        "X_train, X_test, y_train, y_test = train_test_split(X, y, test_size=0.4, random_state=42)\n",
        "run()"
      ],
      "metadata": {
        "colab": {
          "base_uri": "https://localhost:8080/"
        },
        "id": "o9LfUhrnpM6l",
        "outputId": "f9e4a106-c66f-405b-8b08-49c6c86f38ac"
      },
      "execution_count": null,
      "outputs": [
        {
          "output_type": "stream",
          "name": "stdout",
          "text": [
            "Simple Accuracy: 0.9348443289543333\n",
            "CV Accuracy: 0.9348629504157684\n",
            "CV AUC: 0.9309900251014985\n",
            "Tree object node count: 879\n",
            "Confusion matrix:\n",
            " [[56526  2353]\n",
            " [ 4415 40610]]\n",
            "FPR: 0.05476805623443428\n"
          ]
        }
      ]
    },
    {
      "cell_type": "markdown",
      "source": [
        "## Univariate feature selection"
      ],
      "metadata": {
        "id": "-BVxBF0vVaZ6"
      }
    },
    {
      "cell_type": "code",
      "source": [
        "from sklearn.feature_selection import SelectKBest\n",
        "from sklearn.feature_selection import f_classif\n",
        "def selectkbest(k):\n",
        "  X = train_df.iloc[:,0:26]  #features\n",
        "  y = train_df['satisfaction_satisfied']  #target label\n",
        "  X_train, X_test, y_train, y_test = train_test_split(X, y, test_size=0.4, random_state=42)\n",
        "\n",
        "  sel_best = SelectKBest(f_classif, k=k)\n",
        "  sel_best.fit_transform(X, y)\n",
        "  sel_best.get_support()\n",
        "  return train_df.iloc[:,:26].columns[sel_best.get_support()]"
      ],
      "metadata": {
        "id": "OP3wOfZHfvG4"
      },
      "execution_count": null,
      "outputs": []
    },
    {
      "cell_type": "code",
      "source": [
        "from sklearn.feature_selection import SelectKBest\n",
        "from sklearn.feature_selection import f_classif\n",
        "ls = []\n",
        "for i in range(27):\n",
        "  sel_best = SelectKBest(f_classif, k=i)\n",
        "  sel_best.fit_transform(X, y)\n",
        "  sel_best.get_support()\n",
        "  for t in train_df.iloc[:,:26].columns[sel_best.get_support()]:\n",
        "    if t not in ls:\n",
        "      ls.append(t)\n",
        "ls"
      ],
      "metadata": {
        "colab": {
          "base_uri": "https://localhost:8080/"
        },
        "outputId": "aa94b5cb-cbca-4df3-9136-a38b8a418107",
        "id": "UYYaUhfc4acl",
        "collapsed": true
      },
      "execution_count": null,
      "outputs": [
        {
          "output_type": "stream",
          "name": "stderr",
          "text": [
            "/usr/local/lib/python3.10/dist-packages/sklearn/feature_selection/_base.py:96: UserWarning: No features were selected: either the data is too noisy or the selection test too strict.\n",
            "  warnings.warn(\n"
          ]
        },
        {
          "output_type": "execute_result",
          "data": {
            "text/plain": [
              "['Class_Business',\n",
              " 'Online boarding',\n",
              " 'Class_Eco',\n",
              " 'Type of Travel_Personal Travel',\n",
              " 'Inflight entertainment',\n",
              " 'Seat comfort',\n",
              " 'On-board service',\n",
              " 'Leg room service',\n",
              " 'Cleanliness',\n",
              " 'Flight Distance_binned_short',\n",
              " 'Inflight wifi service',\n",
              " 'Baggage handling',\n",
              " 'Inflight service',\n",
              " 'Checkin service',\n",
              " 'Flight Distance_binned_middle',\n",
              " 'Food and drink',\n",
              " 'Customer Type_disloyal Customer',\n",
              " 'Ease of Online booking',\n",
              " 'Flight Distance_binned_long',\n",
              " 'Age',\n",
              " 'Class_Eco Plus',\n",
              " 'Arrival Delay in Minutes',\n",
              " 'Departure/Arrival time convenient',\n",
              " 'Departure Delay in Minutes',\n",
              " 'Gender_Male',\n",
              " 'Gate location']"
            ]
          },
          "metadata": {},
          "execution_count": 101
        }
      ]
    },
    {
      "cell_type": "code",
      "source": [
        "n = range(10, 20)\n",
        "cv_acc = []\n",
        "\n",
        "for i in n:\n",
        "  X = train_df[selectkbest(i)]  #features\n",
        "  y = train_df['satisfaction_satisfied']  #target label\n",
        "  X_train, X_test, y_train, y_test = train_test_split(X, y, test_size=0.4, random_state=42)\n",
        "  \n",
        "  model_tunning = DecisionTreeClassifier(criterion='entropy', max_leaf_nodes=440, random_state=42)\n",
        "  model_tunning.fit(X_train, y_train)\n",
        "\n",
        "  y_pred_cv = cross_val_predict(model_tunning, X, y, cv=5)\n",
        "  cv_acc.append(accuracy_score(y, y_pred_cv))\n",
        "\n",
        "print('Best n for number of features:', n[cv_acc.index(max(cv_acc))], '(cv accuracy =', max(cv_acc), ')')"
      ],
      "metadata": {
        "colab": {
          "base_uri": "https://localhost:8080/"
        },
        "id": "V3s9s6Q-3n1e",
        "outputId": "b86cb66f-1a3c-4292-805d-d15cf39828e6"
      },
      "execution_count": null,
      "outputs": [
        {
          "output_type": "stream",
          "name": "stdout",
          "text": [
            "Best n for number of features: 17 (cv accuracy = 0.9582980443486295 )\n"
          ]
        }
      ]
    },
    {
      "cell_type": "code",
      "source": [
        "X = train_df[selectkbest(17)]  #features\n",
        "y = train_df['satisfaction_satisfied']  #target label\n",
        "X_train, X_test, y_train, y_test = train_test_split(X, y, test_size=0.4, random_state=42)\n",
        "run()"
      ],
      "metadata": {
        "colab": {
          "base_uri": "https://localhost:8080/"
        },
        "id": "TV10pPBq8PPK",
        "outputId": "2090499f-919a-41e1-c041-eba628f6fbcc"
      },
      "execution_count": null,
      "outputs": [
        {
          "output_type": "stream",
          "name": "stdout",
          "text": [
            "Simple Accuracy: 0.957292719310909\n",
            "CV Accuracy: 0.9582980443486295\n",
            "CV AUC: 0.9550779250369567\n",
            "Tree object node count: 879\n",
            "Confusion matrix:\n",
            " [[57656  1223]\n",
            " [ 3110 41915]]\n",
            "FPR: 0.028350873939450138\n"
          ]
        }
      ]
    },
    {
      "cell_type": "markdown",
      "source": [
        "## Recursive feature elimination"
      ],
      "metadata": {
        "id": "YdfrGc_PVfNT"
      }
    },
    {
      "cell_type": "code",
      "source": [
        "X = train_df.iloc[:,0:26]  #features\n",
        "y = train_df['satisfaction_satisfied']  #target label\n",
        "X_train, X_test, y_train, y_test = train_test_split(X, y, test_size=0.4, random_state=42)\n",
        "\n",
        "model = DecisionTreeClassifier(random_state=42)\n",
        "model.fit(X_train, y_train)\n",
        "\n",
        "# test model\n",
        "y_pred = model.predict(X_test)\n",
        "print('Accuracy score:', accuracy_score(y_test, y_pred))"
      ],
      "metadata": {
        "colab": {
          "base_uri": "https://localhost:8080/"
        },
        "id": "Mbj0Q9QY23Et",
        "outputId": "540c0800-029c-4236-c88d-0d0439bda04e"
      },
      "execution_count": null,
      "outputs": [
        {
          "output_type": "stream",
          "name": "stdout",
          "text": [
            "Accuracy score: 0.9454549829170877\n"
          ]
        }
      ]
    },
    {
      "cell_type": "code",
      "source": [
        "len(train_df.columns)"
      ],
      "metadata": {
        "id": "XjZ3myuz-Bpa",
        "colab": {
          "base_uri": "https://localhost:8080/"
        },
        "outputId": "ab9538e1-6725-4e07-f0ff-5f7d4a31efe1"
      },
      "execution_count": null,
      "outputs": [
        {
          "output_type": "execute_result",
          "data": {
            "text/plain": [
              "27"
            ]
          },
          "metadata": {},
          "execution_count": 87
        }
      ]
    },
    {
      "cell_type": "code",
      "source": [
        "f_i = list(zip(train_df.columns, model.feature_importances_))\n",
        "f_i.sort(key = lambda x : x[1])\n",
        "plt.barh([x[0] for x in f_i],[x[1] for x in f_i])\n",
        "\n",
        "plt.show()"
      ],
      "metadata": {
        "id": "jWMd9FcTwu14",
        "colab": {
          "base_uri": "https://localhost:8080/",
          "height": 430
        },
        "outputId": "d5468c6c-781c-4a2c-c630-0ea38e183e4c"
      },
      "execution_count": null,
      "outputs": [
        {
          "output_type": "display_data",
          "data": {
            "text/plain": [
              "<Figure size 640x480 with 1 Axes>"
            ],
            "image/png": "[encoded data removed]"
          },
          "metadata": {}
        }
      ]
    },
    {
      "cell_type": "code",
      "source": [
        "def rfe(k):\n",
        "  X = train_df.iloc[:,0:26]  #features\n",
        "  y = train_df['satisfaction_satisfied']  #target label\n",
        "  X_train, X_test, y_train, y_test = train_test_split(X, y, test_size=0.4, random_state=42)\n",
        "\n",
        "  model = DecisionTreeClassifier(random_state=42)\n",
        "  model.fit(X_train, y_train)\n",
        "  f_i = list(zip(train_df.columns, model.feature_importances_))\n",
        "  f_i.sort(key = lambda x : x[1], reverse=True)\n",
        "  f_k = [f_i[i][0] for i in range(k)]\n",
        "  return f_k"
      ],
      "metadata": {
        "id": "ouGw-K1n4P7y"
      },
      "execution_count": null,
      "outputs": []
    },
    {
      "cell_type": "code",
      "source": [
        "model.feature_importances_"
      ],
      "metadata": {
        "colab": {
          "base_uri": "https://localhost:8080/"
        },
        "id": "rywjYWgo7bNc",
        "outputId": "fe2b0689-356f-4727-d46d-2a4d76ade18b"
      },
      "execution_count": null,
      "outputs": [
        {
          "output_type": "execute_result",
          "data": {
            "text/plain": [
              "array([0.02766251, 0.17726932, 0.00556886, 0.00476826, 0.02029665,\n",
              "       0.00487805, 0.36352008, 0.01509159, 0.04770189, 0.00942153,\n",
              "       0.01359945, 0.01803802, 0.02978305, 0.0133965 , 0.01106076,\n",
              "       0.01003016, 0.01021186, 0.00240283, 0.04114176, 0.14864845,\n",
              "       0.01899995, 0.00099063, 0.00111475, 0.00041524, 0.00143294,\n",
              "       0.00255493])"
            ]
          },
          "metadata": {},
          "execution_count": 28
        }
      ]
    },
    {
      "cell_type": "code",
      "source": [
        "n = range(10, 20)\n",
        "cv_acc = []\n",
        "\n",
        "for i in n:\n",
        "  X = train_df[rfe(i)]  #features\n",
        "  y = train_df['satisfaction_satisfied']  #target label\n",
        "  X_train, X_test, y_train, y_test = train_test_split(X, y, test_size=0.4, random_state=42)\n",
        "  \n",
        "  model_tunning = DecisionTreeClassifier(criterion='entropy', max_leaf_nodes=440, random_state=42)\n",
        "  model_tunning.fit(X_train, y_train)\n",
        "\n",
        "  y_pred_cv = cross_val_predict(model_tunning, X, y, cv=5)\n",
        "  cv_acc.append(accuracy_score(y, y_pred_cv))\n",
        "\n",
        "print('Best n for number of features:', n[cv_acc.index(max(cv_acc))], '(cv accuracy =', max(cv_acc), ')')"
      ],
      "metadata": {
        "colab": {
          "base_uri": "https://localhost:8080/"
        },
        "id": "sHngSJW695_X",
        "outputId": "74f9a283-b09b-472f-e66f-a8c03cdf7673"
      },
      "execution_count": null,
      "outputs": [
        {
          "output_type": "stream",
          "name": "stdout",
          "text": [
            "Best n for number of features: 14 (cv accuracy = 0.959857175854635 )\n"
          ]
        }
      ]
    },
    {
      "cell_type": "code",
      "source": [
        "X = train_df[rfe(14)]  #features\n",
        "y = train_df['satisfaction_satisfied']  #target label\n",
        "X_train, X_test, y_train, y_test = train_test_split(X, y, test_size=0.4, random_state=42)\n",
        "run()"
      ],
      "metadata": {
        "colab": {
          "base_uri": "https://localhost:8080/"
        },
        "id": "LaO__CyJ-3hX",
        "outputId": "93a267d6-2591-40fd-bb01-8a85e8a28435"
      },
      "execution_count": null,
      "outputs": [
        {
          "output_type": "stream",
          "name": "stdout",
          "text": [
            "Simple Accuracy: 0.9598190654925172\n",
            "CV Accuracy: 0.959857175854635\n",
            "CV AUC: 0.9567436651601783\n",
            "Tree object node count: 879\n",
            "Confusion matrix:\n",
            " [[57707  1172]\n",
            " [ 2999 42026]]\n",
            "FPR: 0.027130885689152274\n"
          ]
        }
      ]
    },
    {
      "cell_type": "markdown",
      "source": [
        "## Feature selection using SelectFromModel (tree-based)"
      ],
      "metadata": {
        "id": "weiqRO-sVkFB"
      }
    },
    {
      "cell_type": "code",
      "source": [
        "from sklearn.ensemble import ExtraTreesClassifier\n",
        "from sklearn.feature_selection import SelectFromModel\n",
        "\n",
        "X = train_df.iloc[:,0:26]  #features\n",
        "y = train_df['satisfaction_satisfied']  #target label\n",
        "X_train, X_test, y_train, y_test = train_test_split(X, y, test_size=0.4, random_state=42)\n",
        "\n",
        "clf = ExtraTreesClassifier(n_estimators=50)\n",
        "clf = clf.fit(X, y)\n",
        "\n",
        "model = SelectFromModel(clf, prefit=True)\n",
        "X_new = model.transform(X)"
      ],
      "metadata": {
        "colab": {
          "base_uri": "https://localhost:8080/"
        },
        "id": "KaInDi_tjVyf",
        "outputId": "a3c3ff97-7123-4a89-b6f4-00425a2cf3de"
      },
      "execution_count": null,
      "outputs": [
        {
          "output_type": "stream",
          "name": "stderr",
          "text": [
            "/usr/local/lib/python3.10/dist-packages/sklearn/base.py:432: UserWarning: X has feature names, but SelectFromModel was fitted without feature names\n",
            "  warnings.warn(\n"
          ]
        }
      ]
    },
    {
      "cell_type": "code",
      "source": [
        "clf.feature_importances_"
      ],
      "metadata": {
        "colab": {
          "base_uri": "https://localhost:8080/"
        },
        "id": "mDXXEp-wjw1b",
        "outputId": "8d45e751-a0f2-467f-9461-904ddda9b8cd"
      },
      "execution_count": null,
      "outputs": [
        {
          "output_type": "execute_result",
          "data": {
            "text/plain": [
              "array([0.02226898, 0.14074457, 0.01809379, 0.0365893 , 0.01838358,\n",
              "       0.01290605, 0.12464581, 0.04604576, 0.05299471, 0.0326404 ,\n",
              "       0.03077389, 0.03398879, 0.03035348, 0.02650153, 0.02581269,\n",
              "       0.01137922, 0.01170498, 0.00733958, 0.04661074, 0.1045907 ,\n",
              "       0.07583858, 0.06333713, 0.00536185, 0.00139678, 0.00597576,\n",
              "       0.01372135])"
            ]
          },
          "metadata": {},
          "execution_count": 77
        }
      ]
    },
    {
      "cell_type": "code",
      "source": [
        "f_i = list(zip(train_df.columns, clf.feature_importances_))\n",
        "f_i.sort(key = lambda x : x[1])\n",
        "plt.barh([x[0] for x in f_i],[x[1] for x in f_i])\n",
        "\n",
        "plt.show()"
      ],
      "metadata": {
        "colab": {
          "base_uri": "https://localhost:8080/",
          "height": 430
        },
        "id": "asIqa_VLj5sn",
        "outputId": "353bb3b9-4913-4e32-ee8c-fcf8cf33adf1"
      },
      "execution_count": null,
      "outputs": [
        {
          "output_type": "display_data",
          "data": {
            "text/plain": [
              "<Figure size 640x480 with 1 Axes>"
            ],
            "image/png": "[encoded data removed]"
          },
          "metadata": {}
        }
      ]
    },
    {
      "cell_type": "code",
      "source": [
        "clf = ExtraTreesClassifier(n_estimators=50)\n",
        "clf = clf.fit(X, y)\n",
        "\n",
        "def selectfrommodel(k):\n",
        "  f_i = list(zip(train_df.columns, clf.feature_importances_))\n",
        "  f_i.sort(key = lambda x : x[1], reverse=True)\n",
        "  f_k = [f_i[i][0] for i in range(k)]\n",
        "  return f_k"
      ],
      "metadata": {
        "id": "oy9IQrE59CBh"
      },
      "execution_count": null,
      "outputs": []
    },
    {
      "cell_type": "code",
      "source": [
        "n = range(10, 20)\n",
        "cv_acc = []\n",
        "\n",
        "for i in n:\n",
        "  X = train_df[selectfrommodel(i)]  #features\n",
        "  y = train_df['satisfaction_satisfied']  #target label\n",
        "  X_train, X_test, y_train, y_test = train_test_split(X, y, test_size=0.4, random_state=42)\n",
        "  \n",
        "  model_tunning = DecisionTreeClassifier(criterion='entropy', max_leaf_nodes=440, random_state=42)\n",
        "  model_tunning.fit(X_train, y_train)\n",
        "\n",
        "  y_pred_cv = cross_val_predict(model_tunning, X, y, cv=5)\n",
        "  cv_acc.append(accuracy_score(y, y_pred_cv))\n",
        "\n",
        "print('Best n for number of features:', n[cv_acc.index(max(cv_acc))], '(cv accuracy =', max(cv_acc), ')')"
      ],
      "metadata": {
        "colab": {
          "base_uri": "https://localhost:8080/"
        },
        "id": "bRvQY51Y_9oT",
        "outputId": "be25baf0-0077-4f24-94db-d79075eeeb68"
      },
      "execution_count": null,
      "outputs": [
        {
          "output_type": "stream",
          "name": "stdout",
          "text": [
            "Best n for number of features: 19 (cv accuracy = 0.960232522328303 )\n"
          ]
        }
      ]
    },
    {
      "cell_type": "code",
      "source": [
        "X = train_df[selectfrommodel(19)]  #features\n",
        "y = train_df['satisfaction_satisfied']  #target label\n",
        "X_train, X_test, y_train, y_test = train_test_split(X, y, test_size=0.4, random_state=42)\n",
        "run()"
      ],
      "metadata": {
        "colab": {
          "base_uri": "https://localhost:8080/"
        },
        "id": "mCYp3ucEAKMj",
        "outputId": "7509817e-ddd3-4a15-f2a9-ce5d811523cf"
      },
      "execution_count": null,
      "outputs": [
        {
          "output_type": "stream",
          "name": "stdout",
          "text": [
            "Simple Accuracy: 0.9604927578076127\n",
            "CV Accuracy: 0.960232522328303\n",
            "CV AUC: 0.9574093104050743\n",
            "Tree object node count: 879\n",
            "Confusion matrix:\n",
            " [[57618  1261]\n",
            " [ 2871 42154]]\n",
            "FPR: 0.02904526085454336\n"
          ]
        }
      ]
    },
    {
      "cell_type": "code",
      "source": [
        "# save new train set\n",
        "train_df_selectfrommodel_19 = train_df[selectfrommodel(19)]\n",
        "train_df_selectfrommodel_19['satisfaction_satisfied'] = train_df['satisfaction_satisfied']\n",
        "file_name = 'train_selectfrommodel_top19.csv'\n",
        "loc = ''\n",
        "# loc = '/content/drive/MyDrive/ISOM3360/ISOM3360 group project/Cathy_Data preparation, Decision tree/'\n",
        "train_df_selectfrommodel_19.to_csv(loc + file_name)"
      ],
      "metadata": {
        "colab": {
          "base_uri": "https://localhost:8080/"
        },
        "id": "bbEJZz2TId5V",
        "outputId": "b5a0a7e4-6142-4a62-8ac8-bb190c8b55aa"
      },
      "execution_count": null,
      "outputs": [
        {
          "output_type": "stream",
          "name": "stderr",
          "text": [
            "<ipython-input-159-60b54f20d8b6>:2: SettingWithCopyWarning: \n",
            "A value is trying to be set on a copy of a slice from a DataFrame.\n",
            "Try using .loc[row_indexer,col_indexer] = value instead\n",
            "\n",
            "See the caveats in the documentation: https://pandas.pydata.org/pandas-docs/stable/user_guide/indexing.html#returning-a-view-versus-a-copy\n",
            "  train_df_selectfrommodel_19['satisfaction_satisfied'] = train_df['satisfaction_satisfied']\n"
          ]
        }
      ]
    },
    {
      "cell_type": "code",
      "source": [
        "# save new test set\n",
        "file_name = 'test_processed (all standardization).csv'\n",
        "loc = ''\n",
        "# loc = '/content/drive/MyDrive/ISOM3360/ISOM3360 group project/Cathy_Data preparation, Decision tree/'\n",
        "test = pd.read_csv(loc+file_name)\n",
        "test_df = test.copy()\n",
        "\n",
        "test_df_selectfrommodel_19 = test_df[selectfrommodel(19)]\n",
        "test_df_selectfrommodel_19['satisfaction_satisfied'] = test_df['satisfaction_satisfied']\n",
        "file_name = 'test_selectfrommodel_top19.csv'\n",
        "train_df_selectfrommodel_19.to_csv(loc + file_name)"
      ],
      "metadata": {
        "colab": {
          "base_uri": "https://localhost:8080/"
        },
        "id": "WR7GQU69NE5i",
        "outputId": "a9348f70-509c-4d7c-e167-7457f5206200"
      },
      "execution_count": null,
      "outputs": [
        {
          "output_type": "stream",
          "name": "stderr",
          "text": [
            "<ipython-input-161-daf887cb3426>:8: SettingWithCopyWarning: \n",
            "A value is trying to be set on a copy of a slice from a DataFrame.\n",
            "Try using .loc[row_indexer,col_indexer] = value instead\n",
            "\n",
            "See the caveats in the documentation: https://pandas.pydata.org/pandas-docs/stable/user_guide/indexing.html#returning-a-view-versus-a-copy\n",
            "  test_df_selectfrommodel_19['satisfaction_satisfied'] = test_df['satisfaction_satisfied']\n"
          ]
        }
      ]
    },
    {
      "cell_type": "markdown",
      "source": [
        "## Overall top 5"
      ],
      "metadata": {
        "id": "Ni9eNMBJrPYv"
      }
    },
    {
      "cell_type": "code",
      "source": [
        "X = train_df[['Inflight wifi service', 'Online boarding', 'Type of Travel_Personal Travel', 'Class_Business', 'Inflight entertainment']]  #features\n",
        "y = train_df['satisfaction_satisfied']  #target label\n",
        "X_train, X_test, y_train, y_test = train_test_split(X, y, test_size=0.4, random_state=42)\n",
        "run()"
      ],
      "metadata": {
        "id": "nZFO29P9rOJY",
        "colab": {
          "base_uri": "https://localhost:8080/"
        },
        "outputId": "7c4b7bd9-9c45-42cd-8113-02552c3068ca"
      },
      "execution_count": null,
      "outputs": [
        {
          "output_type": "stream",
          "name": "stdout",
          "text": [
            "Simple Accuracy: 0.9269043838121361\n",
            "CV Accuracy: 0.9263358484755159\n",
            "CV AUC: 0.9229957892073128\n",
            "Tree object node count: 553\n",
            "Confusion matrix:\n",
            " [[55820  3059]\n",
            " [ 4595 40430]]\n",
            "FPR: 0.07033962611235026\n"
          ]
        }
      ]
    },
    {
      "cell_type": "markdown",
      "source": [
        "## Sequential Feature Selection¶"
      ],
      "metadata": {
        "id": "1iMqK5NXVozK"
      }
    }
  ]
}