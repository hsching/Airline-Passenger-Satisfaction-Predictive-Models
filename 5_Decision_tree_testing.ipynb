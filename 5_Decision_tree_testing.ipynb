{
  "nbformat": 4,
  "nbformat_minor": 0,
  "metadata": {
    "colab": {
      "provenance": [],
      "authorship_tag": "ABX9TyME12dd3M1M96nZWkyW/j7F",
      "include_colab_link": true
    },
    "kernelspec": {
      "name": "python3",
      "display_name": "Python 3"
    },
    "language_info": {
      "name": "python"
    }
  },
  "cells": [
    {
      "cell_type": "markdown",
      "metadata": {
        "id": "view-in-github",
        "colab_type": "text"
      },
      "source": [
        "<a href=\"https://colab.research.google.com/github/hsching/Airline-Passenger-Satisfaction-Predictive-Models/blob/main/5_Decision_tree_testing.ipynb\" target=\"_parent\"><img src=\"https://colab.research.google.com/assets/colab-badge.svg\" alt=\"Open In Colab\"/></a>"
      ]
    },
    {
      "cell_type": "code",
      "execution_count": null,
      "metadata": {
        "id": "LYVi5gSiJsuC",
        "colab": {
          "base_uri": "https://localhost:8080/"
        },
        "outputId": "864af78e-2de5-4f29-857e-21bfdf5a4dc6"
      },
      "outputs": [
        {
          "output_type": "stream",
          "name": "stdout",
          "text": [
            "Mounted at /content/drive\n"
          ]
        }
      ],
      "source": [
        "from google.colab import drive\n",
        "drive.mount('/content/drive')"
      ]
    },
    {
      "cell_type": "code",
      "source": [
        "import pandas as pd\n",
        "from sklearn.tree import DecisionTreeClassifier\n",
        "from sklearn.metrics import accuracy_score\n",
        "from sklearn.metrics import confusion_matrix\n",
        "from sklearn.metrics import roc_curve, auc\n",
        "from sklearn.model_selection import cross_val_predict"
      ],
      "metadata": {
        "id": "rkU0Eew6Q-lF"
      },
      "execution_count": null,
      "outputs": []
    },
    {
      "cell_type": "code",
      "source": [
        "# load train dataset\n",
        "file_name = 'train_selectfrommodel_top19.csv'\n",
        "loc = ''\n",
        "# loc = '/content/drive/MyDrive/ISOM3360/ISOM3360 group project/Cathy_Data preparation, Decision tree/'\n",
        "train = pd.read_csv(loc+file_name, index_col=0)\n",
        "train_df = train.copy()\n",
        "X_train = train_df.iloc[:,:19]\n",
        "y_train = train_df['satisfaction_satisfied']\n",
        "\n",
        "# load test dataset\n",
        "file_name = 'test_selectfrommodel_top19.csv'\n",
        "test = pd.read_csv(loc+file_name, index_col=0)\n",
        "test_df = test.copy()\n",
        "X_test = test_df.iloc[:,:19]\n",
        "y_test = test_df['satisfaction_satisfied']"
      ],
      "metadata": {
        "id": "7oMhC7RnJ9MF"
      },
      "execution_count": null,
      "outputs": []
    },
    {
      "cell_type": "code",
      "source": [
        "model = DecisionTreeClassifier(criterion='entropy', max_leaf_nodes=440, random_state=42)\n",
        "model.fit(X_train, y_train)\n",
        "\n",
        "y_pred_test = model.predict(X_test)\n",
        "y_pred_cv = cross_val_predict(model, X_test, y_test)\n",
        "\n",
        "tree_fpr, tree_tpr, thresholds = roc_curve(y_test, y_pred_cv)\n",
        "tree_auc = auc(tree_fpr, tree_tpr)\n",
        "\n",
        "cm = confusion_matrix(y_test, y_pred_cv)\n",
        "\n",
        "print('Simple Accuracy:', accuracy_score(y_test, y_pred_test))\n",
        "print('Cross-val Accuracy:', accuracy_score(y_test, y_pred_cv))\n",
        "print('CV AUC:', tree_auc)\n",
        "print('CV Confusion Matrix:\\n', cm)\n",
        "print('CV FPR:', cm[0][1]/(cm[0][1]+cm[1][1]))\n",
        "print('CV FNR:', cm[1][0]/(cm[1][0]+cm[0][0]))"
      ],
      "metadata": {
        "id": "2SgBWofjLdct",
        "colab": {
          "base_uri": "https://localhost:8080/"
        },
        "outputId": "29bb2f95-c3ba-41a0-940c-9ed174677b0f"
      },
      "execution_count": null,
      "outputs": [
        {
          "output_type": "stream",
          "name": "stdout",
          "text": [
            "Simple Accuracy: 0.9650639051432092\n",
            "Cross-val Accuracy: 0.960232522328303\n",
            "CV AUC: 0.9574093104050743\n",
            "CV Confusion Matrix:\n",
            " [[57618  1261]\n",
            " [ 2871 42154]]\n",
            "CV FPR: 0.02904526085454336\n",
            "CV FNR: 0.04746317512274959\n"
          ]
        }
      ]
    }
  ]
}