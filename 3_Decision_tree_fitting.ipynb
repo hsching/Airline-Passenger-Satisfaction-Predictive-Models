{
  "nbformat": 4,
  "nbformat_minor": 0,
  "metadata": {
    "colab": {
      "provenance": [],
      "collapsed_sections": [
        "2SWJPdJLbTd5",
        "GAZ6cPm7Cvlf",
        "kubAwIEGmx3H",
        "X4RsvdPqC_YA",
        "CTwXqTV8KufO",
        "niFqzWLwRkx2",
        "ENyszhROUGdD",
        "-LrsX5SsendZ",
        "JkLHvJ6TEKEx",
        "b6JOi-tuGL2R",
        "3rw1hsr5Gphy",
        "ubPcUqtvHBG-",
        "QdSNdZhbIr_0",
        "9luwzOOuJAEX",
        "bI9NvywoJRSu",
        "VNY6MSyXKROn",
        "xCpiAgHcKUEF",
        "d1nfiGL1ER_5",
        "OTkGARzbbd2E",
        "qMZOx6fWb3u8",
        "WjA9g4Rab3u9",
        "qMrBbERNb3u-",
        "_HVDblzeb3u-",
        "67DDBCQib3u-",
        "HbHaY3ORb3u-",
        "PSpwajM7-Fqx",
        "LMKJfF6wNMvp",
        "U_XjCg5vNREc",
        "3fkcuH0gNUxj",
        "K7KfMPloNXrp",
        "jGl6vdJrNb6u",
        "rGXgqJ4mNhJ_",
        "_LA-5PHDNjPA",
        "NyJLXewsNnJg",
        "7-w5o7uhNqQB",
        "X7A-g9PKNxLV",
        "9W9dBZKjQUcM",
        "P3kLn1SIQUcN",
        "hLrU9dzCQUcN",
        "48f1oczyQUcN",
        "VXY4fvmfQUcO",
        "d5HzWobIQUcO",
        "dBOdylt1QUcO",
        "7dUxef8fQUcO",
        "TBj-cz1tQUcP",
        "igjjroujQUcP",
        "pgurMu24QUcP",
        "27CHIgWcQUcP",
        "ZNE-X_dLQUcP",
        "RdZPJCBnQUcP",
        "83DTU6SqQUcP",
        "3l9rgHwjQUcQ",
        "_MDTtxcDQUcQ",
        "NifSoaWAQUcQ"
      ],
      "authorship_tag": "ABX9TyMvzIlC929ZH4nJ1CaraRDN",
      "include_colab_link": true
    },
    "kernelspec": {
      "name": "python3",
      "display_name": "Python 3"
    },
    "language_info": {
      "name": "python"
    }
  },
  "cells": [
    {
      "cell_type": "markdown",
      "metadata": {
        "id": "view-in-github",
        "colab_type": "text"
      },
      "source": [
        "<a href=\"https://colab.research.google.com/github/hsching/Airline-Passenger-Satisfaction-Predictive-Models/blob/main/3_Decision_tree_fitting.ipynb\" target=\"_parent\"><img src=\"https://colab.research.google.com/assets/colab-badge.svg\" alt=\"Open In Colab\"/></a>"
      ]
    },
    {
      "cell_type": "code",
      "source": [
        "# import file from the folder \"ISOM3360\" in our MyDrive, with shortcut of shared folder \"ISOM3360 group project\" in\n",
        "from google.colab import drive\n",
        "drive.mount('/content/drive')"
      ],
      "metadata": {
        "id": "FBZ2j_xjfmE2"
      },
      "execution_count": null,
      "outputs": []
    },
    {
      "cell_type": "code",
      "execution_count": null,
      "metadata": {
        "colab": {
          "base_uri": "https://localhost:8080/"
        },
        "id": "E6WF6H5CxGqK",
        "outputId": "0764f859-f1e1-47ab-d504-8b3a82187f57"
      },
      "outputs": [
        {
          "output_type": "stream",
          "name": "stdout",
          "text": [
            "Drive already mounted at /content/drive; to attempt to forcibly remount, call drive.mount(\"/content/drive\", force_remount=True).\n"
          ]
        }
      ],
      "source": [
        "import pandas as pd\n",
        "import numpy as np\n",
        "import matplotlib.pyplot as plt\n",
        "import seaborn as sns\n",
        "import sklearn\n",
        "from sklearn import preprocessing\n",
        "from sklearn.model_selection import train_test_split\n",
        "from sklearn.tree import DecisionTreeClassifier"
      ]
    },
    {
      "cell_type": "code",
      "source": [
        "file_name = 'train_processed (all standardization).csv'\n",
        "loc = ''\n",
        "# loc = '/content/drive/MyDrive/ISOM3360/ISOM3360 group project/Cathy_Data preparation, Decision tree/'\n",
        "train = pd.read_csv(loc+file_name,index_col=0)\n",
        "train_df = train.copy()\n",
        "train_df"
      ],
      "metadata": {
        "colab": {
          "base_uri": "https://localhost:8080/",
          "height": 554
        },
        "id": "3MSbMsJVxmzp",
        "outputId": "a5c2eed9-705f-4543-f130-b9f3c553fada"
      },
      "execution_count": null,
      "outputs": [
        {
          "output_type": "execute_result",
          "data": {
            "text/plain": [
              "             Age  Inflight wifi service  Departure/Arrival time convenient  \\\n",
              "id                                                                           \n",
              "70172  -1.745279               0.203579                           0.616172   \n",
              "5047   -0.951360               0.203579                          -0.695245   \n",
              "110028 -0.885200              -0.549533                          -0.695245   \n",
              "24026  -0.951360              -0.549533                           1.271880   \n",
              "119299  1.430397               0.203579                          -0.039537   \n",
              "...          ...                    ...                                ...   \n",
              "94171  -1.083680              -0.549533                          -1.350954   \n",
              "73097   0.636478               0.956691                           0.616172   \n",
              "68825  -0.620561              -1.302646                          -1.350954   \n",
              "54173  -1.149840              -1.302646                          -1.350954   \n",
              "62567  -0.819040              -1.302646                          -0.039537   \n",
              "\n",
              "        Ease of Online booking  Gate location  Food and drink  \\\n",
              "id                                                              \n",
              "70172                 0.173776      -1.547323        1.352264   \n",
              "5047                  0.173776       0.018094       -1.656326   \n",
              "110028               -0.541060      -0.764614        1.352264   \n",
              "24026                 1.603448       1.583511       -0.904178   \n",
              "119299                0.173776       0.018094        0.600117   \n",
              "...                        ...            ...             ...   \n",
              "94171                -0.541060       0.018094       -0.904178   \n",
              "73097                 0.888612       0.800803       -0.904178   \n",
              "68825                -1.255895       0.018094        0.600117   \n",
              "54173                -1.255895       1.583511       -1.656326   \n",
              "62567                 0.173776       0.018094       -1.656326   \n",
              "\n",
              "        Online boarding  Seat comfort  Inflight entertainment  \\\n",
              "id                                                              \n",
              "70172         -0.185532      1.183099                1.231704   \n",
              "5047          -0.185532     -1.849315               -1.769081   \n",
              "110028         1.296496      1.183099                1.231704   \n",
              "24026         -0.926545     -1.091211               -1.018885   \n",
              "119299         1.296496      1.183099               -0.268688   \n",
              "...                 ...           ...                     ...   \n",
              "94171         -0.926545     -1.091211               -1.018885   \n",
              "73097          0.555482      1.183099                1.231704   \n",
              "68825         -1.667559      1.183099                0.481508   \n",
              "54173         -1.667559     -1.849315               -1.769081   \n",
              "62567         -1.667559     -1.849315               -1.769081   \n",
              "\n",
              "        On-board service  ...  Gender_Male  Customer Type_disloyal Customer  \\\n",
              "id                        ...                                                 \n",
              "70172           0.479403  ...          1.0                              0.0   \n",
              "5047           -1.849161  ...          1.0                              1.0   \n",
              "110028          0.479403  ...          0.0                              0.0   \n",
              "24026          -1.072973  ...          0.0                              0.0   \n",
              "119299         -0.296785  ...          1.0                              0.0   \n",
              "...                  ...  ...          ...                              ...   \n",
              "94171          -0.296785  ...          0.0                              1.0   \n",
              "73097           1.255590  ...          1.0                              0.0   \n",
              "68825          -0.296785  ...          1.0                              1.0   \n",
              "54173           0.479403  ...          0.0                              1.0   \n",
              "62567          -1.849161  ...          1.0                              0.0   \n",
              "\n",
              "        Type of Travel_Personal Travel  Class_Business  Class_Eco  \\\n",
              "id                                                                  \n",
              "70172                              1.0             0.0        0.0   \n",
              "5047                               0.0             1.0        0.0   \n",
              "110028                             0.0             1.0        0.0   \n",
              "24026                              0.0             1.0        0.0   \n",
              "119299                             0.0             1.0        0.0   \n",
              "...                                ...             ...        ...   \n",
              "94171                              0.0             0.0        1.0   \n",
              "73097                              0.0             1.0        0.0   \n",
              "68825                              0.0             1.0        0.0   \n",
              "54173                              0.0             0.0        1.0   \n",
              "62567                              0.0             1.0        0.0   \n",
              "\n",
              "        Class_Eco Plus  Flight Distance_binned_long  \\\n",
              "id                                                    \n",
              "70172              1.0                          0.0   \n",
              "5047               0.0                          0.0   \n",
              "110028             0.0                          0.0   \n",
              "24026              0.0                          0.0   \n",
              "119299             0.0                          0.0   \n",
              "...                ...                          ...   \n",
              "94171              0.0                          0.0   \n",
              "73097              0.0                          0.0   \n",
              "68825              0.0                          0.0   \n",
              "54173              0.0                          0.0   \n",
              "62567              0.0                          0.0   \n",
              "\n",
              "        Flight Distance_binned_middle  Flight Distance_binned_short  \\\n",
              "id                                                                    \n",
              "70172                             0.0                           1.0   \n",
              "5047                              0.0                           1.0   \n",
              "110028                            0.0                           1.0   \n",
              "24026                             0.0                           1.0   \n",
              "119299                            0.0                           1.0   \n",
              "...                               ...                           ...   \n",
              "94171                             0.0                           1.0   \n",
              "73097                             1.0                           0.0   \n",
              "68825                             1.0                           0.0   \n",
              "54173                             0.0                           1.0   \n",
              "62567                             1.0                           0.0   \n",
              "\n",
              "        satisfaction_satisfied  \n",
              "id                              \n",
              "70172                      0.0  \n",
              "5047                       0.0  \n",
              "110028                     1.0  \n",
              "24026                      0.0  \n",
              "119299                     1.0  \n",
              "...                        ...  \n",
              "94171                      0.0  \n",
              "73097                      1.0  \n",
              "68825                      0.0  \n",
              "54173                      0.0  \n",
              "62567                      0.0  \n",
              "\n",
              "[103904 rows x 27 columns]"
            ],
            "text/html": [
              "\n",
              "  <div id=\"df-50cc60df-6a84-4e33-9c5f-92aff8982d6f\">\n",
              "    <div class=\"colab-df-container\">\n",
              "      <div>\n",
              "<style scoped>\n",
              "    .dataframe tbody tr th:only-of-type {\n",
              "        vertical-align: middle;\n",
              "    }\n",
              "\n",
              "    .dataframe tbody tr th {\n",
              "        vertical-align: top;\n",
              "    }\n",
              "\n",
              "    .dataframe thead th {\n",
              "        text-align: right;\n",
              "    }\n",
              "</style>\n",
              "<table border=\"1\" class=\"dataframe\">\n",
              "  <thead>\n",
              "    <tr style=\"text-align: right;\">\n",
              "      <th></th>\n",
              "      <th>Age</th>\n",
              "      <th>Inflight wifi service</th>\n",
              "      <th>Departure/Arrival time convenient</th>\n",
              "      <th>Ease of Online booking</th>\n",
              "      <th>Gate location</th>\n",
              "      <th>Food and drink</th>\n",
              "      <th>Online boarding</th>\n",
              "      <th>Seat comfort</th>\n",
              "      <th>Inflight entertainment</th>\n",
              "      <th>On-board service</th>\n",
              "      <th>...</th>\n",
              "      <th>Gender_Male</th>\n",
              "      <th>Customer Type_disloyal Customer</th>\n",
              "      <th>Type of Travel_Personal Travel</th>\n",
              "      <th>Class_Business</th>\n",
              "      <th>Class_Eco</th>\n",
              "      <th>Class_Eco Plus</th>\n",
              "      <th>Flight Distance_binned_long</th>\n",
              "      <th>Flight Distance_binned_middle</th>\n",
              "      <th>Flight Distance_binned_short</th>\n",
              "      <th>satisfaction_satisfied</th>\n",
              "    </tr>\n",
              "    <tr>\n",
              "      <th>id</th>\n",
              "      <th></th>\n",
              "      <th></th>\n",
              "      <th></th>\n",
              "      <th></th>\n",
              "      <th></th>\n",
              "      <th></th>\n",
              "      <th></th>\n",
              "      <th></th>\n",
              "      <th></th>\n",
              "      <th></th>\n",
              "      <th></th>\n",
              "      <th></th>\n",
              "      <th></th>\n",
              "      <th></th>\n",
              "      <th></th>\n",
              "      <th></th>\n",
              "      <th></th>\n",
              "      <th></th>\n",
              "      <th></th>\n",
              "      <th></th>\n",
              "      <th></th>\n",
              "    </tr>\n",
              "  </thead>\n",
              "  <tbody>\n",
              "    <tr>\n",
              "      <th>70172</th>\n",
              "      <td>-1.745279</td>\n",
              "      <td>0.203579</td>\n",
              "      <td>0.616172</td>\n",
              "      <td>0.173776</td>\n",
              "      <td>-1.547323</td>\n",
              "      <td>1.352264</td>\n",
              "      <td>-0.185532</td>\n",
              "      <td>1.183099</td>\n",
              "      <td>1.231704</td>\n",
              "      <td>0.479403</td>\n",
              "      <td>...</td>\n",
              "      <td>1.0</td>\n",
              "      <td>0.0</td>\n",
              "      <td>1.0</td>\n",
              "      <td>0.0</td>\n",
              "      <td>0.0</td>\n",
              "      <td>1.0</td>\n",
              "      <td>0.0</td>\n",
              "      <td>0.0</td>\n",
              "      <td>1.0</td>\n",
              "      <td>0.0</td>\n",
              "    </tr>\n",
              "    <tr>\n",
              "      <th>5047</th>\n",
              "      <td>-0.951360</td>\n",
              "      <td>0.203579</td>\n",
              "      <td>-0.695245</td>\n",
              "      <td>0.173776</td>\n",
              "      <td>0.018094</td>\n",
              "      <td>-1.656326</td>\n",
              "      <td>-0.185532</td>\n",
              "      <td>-1.849315</td>\n",
              "      <td>-1.769081</td>\n",
              "      <td>-1.849161</td>\n",
              "      <td>...</td>\n",
              "      <td>1.0</td>\n",
              "      <td>1.0</td>\n",
              "      <td>0.0</td>\n",
              "      <td>1.0</td>\n",
              "      <td>0.0</td>\n",
              "      <td>0.0</td>\n",
              "      <td>0.0</td>\n",
              "      <td>0.0</td>\n",
              "      <td>1.0</td>\n",
              "      <td>0.0</td>\n",
              "    </tr>\n",
              "    <tr>\n",
              "      <th>110028</th>\n",
              "      <td>-0.885200</td>\n",
              "      <td>-0.549533</td>\n",
              "      <td>-0.695245</td>\n",
              "      <td>-0.541060</td>\n",
              "      <td>-0.764614</td>\n",
              "      <td>1.352264</td>\n",
              "      <td>1.296496</td>\n",
              "      <td>1.183099</td>\n",
              "      <td>1.231704</td>\n",
              "      <td>0.479403</td>\n",
              "      <td>...</td>\n",
              "      <td>0.0</td>\n",
              "      <td>0.0</td>\n",
              "      <td>0.0</td>\n",
              "      <td>1.0</td>\n",
              "      <td>0.0</td>\n",
              "      <td>0.0</td>\n",
              "      <td>0.0</td>\n",
              "      <td>0.0</td>\n",
              "      <td>1.0</td>\n",
              "      <td>1.0</td>\n",
              "    </tr>\n",
              "    <tr>\n",
              "      <th>24026</th>\n",
              "      <td>-0.951360</td>\n",
              "      <td>-0.549533</td>\n",
              "      <td>1.271880</td>\n",
              "      <td>1.603448</td>\n",
              "      <td>1.583511</td>\n",
              "      <td>-0.904178</td>\n",
              "      <td>-0.926545</td>\n",
              "      <td>-1.091211</td>\n",
              "      <td>-1.018885</td>\n",
              "      <td>-1.072973</td>\n",
              "      <td>...</td>\n",
              "      <td>0.0</td>\n",
              "      <td>0.0</td>\n",
              "      <td>0.0</td>\n",
              "      <td>1.0</td>\n",
              "      <td>0.0</td>\n",
              "      <td>0.0</td>\n",
              "      <td>0.0</td>\n",
              "      <td>0.0</td>\n",
              "      <td>1.0</td>\n",
              "      <td>0.0</td>\n",
              "    </tr>\n",
              "    <tr>\n",
              "      <th>119299</th>\n",
              "      <td>1.430397</td>\n",
              "      <td>0.203579</td>\n",
              "      <td>-0.039537</td>\n",
              "      <td>0.173776</td>\n",
              "      <td>0.018094</td>\n",
              "      <td>0.600117</td>\n",
              "      <td>1.296496</td>\n",
              "      <td>1.183099</td>\n",
              "      <td>-0.268688</td>\n",
              "      <td>-0.296785</td>\n",
              "      <td>...</td>\n",
              "      <td>1.0</td>\n",
              "      <td>0.0</td>\n",
              "      <td>0.0</td>\n",
              "      <td>1.0</td>\n",
              "      <td>0.0</td>\n",
              "      <td>0.0</td>\n",
              "      <td>0.0</td>\n",
              "      <td>0.0</td>\n",
              "      <td>1.0</td>\n",
              "      <td>1.0</td>\n",
              "    </tr>\n",
              "    <tr>\n",
              "      <th>...</th>\n",
              "      <td>...</td>\n",
              "      <td>...</td>\n",
              "      <td>...</td>\n",
              "      <td>...</td>\n",
              "      <td>...</td>\n",
              "      <td>...</td>\n",
              "      <td>...</td>\n",
              "      <td>...</td>\n",
              "      <td>...</td>\n",
              "      <td>...</td>\n",
              "      <td>...</td>\n",
              "      <td>...</td>\n",
              "      <td>...</td>\n",
              "      <td>...</td>\n",
              "      <td>...</td>\n",
              "      <td>...</td>\n",
              "      <td>...</td>\n",
              "      <td>...</td>\n",
              "      <td>...</td>\n",
              "      <td>...</td>\n",
              "      <td>...</td>\n",
              "    </tr>\n",
              "    <tr>\n",
              "      <th>94171</th>\n",
              "      <td>-1.083680</td>\n",
              "      <td>-0.549533</td>\n",
              "      <td>-1.350954</td>\n",
              "      <td>-0.541060</td>\n",
              "      <td>0.018094</td>\n",
              "      <td>-0.904178</td>\n",
              "      <td>-0.926545</td>\n",
              "      <td>-1.091211</td>\n",
              "      <td>-1.018885</td>\n",
              "      <td>-0.296785</td>\n",
              "      <td>...</td>\n",
              "      <td>0.0</td>\n",
              "      <td>1.0</td>\n",
              "      <td>0.0</td>\n",
              "      <td>0.0</td>\n",
              "      <td>1.0</td>\n",
              "      <td>0.0</td>\n",
              "      <td>0.0</td>\n",
              "      <td>0.0</td>\n",
              "      <td>1.0</td>\n",
              "      <td>0.0</td>\n",
              "    </tr>\n",
              "    <tr>\n",
              "      <th>73097</th>\n",
              "      <td>0.636478</td>\n",
              "      <td>0.956691</td>\n",
              "      <td>0.616172</td>\n",
              "      <td>0.888612</td>\n",
              "      <td>0.800803</td>\n",
              "      <td>-0.904178</td>\n",
              "      <td>0.555482</td>\n",
              "      <td>1.183099</td>\n",
              "      <td>1.231704</td>\n",
              "      <td>1.255590</td>\n",
              "      <td>...</td>\n",
              "      <td>1.0</td>\n",
              "      <td>0.0</td>\n",
              "      <td>0.0</td>\n",
              "      <td>1.0</td>\n",
              "      <td>0.0</td>\n",
              "      <td>0.0</td>\n",
              "      <td>0.0</td>\n",
              "      <td>1.0</td>\n",
              "      <td>0.0</td>\n",
              "      <td>1.0</td>\n",
              "    </tr>\n",
              "    <tr>\n",
              "      <th>68825</th>\n",
              "      <td>-0.620561</td>\n",
              "      <td>-1.302646</td>\n",
              "      <td>-1.350954</td>\n",
              "      <td>-1.255895</td>\n",
              "      <td>0.018094</td>\n",
              "      <td>0.600117</td>\n",
              "      <td>-1.667559</td>\n",
              "      <td>1.183099</td>\n",
              "      <td>0.481508</td>\n",
              "      <td>-0.296785</td>\n",
              "      <td>...</td>\n",
              "      <td>1.0</td>\n",
              "      <td>1.0</td>\n",
              "      <td>0.0</td>\n",
              "      <td>1.0</td>\n",
              "      <td>0.0</td>\n",
              "      <td>0.0</td>\n",
              "      <td>0.0</td>\n",
              "      <td>1.0</td>\n",
              "      <td>0.0</td>\n",
              "      <td>0.0</td>\n",
              "    </tr>\n",
              "    <tr>\n",
              "      <th>54173</th>\n",
              "      <td>-1.149840</td>\n",
              "      <td>-1.302646</td>\n",
              "      <td>-1.350954</td>\n",
              "      <td>-1.255895</td>\n",
              "      <td>1.583511</td>\n",
              "      <td>-1.656326</td>\n",
              "      <td>-1.667559</td>\n",
              "      <td>-1.849315</td>\n",
              "      <td>-1.769081</td>\n",
              "      <td>0.479403</td>\n",
              "      <td>...</td>\n",
              "      <td>0.0</td>\n",
              "      <td>1.0</td>\n",
              "      <td>0.0</td>\n",
              "      <td>0.0</td>\n",
              "      <td>1.0</td>\n",
              "      <td>0.0</td>\n",
              "      <td>0.0</td>\n",
              "      <td>0.0</td>\n",
              "      <td>1.0</td>\n",
              "      <td>0.0</td>\n",
              "    </tr>\n",
              "    <tr>\n",
              "      <th>62567</th>\n",
              "      <td>-0.819040</td>\n",
              "      <td>-1.302646</td>\n",
              "      <td>-0.039537</td>\n",
              "      <td>0.173776</td>\n",
              "      <td>0.018094</td>\n",
              "      <td>-1.656326</td>\n",
              "      <td>-1.667559</td>\n",
              "      <td>-1.849315</td>\n",
              "      <td>-1.769081</td>\n",
              "      <td>-1.849161</td>\n",
              "      <td>...</td>\n",
              "      <td>1.0</td>\n",
              "      <td>0.0</td>\n",
              "      <td>0.0</td>\n",
              "      <td>1.0</td>\n",
              "      <td>0.0</td>\n",
              "      <td>0.0</td>\n",
              "      <td>0.0</td>\n",
              "      <td>1.0</td>\n",
              "      <td>0.0</td>\n",
              "      <td>0.0</td>\n",
              "    </tr>\n",
              "  </tbody>\n",
              "</table>\n",
              "<p>103904 rows × 27 columns</p>\n",
              "</div>\n",
              "      <button class=\"colab-df-convert\" onclick=\"convertToInteractive('df-50cc60df-6a84-4e33-9c5f-92aff8982d6f')\"\n",
              "              title=\"Convert this dataframe to an interactive table.\"\n",
              "              style=\"display:none;\">\n",
              "        \n",
              "  <svg xmlns=\"http://www.w3.org/2000/svg\" height=\"24px\"viewBox=\"0 0 24 24\"\n",
              "       width=\"24px\">\n",
              "    <path d=\"M0 0h24v24H0V0z\" fill=\"none\"/>\n",
              "    <path d=\"M18.56 5.44l.94 2.06.94-2.06 2.06-.94-2.06-.94-.94-2.06-.94 2.06-2.06.94zm-11 1L8.5 8.5l.94-2.06 2.06-.94-2.06-.94L8.5 2.5l-.94 2.06-2.06.94zm10 10l.94 2.06.94-2.06 2.06-.94-2.06-.94-.94-2.06-.94 2.06-2.06.94z\"/><path d=\"M17.41 7.96l-1.37-1.37c-.4-.4-.92-.59-1.43-.59-.52 0-1.04.2-1.43.59L10.3 9.45l-7.72 7.72c-.78.78-.78 2.05 0 2.83L4 21.41c.39.39.9.59 1.41.59.51 0 1.02-.2 1.41-.59l7.78-7.78 2.81-2.81c.8-.78.8-2.07 0-2.86zM5.41 20L4 18.59l7.72-7.72 1.47 1.35L5.41 20z\"/>\n",
              "  </svg>\n",
              "      </button>\n",
              "      \n",
              "  <style>\n",
              "    .colab-df-container {\n",
              "      display:flex;\n",
              "      flex-wrap:wrap;\n",
              "      gap: 12px;\n",
              "    }\n",
              "\n",
              "    .colab-df-convert {\n",
              "      background-color: #E8F0FE;\n",
              "      border: none;\n",
              "      border-radius: 50%;\n",
              "      cursor: pointer;\n",
              "      display: none;\n",
              "      fill: #1967D2;\n",
              "      height: 32px;\n",
              "      padding: 0 0 0 0;\n",
              "      width: 32px;\n",
              "    }\n",
              "\n",
              "    .colab-df-convert:hover {\n",
              "      background-color: #E2EBFA;\n",
              "      box-shadow: 0px 1px 2px rgba(60, 64, 67, 0.3), 0px 1px 3px 1px rgba(60, 64, 67, 0.15);\n",
              "      fill: #174EA6;\n",
              "    }\n",
              "\n",
              "    [theme=dark] .colab-df-convert {\n",
              "      background-color: #3B4455;\n",
              "      fill: #D2E3FC;\n",
              "    }\n",
              "\n",
              "    [theme=dark] .colab-df-convert:hover {\n",
              "      background-color: #434B5C;\n",
              "      box-shadow: 0px 1px 3px 1px rgba(0, 0, 0, 0.15);\n",
              "      filter: drop-shadow(0px 1px 2px rgba(0, 0, 0, 0.3));\n",
              "      fill: #FFFFFF;\n",
              "    }\n",
              "  </style>\n",
              "\n",
              "      <script>\n",
              "        const buttonEl =\n",
              "          document.querySelector('#df-50cc60df-6a84-4e33-9c5f-92aff8982d6f button.colab-df-convert');\n",
              "        buttonEl.style.display =\n",
              "          google.colab.kernel.accessAllowed ? 'block' : 'none';\n",
              "\n",
              "        async function convertToInteractive(key) {\n",
              "          const element = document.querySelector('#df-50cc60df-6a84-4e33-9c5f-92aff8982d6f');\n",
              "          const dataTable =\n",
              "            await google.colab.kernel.invokeFunction('convertToInteractive',\n",
              "                                                     [key], {});\n",
              "          if (!dataTable) return;\n",
              "\n",
              "          const docLinkHtml = 'Like what you see? Visit the ' +\n",
              "            '<a target=\"_blank\" href=https://colab.research.google.com/notebooks/data_table.ipynb>data table notebook</a>'\n",
              "            + ' to learn more about interactive tables.';\n",
              "          element.innerHTML = '';\n",
              "          dataTable['output_type'] = 'display_data';\n",
              "          await google.colab.output.renderOutput(dataTable, element);\n",
              "          const docLink = document.createElement('div');\n",
              "          docLink.innerHTML = docLinkHtml;\n",
              "          element.appendChild(docLink);\n",
              "        }\n",
              "      </script>\n",
              "    </div>\n",
              "  </div>\n",
              "  "
            ]
          },
          "metadata": {},
          "execution_count": 7
        }
      ]
    },
    {
      "cell_type": "markdown",
      "source": [
        "# Get data ready and split the data"
      ],
      "metadata": {
        "id": "Ioha9cg2_3eW"
      }
    },
    {
      "cell_type": "code",
      "source": [
        "X = train_df.iloc[:,0:26]  #features\n",
        "y = train_df['satisfaction_satisfied']  #target label\n",
        "X_train, X_test, y_train, y_test = train_test_split(X, y, test_size=0.4, random_state=42)"
      ],
      "metadata": {
        "id": "BA94cLL3xm2T"
      },
      "execution_count": null,
      "outputs": []
    },
    {
      "cell_type": "markdown",
      "source": [
        "# Build the Decision Tree model"
      ],
      "metadata": {
        "id": "5_XK6fk-AA-A"
      }
    },
    {
      "cell_type": "code",
      "source": [
        "model = DecisionTreeClassifier(random_state=42)\n",
        "model.fit(X_train, y_train)\n",
        "\n",
        "# test model\n",
        "y_pred = model.predict(X_test)"
      ],
      "metadata": {
        "id": "Frw6L4MNxm4p"
      },
      "execution_count": null,
      "outputs": []
    },
    {
      "cell_type": "code",
      "source": [
        "# evaluate model\n",
        "from sklearn import metrics\n",
        "from sklearn.metrics import accuracy_score\n",
        "from sklearn.metrics import classification_report\n",
        "from sklearn.metrics import confusion_matrix\n",
        "from sklearn.metrics import roc_curve, auc\n",
        "\n",
        "print('Accuracy score:', accuracy_score(y_test, y_pred))\n",
        "print('Classification report:\\n', classification_report(y_test, y_pred))\n",
        "print('Confusion matrix:\\n', confusion_matrix(y_test, y_pred))"
      ],
      "metadata": {
        "id": "_eDSrQiaxm7u",
        "colab": {
          "base_uri": "https://localhost:8080/"
        },
        "outputId": "3045c9c1-f7a3-450d-af87-bce3878e73a9"
      },
      "execution_count": null,
      "outputs": [
        {
          "output_type": "stream",
          "name": "stdout",
          "text": [
            "Accuracy score: 0.9454549829170877\n",
            "Classification report:\n",
            "               precision    recall  f1-score   support\n",
            "\n",
            "         0.0       0.95      0.95      0.95     23385\n",
            "         1.0       0.94      0.94      0.94     18177\n",
            "\n",
            "    accuracy                           0.95     41562\n",
            "   macro avg       0.94      0.94      0.94     41562\n",
            "weighted avg       0.95      0.95      0.95     41562\n",
            "\n",
            "Confusion matrix:\n",
            " [[22200  1185]\n",
            " [ 1082 17095]]\n"
          ]
        }
      ]
    },
    {
      "cell_type": "markdown",
      "source": [
        "# Hyper-parameter Tuning"
      ],
      "metadata": {
        "id": "-uMhUlPTFjIk"
      }
    },
    {
      "cell_type": "code",
      "source": [
        "from sklearn.model_selection import cross_val_score\n",
        "from sklearn.model_selection import cross_val_predict"
      ],
      "metadata": {
        "id": "xqZLG-qEghDr"
      },
      "execution_count": null,
      "outputs": []
    },
    {
      "cell_type": "code",
      "source": [
        "treeObj = model.tree_\n",
        "print(treeObj.node_count)\n",
        "print(treeObj.max_depth)"
      ],
      "metadata": {
        "colab": {
          "base_uri": "https://localhost:8080/"
        },
        "id": "BAf0rpUnFiJr",
        "outputId": "472a798f-069a-4dc1-9395-d3570aee4df7"
      },
      "execution_count": null,
      "outputs": [
        {
          "output_type": "stream",
          "name": "stdout",
          "text": [
            "5369\n",
            "35\n"
          ]
        }
      ]
    },
    {
      "cell_type": "markdown",
      "source": [
        "## criterion = default = 'gini'"
      ],
      "metadata": {
        "id": "2SWJPdJLbTd5"
      }
    },
    {
      "cell_type": "code",
      "source": [
        "model_tunning = DecisionTreeClassifier(random_state=42)\n",
        "model_tunning.fit(X_train, y_train)\n",
        "\n",
        "y_pred_test = model_tunning.predict(X_test)\n",
        "y_pred_cv = cross_val_predict(model_tunning, X, y, cv=5)\n",
        "\n",
        "tree_fpr, tree_tpr, thresholds = roc_curve(y, y_pred_cv)\n",
        "tree_auc = auc(tree_fpr, tree_tpr)\n",
        "\n",
        "print('Simple Accuracy:', accuracy_score(y_test, y_pred_test))\n",
        "print('CV Accuracy:', accuracy_score(y, y_pred_cv))\n",
        "print('CV AUC:', tree_auc)\n",
        "print('Tree object node count:', model_tunning.tree_.node_count)\n",
        "print('Confusion matrix:\\n', confusion_matrix(y, y_pred_cv))"
      ],
      "metadata": {
        "colab": {
          "base_uri": "https://localhost:8080/"
        },
        "outputId": "6e5ee2cf-b313-42d7-d2c9-9a52c93db242",
        "id": "fW-7ht_c-j3I"
      },
      "execution_count": null,
      "outputs": [
        {
          "output_type": "stream",
          "name": "stdout",
          "text": [
            "Simple Accuracy: 0.9454549829170877\n",
            "CV Accuracy: 0.9459982291345858\n",
            "CV AUC: 0.9452651131548747\n",
            "Tree object node count: 5369\n",
            "Confusion matrix:\n",
            " [[55980  2899]\n",
            " [ 2712 42313]]\n"
          ]
        }
      ]
    },
    {
      "cell_type": "markdown",
      "source": [
        "### max_depth (create a loop to try out different depth value)"
      ],
      "metadata": {
        "id": "GAZ6cPm7Cvlf"
      }
    },
    {
      "cell_type": "code",
      "source": [
        "# create array that hold max_depth from 0 to 35\n",
        "max_depth = np.linspace(1, 35, 35, endpoint=True)\n",
        "max_depth"
      ],
      "metadata": {
        "colab": {
          "base_uri": "https://localhost:8080/"
        },
        "id": "Q1w-fcQYFiFj",
        "outputId": "9f2e8d8d-e1ec-48f6-8d06-1f2fcc36e05a"
      },
      "execution_count": null,
      "outputs": [
        {
          "output_type": "execute_result",
          "data": {
            "text/plain": [
              "array([ 1.,  2.,  3.,  4.,  5.,  6.,  7.,  8.,  9., 10., 11., 12., 13.,\n",
              "       14., 15., 16., 17., 18., 19., 20., 21., 22., 23., 24., 25., 26.,\n",
              "       27., 28., 29., 30., 31., 32., 33., 34., 35.])"
            ]
          },
          "metadata": {},
          "execution_count": 8
        }
      ]
    },
    {
      "cell_type": "code",
      "source": [
        "# create 2 lists for training and testing set, and append the accuracy at different depth level in\n",
        "train_acc = []\n",
        "test_acc = []\n",
        "cv_acc = []\n",
        "cv_auc = []\n",
        "node_count = []\n",
        "\n",
        "# create a loop to try out all the number from 1 to 35 for max_depths in a decision tree\n",
        "for i in max_depth:\n",
        "  model_tunning = DecisionTreeClassifier(max_depth=int(i), random_state=42)\n",
        "  model_tunning.fit(X_train, y_train)\n",
        "\n",
        "  y_pred_train = model_tunning.predict(X_train)\n",
        "  y_pred_test = model_tunning.predict(X_test)\n",
        "  y_pred_cv = cross_val_predict(model_tunning, X, y, cv=5)\n",
        "\n",
        "  train_acc.append(accuracy_score(y_train, y_pred_train))\n",
        "  test_acc.append(accuracy_score(y_test, y_pred_test))\n",
        "  cv_acc.append(accuracy_score(y, y_pred_cv))\n",
        "\n",
        "  tree_fpr, tree_tpr, thresholds = roc_curve(y, y_pred_cv)\n",
        "  tree_auc = auc(tree_fpr, tree_tpr)\n",
        "  cv_auc.append(tree_auc)\n",
        "\n",
        "  treeObj = model_tunning.tree_\n",
        "  node_count.append(treeObj.node_count)"
      ],
      "metadata": {
        "id": "8HV9KgOIFiBd"
      },
      "execution_count": null,
      "outputs": []
    },
    {
      "cell_type": "code",
      "source": [
        "plt.figure(figsize=(4.5,3))\n",
        "plt.plot(train_acc, label='Train accuracy')\n",
        "plt.plot(test_acc, label='Test accuracy')\n",
        "plt.plot(cv_acc, label='CV score')\n",
        "plt.legend()\n",
        "plt.xlabel('Tree depth')\n",
        "plt.ylabel('Accuracy score')\n",
        "plt.show()\n",
        "\n",
        "#print the best max_depth\n",
        "print('Best max_depth using validation set:', test_acc.index(max(test_acc))+1, '(Accuracy score:', str(max(test_acc))+')')\n",
        "print('Best max_depth using CV:', cv_acc.index(max(cv_acc))+1, '(Accuracy score:', str(max(cv_acc))+')')\n",
        "print('AUC when CV accuracy is the highest: ', cv_auc[cv_acc.index(max(cv_acc))])\n",
        "print('Tree object node count: ', node_count[cv_acc.index(max(cv_acc))])"
      ],
      "metadata": {
        "colab": {
          "base_uri": "https://localhost:8080/",
          "height": 382
        },
        "id": "qhfo1Zb_282G",
        "outputId": "e459e3bb-840e-460a-8b26-ab574bcef28a"
      },
      "execution_count": null,
      "outputs": [
        {
          "output_type": "display_data",
          "data": {
            "text/plain": [
              "<Figure size 450x300 with 1 Axes>"
            ],
            "image/png": "[encoded data removed]"
          },
          "metadata": {}
        },
        {
          "output_type": "stream",
          "name": "stdout",
          "text": [
            "Best max_depth using validation set: 13 (Accuracy score: 0.954140801693855)\n",
            "Best max_depth using CV: 13 (Accuracy score: 0.9533800431167231)\n",
            "AUC when CV accuracy is the highest:  0.950675806307101\n",
            "Tree object node count:  1563\n"
          ]
        }
      ]
    },
    {
      "cell_type": "code",
      "source": [
        "model_tunning = DecisionTreeClassifier(max_depth=13, random_state=42)\n",
        "model_tunning.fit(X_train, y_train)\n",
        "\n",
        "y_pred_test = model_tunning.predict(X_test)\n",
        "y_pred_cv = cross_val_predict(model_tunning, X, y, cv=5)\n",
        "\n",
        "tree_fpr, tree_tpr, thresholds = roc_curve(y, y_pred_cv)\n",
        "tree_auc = auc(tree_fpr, tree_tpr)\n",
        "\n",
        "print('Simple Accuracy:', accuracy_score(y_test, y_pred_test))\n",
        "print('CV Accuracy:', accuracy_score(y, y_pred_cv))\n",
        "print('CV AUC:', tree_auc)\n",
        "print('Tree object node count:', model_tunning.tree_.node_count)\n",
        "print('Confusion matrix:\\n', confusion_matrix(y, y_pred_cv))"
      ],
      "metadata": {
        "colab": {
          "base_uri": "https://localhost:8080/"
        },
        "id": "EtBDvFamhzxM",
        "outputId": "ee418a51-25c6-4459-aa4d-abc5f9723b84"
      },
      "execution_count": null,
      "outputs": [
        {
          "output_type": "stream",
          "name": "stdout",
          "text": [
            "Simple Accuracy: 0.954140801693855\n",
            "CV Accuracy: 0.9533800431167231\n",
            "CV AUC: 0.950675806307101\n",
            "Tree object node count: 1563\n",
            "Confusion matrix:\n",
            " [[57169  1710]\n",
            " [ 3134 41891]]\n"
          ]
        }
      ]
    },
    {
      "cell_type": "markdown",
      "source": [
        "### max_leaf_nodes"
      ],
      "metadata": {
        "id": "kubAwIEGmx3H"
      }
    },
    {
      "cell_type": "code",
      "source": [
        "max_leaf_nodes = range(2, 5371, 50)\n",
        "\n",
        "train_acc = []\n",
        "test_acc = []\n",
        "cv_acc = []\n",
        "\n",
        "for i in max_leaf_nodes:\n",
        "  model_tunning = DecisionTreeClassifier(max_leaf_nodes=int(i), random_state=42)\n",
        "  model_tunning.fit(X_train, y_train)\n",
        "\n",
        "  y_pred_train = model_tunning.predict(X_train)\n",
        "  y_pred_test = model_tunning.predict(X_test)\n",
        "  # y_pred_cv = cross_val_predict(model_tunning, X, y, cv=5)\n",
        "\n",
        "  train_acc.append(accuracy_score(y_train, y_pred_train))\n",
        "  test_acc.append(accuracy_score(y_test, y_pred_test))\n",
        "  # cv_acc.append(accuracy_score(y, y_pred_cv))\n",
        "\n",
        "# visualize\n",
        "plt.figure(figsize=(4.5,3))\n",
        "plt.plot(max_leaf_nodes, train_acc, label='Train accuracy')\n",
        "plt.plot(max_leaf_nodes, test_acc, label='Test accuracy')\n",
        "# plt.plot(max_leaf_nodes, cv_acc, label='CV score')\n",
        "plt.legend()\n",
        "plt.xlabel('Max leaf nodes')\n",
        "plt.ylabel('Accuracy score')\n",
        "plt.show\n",
        "\n",
        "print('Best max_leaf_nodes using validation:', max_leaf_nodes[test_acc.index(max(test_acc))], '(Accuracy score:', str(max(test_acc))+')')\n",
        "# print('Best max_leaf_nodes using CV:', max_leaf_nodes[cv_acc.index(max(cv_acc))], '(Accuracy score:', str(max(cv_acc))+')')"
      ],
      "metadata": {
        "colab": {
          "base_uri": "https://localhost:8080/",
          "height": 347
        },
        "id": "ECMYoqpYm3gT",
        "outputId": "30cbdaa9-a462-46ae-d852-074003d79f6f"
      },
      "execution_count": null,
      "outputs": [
        {
          "output_type": "stream",
          "name": "stdout",
          "text": [
            "Best max_leaf_nodes using validation: 352 (Accuracy score: 0.9552475819257976)\n",
            "Best max_leaf_nodes using CV: 252 (Accuracy score: 0.956151832460733)\n"
          ]
        },
        {
          "output_type": "display_data",
          "data": {
            "text/plain": [
              "<Figure size 450x300 with 1 Axes>"
            ],
            "image/png": "[encoded data removed]"
          },
          "metadata": {}
        }
      ]
    },
    {
      "cell_type": "code",
      "source": [
        "max_leaf_nodes = range(360, 380)\n",
        "\n",
        "train_acc = []\n",
        "test_acc = []\n",
        "cv_acc = []\n",
        "cv_auc = []\n",
        "node_count = []\n",
        "\n",
        "for i in max_leaf_nodes:\n",
        "  model_tunning = DecisionTreeClassifier(max_leaf_nodes=int(i), random_state=42)\n",
        "  model_tunning.fit(X_train, y_train)\n",
        "\n",
        "  y_pred_train = model_tunning.predict(X_train)\n",
        "  y_pred_test = model_tunning.predict(X_test)\n",
        "  y_pred_cv = cross_val_predict(model_tunning, X, y, cv=5)\n",
        "\n",
        "  train_acc.append(accuracy_score(y_train, y_pred_train))\n",
        "  test_acc.append(accuracy_score(y_test, y_pred_test))\n",
        "  cv_acc.append(accuracy_score(y, y_pred_cv))\n",
        "\n",
        "  tree_fpr, tree_tpr, thresholds = roc_curve(y, y_pred_cv)\n",
        "  tree_auc = auc(tree_fpr, tree_tpr)\n",
        "  cv_auc.append(tree_auc)\n",
        "\n",
        "  treeObj = model.tree_\n",
        "  node_count.append(treeObj.node_count)\n",
        "\n",
        "# visualize\n",
        "plt.figure(figsize=(4.5,3))\n",
        "plt.plot(max_leaf_nodes, train_acc, label='Train accuracy')\n",
        "plt.plot(max_leaf_nodes, test_acc, label='Test accuracy')\n",
        "plt.plot(max_leaf_nodes, cv_acc, label='CV score')\n",
        "plt.legend()\n",
        "plt.xlabel('Max leaf nodes')\n",
        "plt.ylabel('Accuracy score')\n",
        "plt.show\n",
        "\n",
        "print('Best max_leaf_nodes using validation:', max_leaf_nodes[test_acc.index(max(test_acc))], '(Accuracy score:', str(max(test_acc))+')')\n",
        "print('Best max_leaf_nodes using CV:', max_leaf_nodes[cv_acc.index(max(cv_acc))], '(Accuracy score:', str(max(cv_acc))+')')\n",
        "print('AUC when CV accuracy is the highest: ', cv_auc[cv_acc.index(max(cv_acc))])\n",
        "print('Tree object node count: ', node_count[cv_acc.index(max(cv_acc))])"
      ],
      "metadata": {
        "colab": {
          "base_uri": "https://localhost:8080/",
          "height": 383
        },
        "outputId": "858adf88-548a-45da-9167-a4a81ae11c52",
        "id": "vHeR-DwfjNLj"
      },
      "execution_count": null,
      "outputs": [
        {
          "output_type": "stream",
          "name": "stdout",
          "text": [
            "Best max_leaf_nodes using validation: 369 (Accuracy score: 0.9571964775516096)\n",
            "Best max_leaf_nodes using CV: 375 (Accuracy score: 0.9584327841084077)\n",
            "AUC when CV accuracy is the highest:  0.9557795006970837\n",
            "Tree object node count:  5369\n"
          ]
        },
        {
          "output_type": "display_data",
          "data": {
            "text/plain": [
              "<Figure size 450x300 with 1 Axes>"
            ],
            "image/png": "[encoded data removed]"
          },
          "metadata": {}
        }
      ]
    },
    {
      "cell_type": "code",
      "source": [
        "model_tunning = DecisionTreeClassifier(max_leaf_nodes=375, random_state=42)\n",
        "model_tunning.fit(X_train, y_train)\n",
        "\n",
        "y_pred_test = model_tunning.predict(X_test)\n",
        "y_pred_cv = cross_val_predict(model_tunning, X, y, cv=5)\n",
        "\n",
        "tree_fpr, tree_tpr, thresholds = roc_curve(y, y_pred_cv)\n",
        "tree_auc = auc(tree_fpr, tree_tpr)\n",
        "\n",
        "print('Simple Accuracy:', accuracy_score(y_test, y_pred_test))\n",
        "print('CV Accuracy:', accuracy_score(y, y_pred_cv))\n",
        "print('CV AUC:', tree_auc)\n",
        "print('Tree object node count:', model_tunning.tree_.node_count)\n",
        "print('Confusion matrix:\\n', confusion_matrix(y, y_pred_cv))"
      ],
      "metadata": {
        "colab": {
          "base_uri": "https://localhost:8080/"
        },
        "outputId": "77a0c6aa-9792-48f1-bf49-c41df82d6520",
        "id": "8R-cxdcpfSvX"
      },
      "execution_count": null,
      "outputs": [
        {
          "output_type": "stream",
          "name": "stdout",
          "text": [
            "Simple Accuracy: 0.9570761753524855\n",
            "CV Accuracy: 0.9584327841084077\n",
            "CV AUC: 0.9557795006970837\n",
            "Tree object node count: 749\n",
            "Confusion matrix:\n",
            " [[57447  1432]\n",
            " [ 2887 42138]]\n"
          ]
        }
      ]
    },
    {
      "cell_type": "markdown",
      "source": [
        "### min_samples_leaf (inverse of complexity, external node)"
      ],
      "metadata": {
        "id": "X4RsvdPqC_YA"
      }
    },
    {
      "cell_type": "markdown",
      "source": [
        "the accuracy of validation and cv after tuning with min_samples_leaf are both reduced, so ignore this hyper-parameter"
      ],
      "metadata": {
        "id": "4Fns_F9Uo9yA"
      }
    },
    {
      "cell_type": "code",
      "source": [
        "min_samples_leaf = range(2, 20)\n",
        "# create 2 lists for training and testing set, and append the accuracy at different min samples per leaf in\n",
        "train_acc = []\n",
        "test_acc = []\n",
        "cv_acc = []\n",
        "\n",
        "# create a loop to try out numbers from 1 to 80 for min samples per leaf\n",
        "for i in min_samples_leaf:\n",
        "  model_tuning = DecisionTreeClassifier(min_samples_leaf=int(i), random_state=42)\n",
        "  model_tuning.fit(X_train, y_train)\n",
        "\n",
        "  y_pred_train = model_tuning.predict(X_train)\n",
        "  y_pred_test = model_tuning.predict(X_test)\n",
        "  y_pred_cv = cross_val_predict(model_tuning, X, y, cv=5)\n",
        "\n",
        "  train_acc.append(accuracy_score(y_train, y_pred_train))\n",
        "  test_acc.append(accuracy_score(y_test, y_pred_test))\n",
        "  cv_acc.append(accuracy_score(y, y_pred_cv))\n",
        "\n",
        "# visualize\n",
        "plt.figure(figsize=(4.5,3))\n",
        "plt.plot(min_samples_leaf, train_acc, label='Train accuracy')\n",
        "plt.plot(min_samples_leaf, test_acc, label='Test accuracy')\n",
        "plt.plot(min_samples_leaf, cv_acc, label='CV score')\n",
        "plt.legend()\n",
        "plt.xlabel('Min samples per leaf (inverse of complexity)')\n",
        "plt.ylabel('Accuracy score')\n",
        "plt.show\n",
        "\n",
        "print('Best min_samples_leaf using validation set:', min_samples_leaf[test_acc.index(max(test_acc))], '(Accuracy score:', str(max(test_acc))+')')\n",
        "print('Best min_samples_leaf using CV:', min_samples_leaf[cv_acc.index(max(cv_acc))], '(Accuracy score:', str(max(cv_acc))+')')\n",
        "print('Confusion Matrix:\\n')"
      ],
      "metadata": {
        "colab": {
          "base_uri": "https://localhost:8080/",
          "height": 382
        },
        "id": "HgVwwxn47sFi",
        "outputId": "9cfdd910-e04d-4ac7-b66e-d2e9526186d3"
      },
      "execution_count": null,
      "outputs": [
        {
          "output_type": "stream",
          "name": "stdout",
          "text": [
            "Best min_samples_leaf using validation set: 10 (Accuracy score: 0.9533708676194601)\n",
            "Best min_samples_leaf using CV: 10 (Accuracy score: 0.9527929627348322)\n",
            "Confusion Matrix:\n",
            "\n"
          ]
        },
        {
          "output_type": "display_data",
          "data": {
            "text/plain": [
              "<Figure size 450x300 with 1 Axes>"
            ],
            "image/png": "[encoded data removed]"
          },
          "metadata": {}
        }
      ]
    },
    {
      "cell_type": "code",
      "source": [
        "model_tunning = DecisionTreeClassifier(min_samples_leaf=10, random_state=42)\n",
        "model_tunning.fit(X_train, y_train)\n",
        "\n",
        "y_pred_test = model_tunning.predict(X_test)\n",
        "y_pred_cv = cross_val_predict(model_tunning, X, y, cv=5)\n",
        "\n",
        "tree_fpr, tree_tpr, thresholds = roc_curve(y, y_pred_cv)\n",
        "tree_auc = auc(tree_fpr, tree_tpr)\n",
        "\n",
        "print('Simple Accuracy:', accuracy_score(y_test, y_pred_test))\n",
        "print('CV Accuracy:', accuracy_score(y, y_pred_cv))\n",
        "print('CV AUC:', tree_auc)\n",
        "print('Tree object node count:', model_tunning.tree_.node_count)\n",
        "print('Confusion matrix:\\n', confusion_matrix(y, y_pred_cv))"
      ],
      "metadata": {
        "colab": {
          "base_uri": "https://localhost:8080/"
        },
        "outputId": "dd62f09e-c176-4f52-dc1f-42f682692422",
        "id": "yvJJopTBBRl8"
      },
      "execution_count": null,
      "outputs": [
        {
          "output_type": "stream",
          "name": "stdout",
          "text": [
            "Simple Accuracy: 0.9533708676194601\n",
            "CV Accuracy: 0.9527929627348322\n",
            "CV AUC: 0.9505471242894464\n",
            "Tree object node count: 1947\n",
            "Confusion matrix:\n",
            " [[56959  1920]\n",
            " [ 2985 42040]]\n"
          ]
        }
      ]
    },
    {
      "cell_type": "markdown",
      "source": [
        "### min_samples_split (internal node)"
      ],
      "metadata": {
        "id": "CTwXqTV8KufO"
      }
    },
    {
      "cell_type": "code",
      "source": [
        "min_samples_split = range(30,60)\n",
        "\n",
        "# create 2 lists to store the accuracy at different min samples for further splitting\n",
        "train_acc = []\n",
        "test_acc = []\n",
        "cv_acc = []\n",
        "\n",
        "# create a loop to try out different min samples for further splitting\n",
        "for i in min_samples_split:\n",
        "  model_tunning = DecisionTreeClassifier(min_samples_split=int(i), random_state=42)\n",
        "  model_tunning.fit(X_train, y_train)\n",
        "\n",
        "  y_pred_train = model_tunning.predict(X_train)\n",
        "  y_pred_test = model_tunning.predict(X_test)\n",
        "  y_pred_cv = cross_val_predict(model_tunning, X, y, cv=5)\n",
        "\n",
        "  train_acc.append(accuracy_score(y_train, y_pred_train))\n",
        "  test_acc.append(accuracy_score(y_test, y_pred_test))\n",
        "  cv_acc.append(accuracy_score(y, y_pred_cv))\n",
        "\n",
        "# visualize\n",
        "plt.figure(figsize=(4.5,3))\n",
        "plt.plot(min_samples_split, train_acc, label='Train accuracy')\n",
        "plt.plot(min_samples_split, test_acc, label='Test accuracy')\n",
        "plt.plot(min_samples_split, cv_acc, label='CV score')\n",
        "plt.legend()\n",
        "plt.xlabel('Min samples for further splitting')\n",
        "plt.ylabel('Accuracy score')\n",
        "plt.show\n",
        "\n",
        "print('Best min_samples_split using validation:', min_samples_split[test_acc.index(max(test_acc))], '(Accuracy score:', str(max(test_acc))+')')\n",
        "print('Best min_samples_split using CV:', min_samples_split[cv_acc.index(max(cv_acc))], '(Accuracy score:', str(max(cv_acc))+')')"
      ],
      "metadata": {
        "colab": {
          "base_uri": "https://localhost:8080/",
          "height": 352
        },
        "outputId": "12be6ab9-6e63-47a8-cad9-62d419892ec4",
        "id": "5ByhofePA0yC"
      },
      "execution_count": null,
      "outputs": [
        {
          "output_type": "stream",
          "name": "stdout",
          "text": [
            "Best min_samples_split using validation: 42 (Accuracy score: 0.9540686203743804)\n",
            "Best min_samples_split using CV: 58 (Accuracy score: 0.9541018632583924)\n"
          ]
        },
        {
          "output_type": "display_data",
          "data": {
            "text/plain": [
              "<Figure size 450x300 with 1 Axes>"
            ],
            "image/png": "[encoded data removed]"
          },
          "metadata": {}
        }
      ]
    },
    {
      "cell_type": "code",
      "source": [
        "model_tunning = DecisionTreeClassifier(min_samples_split=58, random_state=42)\n",
        "model_tunning.fit(X_train, y_train)\n",
        "\n",
        "y_pred_test = model_tunning.predict(X_test)\n",
        "y_pred_cv = cross_val_predict(model_tunning, X, y, cv=5)\n",
        "\n",
        "tree_fpr, tree_tpr, thresholds = roc_curve(y, y_pred_cv)\n",
        "tree_auc = auc(tree_fpr, tree_tpr)\n",
        "\n",
        "print('Simple Accuracy:', accuracy_score(y_test, y_pred_test))\n",
        "print('CV Accuracy:', accuracy_score(y, y_pred_cv))\n",
        "print('CV AUC:', tree_auc)\n",
        "print('Tree object node count:', model_tunning.tree_.node_count)\n",
        "print('Confusion matrix:\\n', confusion_matrix(y, y_pred_cv))"
      ],
      "metadata": {
        "colab": {
          "base_uri": "https://localhost:8080/"
        },
        "outputId": "ecb0d16b-90df-4a31-d1df-5d6c6c64d5da",
        "id": "TEuKgGeFA-un"
      },
      "execution_count": null,
      "outputs": [
        {
          "output_type": "stream",
          "name": "stdout",
          "text": [
            "Simple Accuracy: 0.9531783841008613\n",
            "CV Accuracy: 0.9541018632583924\n",
            "CV AUC: 0.9517856495971716\n",
            "Tree object node count: 1309\n",
            "Confusion matrix:\n",
            " [[57063  1816]\n",
            " [ 2953 42072]]\n"
          ]
        }
      ]
    },
    {
      "cell_type": "markdown",
      "source": [
        "### min_weight_fraction_leaf"
      ],
      "metadata": {
        "id": "niFqzWLwRkx2"
      }
    },
    {
      "cell_type": "code",
      "source": [
        "min_weight_fraction_leaf = np.linspace(0.0, 0.5, 10)\n",
        "\n",
        "# create 2 lists to store the accuracy at different min samples for further splitting\n",
        "train_acc = []\n",
        "test_acc = []\n",
        "cv_acc = []\n",
        "\n",
        "# create a loop to try out different min samples for further splitting\n",
        "for i in min_weight_fraction_leaf:\n",
        "  model_tunning = DecisionTreeClassifier(min_weight_fraction_leaf=i, random_state=42)\n",
        "  model_tunning.fit(X_train, y_train)\n",
        "\n",
        "  y_pred_train = model_tunning.predict(X_train)\n",
        "  y_pred_test = model_tunning.predict(X_test)\n",
        "  y_pred_cv = cross_val_predict(model_tuning, X, y, cv=5)\n",
        "\n",
        "  train_acc.append(accuracy_score(y_train, y_pred_train))\n",
        "  test_acc.append(accuracy_score(y_test, y_pred_test))\n",
        "  cv_acc.append(accuracy_score(y, y_pred_cv))\n",
        "\n",
        "# visualize\n",
        "plt.figure(figsize=(4.5,3))\n",
        "plt.plot(min_weight_fraction_leaf, train_acc, label='Train accuracy')\n",
        "plt.plot(min_weight_fraction_leaf, test_acc, label='Test accuracy')\n",
        "plt.plot(min_weight_fraction_leaf, cv_acc, label='CV score')\n",
        "plt.legend()\n",
        "plt.xlabel('Min samples for further splitting')\n",
        "plt.ylabel('Accuracy score')\n",
        "plt.show\n",
        "\n",
        "print('Best min_weight_fraction_leaf using validation:', min_weight_fraction_leaf[test_acc.index(max(test_acc))], '(Accuracy score:', str(max(test_acc))+')')\n",
        "print('Best min_weight_fraction_leaf using CV:', min_weight_fraction_leaf[cv_acc.index(max(cv_acc))], '(Accuracy score:', str(max(cv_acc))+')')"
      ],
      "metadata": {
        "colab": {
          "base_uri": "https://localhost:8080/",
          "height": 347
        },
        "id": "QbLodLv9RrEr",
        "outputId": "915ffdcb-132a-4de1-9eb7-ad4a7ff898b2"
      },
      "execution_count": null,
      "outputs": [
        {
          "output_type": "stream",
          "name": "stdout",
          "text": [
            "Best min_weight_fraction_leaf using validation: 0.0 (Accuracy score: 0.9454549829170877)\n",
            "Best min_weight_fraction_leaf using CV: 0.0 (Accuracy score: 0.9370957807206652)\n"
          ]
        },
        {
          "output_type": "display_data",
          "data": {
            "text/plain": [
              "<Figure size 450x300 with 1 Axes>"
            ],
            "image/png": "[encoded data removed]"
          },
          "metadata": {}
        }
      ]
    },
    {
      "cell_type": "markdown",
      "source": [
        "### min_impurity_decrease"
      ],
      "metadata": {
        "id": "ENyszhROUGdD"
      }
    },
    {
      "cell_type": "code",
      "source": [
        "min_impurity_decrease = np.linspace(0.0, 0.5, 10)\n",
        "\n",
        "# create 2 lists to store the accuracy at different min samples for further splitting\n",
        "train_acc = []\n",
        "test_acc = []\n",
        "cv_acc = []\n",
        "\n",
        "# create a loop to try out different min samples for further splitting\n",
        "for i in min_impurity_decrease:\n",
        "  model_tunning = DecisionTreeClassifier(min_impurity_decrease=i, random_state=42)\n",
        "  model_tunning.fit(X_train, y_train)\n",
        "\n",
        "  y_pred_train = model_tunning.predict(X_train)\n",
        "  y_pred_test = model_tunning.predict(X_test)\n",
        "  y_pred_cv = cross_val_predict(model_tuning, X, y, cv=5)\n",
        "\n",
        "  train_acc.append(accuracy_score(y_train, y_pred_train))\n",
        "  test_acc.append(accuracy_score(y_test, y_pred_test))\n",
        "  cv_acc.append(accuracy_score(y, y_pred_cv))\n",
        "\n",
        "# visualize\n",
        "plt.figure(figsize=(4.5,3))\n",
        "plt.plot(min_impurity_decrease, train_acc, label='Train accuracy')\n",
        "plt.plot(min_impurity_decrease, test_acc, label='Test accuracy')\n",
        "plt.plot(min_impurity_decrease, cv_acc, label='CV score')\n",
        "plt.legend()\n",
        "plt.xlabel('Min samples for further splitting')\n",
        "plt.ylabel('Accuracy score')\n",
        "plt.show\n",
        "\n",
        "print('Best min_impurity_decrease using validation:', min_impurity_decrease[test_acc.index(max(test_acc))], '(Accuracy score:', str(max(test_acc))+')')\n",
        "print('Best min_impurity_decrease using CV:', min_impurity_decrease[cv_acc.index(max(cv_acc))], '(Accuracy score:', str(max(cv_acc))+')')"
      ],
      "metadata": {
        "colab": {
          "base_uri": "https://localhost:8080/",
          "height": 347
        },
        "id": "Ms9MGQCcUIPP",
        "outputId": "05f1a966-dff8-42d6-d76b-0a782b81c389"
      },
      "execution_count": null,
      "outputs": [
        {
          "output_type": "stream",
          "name": "stdout",
          "text": [
            "Best min_impurity_decrease using validation: 0.0 (Accuracy score: 0.9454549829170877)\n",
            "Best min_impurity_decrease using CV: 0.0 (Accuracy score: 0.9370957807206652)\n"
          ]
        },
        {
          "output_type": "display_data",
          "data": {
            "text/plain": [
              "<Figure size 450x300 with 1 Axes>"
            ],
            "image/png": "[encoded data removed]"
          },
          "metadata": {}
        }
      ]
    },
    {
      "cell_type": "markdown",
      "source": [
        "### max_depth + max_leaf_nodes"
      ],
      "metadata": {
        "id": "-LrsX5SsendZ"
      }
    },
    {
      "cell_type": "code",
      "source": [
        "model_tunning = DecisionTreeClassifier(max_depth=13, max_leaf_nodes=375, random_state=42)\n",
        "model_tunning.fit(X_train, y_train)\n",
        "\n",
        "y_pred_test = model_tunning.predict(X_test)\n",
        "y_pred_cv = cross_val_predict(model_tunning, X, y, cv=5)\n",
        "\n",
        "tree_fpr, tree_tpr, thresholds = roc_curve(y, y_pred_cv)\n",
        "tree_auc = auc(tree_fpr, tree_tpr)\n",
        "\n",
        "print('Simple Accuracy:', accuracy_score(y_test, y_pred_test))\n",
        "print('CV Accuracy:', accuracy_score(y, y_pred_cv))\n",
        "print('CV AUC:', tree_auc)\n",
        "print('Tree object node count:', model_tunning.tree_.node_count)\n",
        "print('Confusion matrix:\\n', confusion_matrix(y, y_pred_cv))"
      ],
      "metadata": {
        "colab": {
          "base_uri": "https://localhost:8080/"
        },
        "outputId": "54d9954a-a262-4129-9a1b-171294b24da2",
        "id": "gO1gnXPOf6AD"
      },
      "execution_count": null,
      "outputs": [
        {
          "output_type": "stream",
          "name": "stdout",
          "text": [
            "Simple Accuracy: 0.955343823685097\n",
            "CV Accuracy: 0.9549391746227287\n",
            "CV AUC: 0.9520070888754348\n",
            "Tree object node count: 749\n",
            "Confusion matrix:\n",
            " [[57348  1531]\n",
            " [ 3151 41874]]\n"
          ]
        }
      ]
    },
    {
      "cell_type": "markdown",
      "source": [
        "### max_depth + max_leaf_nodes + min_samples_split"
      ],
      "metadata": {
        "id": "JkLHvJ6TEKEx"
      }
    },
    {
      "cell_type": "code",
      "source": [
        "model_tunning = DecisionTreeClassifier(max_depth=13, max_leaf_nodes=375, min_samples_split=58, random_state=42)\n",
        "model_tunning.fit(X_train, y_train)\n",
        "\n",
        "y_pred_test = model_tunning.predict(X_test)\n",
        "y_pred_cv = cross_val_predict(model_tunning, X, y, cv=5)\n",
        "\n",
        "tree_fpr, tree_tpr, thresholds = roc_curve(y, y_pred_cv)\n",
        "tree_auc = auc(tree_fpr, tree_tpr)\n",
        "\n",
        "print('Simple Accuracy:', accuracy_score(y_test, y_pred_test))\n",
        "print('CV Accuracy:', accuracy_score(y, y_pred_cv))\n",
        "print('CV AUC:', tree_auc)\n",
        "print('Tree object node count:', model_tunning.tree_.node_count)\n",
        "print('Confusion matrix:\\n', confusion_matrix(y, y_pred_cv))"
      ],
      "metadata": {
        "colab": {
          "base_uri": "https://localhost:8080/"
        },
        "outputId": "28658a66-a42c-48df-b331-5ad2811ad53b",
        "id": "W9gGsFAhEHuM"
      },
      "execution_count": null,
      "outputs": [
        {
          "output_type": "stream",
          "name": "stdout",
          "text": [
            "Simple Accuracy: 0.9533708676194601\n",
            "CV Accuracy: 0.953264551894056\n",
            "CV AUC: 0.9502472836965379\n",
            "Tree object node count: 745\n",
            "Confusion matrix:\n",
            " [[57282  1597]\n",
            " [ 3259 41766]]\n"
          ]
        }
      ]
    },
    {
      "cell_type": "markdown",
      "source": [
        "### max_leaf_nodes + min_samples_split"
      ],
      "metadata": {
        "id": "b6JOi-tuGL2R"
      }
    },
    {
      "cell_type": "code",
      "source": [
        "model_tunning = DecisionTreeClassifier(max_leaf_nodes=375, min_samples_split=58, random_state=42)\n",
        "model_tunning.fit(X_train, y_train)\n",
        "\n",
        "y_pred_test = model_tunning.predict(X_test)\n",
        "y_pred_cv = cross_val_predict(model_tunning, X, y, cv=5)\n",
        "\n",
        "tree_fpr, tree_tpr, thresholds = roc_curve(y, y_pred_cv)\n",
        "tree_auc = auc(tree_fpr, tree_tpr)\n",
        "\n",
        "print('Simple Accuracy:', accuracy_score(y_test, y_pred_test))\n",
        "print('CV Accuracy:', accuracy_score(y, y_pred_cv))\n",
        "print('CV AUC:', tree_auc)\n",
        "print('Tree object node count:', model_tunning.tree_.node_count)\n",
        "print('Confusion matrix:\\n', confusion_matrix(y, y_pred_cv))"
      ],
      "metadata": {
        "colab": {
          "base_uri": "https://localhost:8080/"
        },
        "outputId": "e948e024-10cd-4f11-a138-771c70aaf81e",
        "id": "JkK7oqrzGXuT"
      },
      "execution_count": null,
      "outputs": [
        {
          "output_type": "stream",
          "name": "stdout",
          "text": [
            "Simple Accuracy: 0.9536595928973581\n",
            "CV Accuracy: 0.9557668617185094\n",
            "CV AUC: 0.953084922494989\n",
            "Tree object node count: 749\n",
            "Confusion matrix:\n",
            " [[57301  1578]\n",
            " [ 3018 42007]]\n"
          ]
        }
      ]
    },
    {
      "cell_type": "markdown",
      "source": [
        "### max_leaf_nodes + min_samples_split + min_samples_leaf"
      ],
      "metadata": {
        "id": "3rw1hsr5Gphy"
      }
    },
    {
      "cell_type": "code",
      "source": [
        "model_tunning = DecisionTreeClassifier(max_leaf_nodes=375, min_samples_split=58, min_samples_leaf=10, random_state=42)\n",
        "model_tunning.fit(X_train, y_train)\n",
        "\n",
        "y_pred_test = model_tunning.predict(X_test)\n",
        "y_pred_cv = cross_val_predict(model_tunning, X, y, cv=5)\n",
        "\n",
        "tree_fpr, tree_tpr, thresholds = roc_curve(y, y_pred_cv)\n",
        "tree_auc = auc(tree_fpr, tree_tpr)\n",
        "\n",
        "print('Simple Accuracy:', accuracy_score(y_test, y_pred_test))\n",
        "print('CV Accuracy:', accuracy_score(y, y_pred_cv))\n",
        "print('CV AUC:', tree_auc)\n",
        "print('Tree object node count:', model_tunning.tree_.node_count)\n",
        "print('Confusion matrix:\\n', confusion_matrix(y, y_pred_cv))"
      ],
      "metadata": {
        "colab": {
          "base_uri": "https://localhost:8080/"
        },
        "outputId": "243a34e7-7867-4cfa-8c52-8e465e292ca5",
        "id": "yNPjffzMG1fv"
      },
      "execution_count": null,
      "outputs": [
        {
          "output_type": "stream",
          "name": "stdout",
          "text": [
            "Simple Accuracy: 0.9532986862999856\n",
            "CV Accuracy: 0.9536495226362797\n",
            "CV AUC: 0.9509710669767892\n",
            "Tree object node count: 749\n",
            "Confusion matrix:\n",
            " [[57175  1704]\n",
            " [ 3112 41913]]\n"
          ]
        }
      ]
    },
    {
      "cell_type": "markdown",
      "source": [
        "### min_samples_split + min_samples_leaf"
      ],
      "metadata": {
        "id": "ubPcUqtvHBG-"
      }
    },
    {
      "cell_type": "code",
      "source": [
        "model_tunning = DecisionTreeClassifier(min_samples_split=58, min_samples_leaf=10, random_state=42)\n",
        "model_tunning.fit(X_train, y_train)\n",
        "\n",
        "y_pred_test = model_tunning.predict(X_test)\n",
        "y_pred_cv = cross_val_predict(model_tunning, X, y, cv=5)\n",
        "\n",
        "tree_fpr, tree_tpr, thresholds = roc_curve(y, y_pred_cv)\n",
        "tree_auc = auc(tree_fpr, tree_tpr)\n",
        "\n",
        "print('Simple Accuracy:', accuracy_score(y_test, y_pred_test))\n",
        "print('CV Accuracy:', accuracy_score(y, y_pred_cv))\n",
        "print('CV AUC:', tree_auc)\n",
        "print('Tree object node count:', model_tunning.tree_.node_count)\n",
        "print('Confusion matrix:\\n', confusion_matrix(y, y_pred_cv))"
      ],
      "metadata": {
        "colab": {
          "base_uri": "https://localhost:8080/"
        },
        "outputId": "766fc179-5827-4c56-d28b-ddea2b1b0121",
        "id": "qGlpPt1oG5FE"
      },
      "execution_count": null,
      "outputs": [
        {
          "output_type": "stream",
          "name": "stdout",
          "text": [
            "Simple Accuracy: 0.9529137192627881\n",
            "CV Accuracy: 0.9531394364028334\n",
            "CV AUC: 0.9506333482329052\n",
            "Tree object node count: 1121\n",
            "Confusion matrix:\n",
            " [[57079  1800]\n",
            " [ 3069 41956]]\n"
          ]
        }
      ]
    },
    {
      "cell_type": "markdown",
      "source": [
        "### max_depth + min_samples_split"
      ],
      "metadata": {
        "id": "QdSNdZhbIr_0"
      }
    },
    {
      "cell_type": "code",
      "source": [
        "model_tunning = DecisionTreeClassifier(max_depth=13, min_samples_split=58, random_state=42)\n",
        "model_tunning.fit(X_train, y_train)\n",
        "\n",
        "y_pred_test = model_tunning.predict(X_test)\n",
        "y_pred_cv = cross_val_predict(model_tunning, X, y, cv=5)\n",
        "\n",
        "tree_fpr, tree_tpr, thresholds = roc_curve(y, y_pred_cv)\n",
        "tree_auc = auc(tree_fpr, tree_tpr)\n",
        "\n",
        "print('Simple Accuracy:', accuracy_score(y_test, y_pred_test))\n",
        "print('CV Accuracy:', accuracy_score(y, y_pred_cv))\n",
        "print('CV AUC:', tree_auc)\n",
        "print('Tree object node count:', model_tunning.tree_.node_count)\n",
        "print('Confusion matrix:\\n', confusion_matrix(y, y_pred_cv))"
      ],
      "metadata": {
        "colab": {
          "base_uri": "https://localhost:8080/"
        },
        "outputId": "f16d5ac3-326c-40fc-af97-d521886a5bcc",
        "id": "6T7sPoB9G5Si"
      },
      "execution_count": null,
      "outputs": [
        {
          "output_type": "stream",
          "name": "stdout",
          "text": [
            "Simple Accuracy: 0.953539290698234\n",
            "CV Accuracy: 0.9532068062827225\n",
            "CV AUC: 0.9501884928952863\n",
            "Tree object node count: 743\n",
            "Confusion matrix:\n",
            " [[57279  1600]\n",
            " [ 3262 41763]]\n"
          ]
        }
      ]
    },
    {
      "cell_type": "markdown",
      "source": [
        "### max_depth + min_samples_leaf"
      ],
      "metadata": {
        "id": "9luwzOOuJAEX"
      }
    },
    {
      "cell_type": "code",
      "source": [
        "model_tunning = DecisionTreeClassifier(max_depth=13, min_samples_leaf=10, random_state=42)\n",
        "model_tunning.fit(X_train, y_train)\n",
        "\n",
        "y_pred_test = model_tunning.predict(X_test)\n",
        "y_pred_cv = cross_val_predict(model_tunning, X, y, cv=5)\n",
        "\n",
        "tree_fpr, tree_tpr, thresholds = roc_curve(y, y_pred_cv)\n",
        "tree_auc = auc(tree_fpr, tree_tpr)\n",
        "\n",
        "print('Simple Accuracy:', accuracy_score(y_test, y_pred_test))\n",
        "print('CV Accuracy:', accuracy_score(y, y_pred_cv))\n",
        "print('CV AUC:', tree_auc)\n",
        "print('Tree object node count:', model_tunning.tree_.node_count)\n",
        "print('Confusion matrix:\\n', confusion_matrix(y, y_pred_cv))"
      ],
      "metadata": {
        "colab": {
          "base_uri": "https://localhost:8080/"
        },
        "outputId": "8ead696a-b2d0-4b07-afeb-61112461df4d",
        "id": "LMSJKMe-G5de"
      },
      "execution_count": null,
      "outputs": [
        {
          "output_type": "stream",
          "name": "stdout",
          "text": [
            "Simple Accuracy: 0.9534189884991098\n",
            "CV Accuracy: 0.9533415460425008\n",
            "CV AUC: 0.9504040599209671\n",
            "Tree object node count: 1051\n",
            "Confusion matrix:\n",
            " [[57256  1623]\n",
            " [ 3225 41800]]\n"
          ]
        }
      ]
    },
    {
      "cell_type": "markdown",
      "source": [
        "### max_leaf_nodes + min_samples_leaf"
      ],
      "metadata": {
        "id": "bI9NvywoJRSu"
      }
    },
    {
      "cell_type": "code",
      "source": [
        "model_tunning = DecisionTreeClassifier(max_leaf_nodes=375, min_samples_leaf=10, random_state=42)\n",
        "model_tunning.fit(X_train, y_train)\n",
        "\n",
        "y_pred_test = model_tunning.predict(X_test)\n",
        "y_pred_cv = cross_val_predict(model_tunning, X, y, cv=5)\n",
        "\n",
        "tree_fpr, tree_tpr, thresholds = roc_curve(y, y_pred_cv)\n",
        "tree_auc = auc(tree_fpr, tree_tpr)\n",
        "\n",
        "print('Simple Accuracy:', accuracy_score(y_test, y_pred_test))\n",
        "print('CV Accuracy:', accuracy_score(y, y_pred_cv))\n",
        "print('CV AUC:', tree_auc)\n",
        "print('Tree object node count:', model_tunning.tree_.node_count)\n",
        "print('Confusion matrix:\\n', confusion_matrix(y, y_pred_cv))"
      ],
      "metadata": {
        "colab": {
          "base_uri": "https://localhost:8080/"
        },
        "outputId": "269c0067-10c2-4c97-9dad-a5798495f459",
        "id": "xTrqySEZG5v_"
      },
      "execution_count": null,
      "outputs": [
        {
          "output_type": "stream",
          "name": "stdout",
          "text": [
            "Simple Accuracy: 0.9554641258842211\n",
            "CV Accuracy: 0.9556609947643979\n",
            "CV AUC: 0.9529679940355944\n",
            "Tree object node count: 749\n",
            "Confusion matrix:\n",
            " [[57299  1580]\n",
            " [ 3027 41998]]\n"
          ]
        }
      ]
    },
    {
      "cell_type": "markdown",
      "source": [
        "### max_depth + min_samples_split + min_samples_leaf"
      ],
      "metadata": {
        "id": "VNY6MSyXKROn"
      }
    },
    {
      "cell_type": "code",
      "source": [
        "model_tunning = DecisionTreeClassifier(max_depth=13, min_samples_split=58, min_samples_leaf=10, random_state=42)\n",
        "model_tunning.fit(X_train, y_train)\n",
        "\n",
        "y_pred_test = model_tunning.predict(X_test)\n",
        "y_pred_cv = cross_val_predict(model_tunning, X, y, cv=5)\n",
        "\n",
        "tree_fpr, tree_tpr, thresholds = roc_curve(y, y_pred_cv)\n",
        "tree_auc = auc(tree_fpr, tree_tpr)\n",
        "\n",
        "print('Simple Accuracy:', accuracy_score(y_test, y_pred_test))\n",
        "print('CV Accuracy:', accuracy_score(y, y_pred_cv))\n",
        "print('CV AUC:', tree_auc)\n",
        "print('Tree object node count:', model_tunning.tree_.node_count)\n",
        "print('Confusion matrix:\\n', confusion_matrix(y, y_pred_cv))"
      ],
      "metadata": {
        "colab": {
          "base_uri": "https://localhost:8080/"
        },
        "outputId": "e790c072-314b-484a-921c-4ee41441919a",
        "id": "zwFZk_nCEIVP"
      },
      "execution_count": null,
      "outputs": [
        {
          "output_type": "stream",
          "name": "stdout",
          "text": [
            "Simple Accuracy: 0.9532265049805111\n",
            "CV Accuracy: 0.9524464890668309\n",
            "CV AUC: 0.9493791391918974\n",
            "Tree object node count: 711\n",
            "Confusion matrix:\n",
            " [[57253  1626]\n",
            " [ 3315 41710]]\n"
          ]
        }
      ]
    },
    {
      "cell_type": "markdown",
      "source": [
        "### max_depth + max_leaf_nodes + min_samples_leaf"
      ],
      "metadata": {
        "id": "xCpiAgHcKUEF"
      }
    },
    {
      "cell_type": "code",
      "source": [
        "model_tunning = DecisionTreeClassifier(max_depth=13, max_leaf_nodes=375, min_samples_leaf=10, random_state=42)\n",
        "model_tunning.fit(X_train, y_train)\n",
        "\n",
        "y_pred_test = model_tunning.predict(X_test)\n",
        "y_pred_cv = cross_val_predict(model_tunning, X, y, cv=5)\n",
        "\n",
        "tree_fpr, tree_tpr, thresholds = roc_curve(y, y_pred_cv)\n",
        "tree_auc = auc(tree_fpr, tree_tpr)\n",
        "\n",
        "print('Simple Accuracy:', accuracy_score(y_test, y_pred_test))\n",
        "print('CV Accuracy:', accuracy_score(y, y_pred_cv))\n",
        "print('CV AUC:', tree_auc)\n",
        "print('Tree object node count:', model_tunning.tree_.node_count)\n",
        "print('Confusion matrix:\\n', confusion_matrix(y, y_pred_cv))"
      ],
      "metadata": {
        "colab": {
          "base_uri": "https://localhost:8080/"
        },
        "outputId": "e81fea37-1d24-46e3-fc4c-2f2b746b18de",
        "id": "FkOZNf_IKFN9"
      },
      "execution_count": null,
      "outputs": [
        {
          "output_type": "stream",
          "name": "stdout",
          "text": [
            "Simple Accuracy: 0.953539290698234\n",
            "CV Accuracy: 0.9533992916538343\n",
            "CV AUC: 0.95040797877962\n",
            "Tree object node count: 749\n",
            "Confusion matrix:\n",
            " [[57280  1599]\n",
            " [ 3243 41782]]\n"
          ]
        }
      ]
    },
    {
      "cell_type": "markdown",
      "source": [
        "### max_depth + max_leaf_nodes + min_samples_split + min_samples_leaf"
      ],
      "metadata": {
        "id": "d1nfiGL1ER_5"
      }
    },
    {
      "cell_type": "code",
      "source": [
        "model_tunning = DecisionTreeClassifier(max_depth=13, max_leaf_nodes=375, min_samples_split=58, min_samples_leaf=10, random_state=42)\n",
        "model_tunning.fit(X_train, y_train)\n",
        "\n",
        "y_pred_test = model_tunning.predict(X_test)\n",
        "y_pred_cv = cross_val_predict(model_tunning, X, y, cv=5)\n",
        "\n",
        "tree_fpr, tree_tpr, thresholds = roc_curve(y, y_pred_cv)\n",
        "tree_auc = auc(tree_fpr, tree_tpr)\n",
        "\n",
        "print('Simple Accuracy:', accuracy_score(y_test, y_pred_test))\n",
        "print('CV Accuracy:', accuracy_score(y, y_pred_cv))\n",
        "print('CV AUC:', tree_auc)\n",
        "print('Tree object node count:', model_tunning.tree_.node_count)\n",
        "print('Confusion matrix:\\n', confusion_matrix(y, y_pred_cv))"
      ],
      "metadata": {
        "colab": {
          "base_uri": "https://localhost:8080/"
        },
        "outputId": "b448a334-8f56-4784-c3e2-e372f0b998fd",
        "id": "9QYWMTBgKFXn"
      },
      "execution_count": null,
      "outputs": [
        {
          "output_type": "stream",
          "name": "stdout",
          "text": [
            "Simple Accuracy: 0.9531783841008613\n",
            "CV Accuracy: 0.9524561133353865\n",
            "CV AUC: 0.9493876311839491\n",
            "Tree object node count: 711\n",
            "Confusion matrix:\n",
            " [[57254  1625]\n",
            " [ 3315 41710]]\n"
          ]
        }
      ]
    },
    {
      "cell_type": "markdown",
      "source": [
        "## criterion = 'entropy'"
      ],
      "metadata": {
        "id": "OTkGARzbbd2E"
      }
    },
    {
      "cell_type": "code",
      "source": [
        "model_tunning = DecisionTreeClassifier(criterion='entropy', random_state=42)\n",
        "model_tunning.fit(X_train, y_train)\n",
        "\n",
        "y_pred_test = model_tunning.predict(X_test)\n",
        "y_pred_cv = cross_val_predict(model_tunning, X, y, cv=5)\n",
        "\n",
        "tree_fpr, tree_tpr, thresholds = roc_curve(y, y_pred_cv)\n",
        "tree_auc = auc(tree_fpr, tree_tpr)\n",
        "\n",
        "print('Simple Accuracy:', accuracy_score(y_test, y_pred_test))\n",
        "print('CV Accuracy:', accuracy_score(y, y_pred_cv))\n",
        "print('CV AUC:', tree_auc)\n",
        "print('Tree object node count:', model_tunning.tree_.node_count)\n",
        "print('Confusion matrix:\\n', confusion_matrix(y, y_pred_cv))"
      ],
      "metadata": {
        "colab": {
          "base_uri": "https://localhost:8080/"
        },
        "outputId": "6a706cf2-55c2-4f7a-87eb-f1b62f729525",
        "id": "EwbPQnsnwkOq"
      },
      "execution_count": null,
      "outputs": [
        {
          "output_type": "stream",
          "name": "stdout",
          "text": [
            "Simple Accuracy: 0.9475723016216736\n",
            "CV Accuracy: 0.9478075916230366\n",
            "CV AUC: 0.9471751616182631\n",
            "Tree object node count: 4853\n",
            "Confusion matrix:\n",
            " [[56048  2831]\n",
            " [ 2592 42433]]\n"
          ]
        }
      ]
    },
    {
      "cell_type": "markdown",
      "source": [
        "### max_depth (create a loop to try out different depth value)"
      ],
      "metadata": {
        "id": "qMZOx6fWb3u8"
      }
    },
    {
      "cell_type": "code",
      "source": [
        "# create array that hold max_depth from 0 to 35\n",
        "max_depth = np.linspace(1, 35, 35, endpoint=True)\n",
        "\n",
        "# create 2 lists for training and testing set, and append the accuracy at different depth level in\n",
        "train_acc = []\n",
        "test_acc = []\n",
        "cv_acc = []\n",
        "\n",
        "# create a loop to try out all the number from 1 to 35 for max_depths in a decision tree\n",
        "for i in max_depth:\n",
        "  model_tuning = DecisionTreeClassifier(criterion='entropy', max_depth=int(i), random_state=42)\n",
        "  model_tuning.fit(X_train, y_train)\n",
        "\n",
        "  y_pred_train = model_tuning.predict(X_train)\n",
        "  y_pred_test = model_tuning.predict(X_test)\n",
        "  y_pred_cv = cross_val_predict(model_tuning, X, y, cv=5)\n",
        "\n",
        "  train_acc.append(accuracy_score(y_train, y_pred_train))\n",
        "  test_acc.append(accuracy_score(y_test, y_pred_test))\n",
        "  cv_acc.append(accuracy_score(y, y_pred_cv))\n",
        "\n",
        "\n",
        "plt.figure(figsize=(4.5,3))\n",
        "plt.plot(train_acc, label='Train accuracy')\n",
        "plt.plot(test_acc, label='Test accuracy')\n",
        "plt.plot(cv_acc, label='CV score')\n",
        "plt.legend()\n",
        "plt.xlabel('Tree depth')\n",
        "plt.ylabel('Accuracy score')\n",
        "plt.show()\n",
        "\n",
        "#print the best max_depth\n",
        "print('Best max_depth using validation set:', test_acc.index(max(test_acc))+1, '(Accuracy score:', str(max(test_acc))+')')\n",
        "print('Best max_depth using CV:', cv_acc.index(max(cv_acc))+1, '(Accuracy score:', str(max(cv_acc))+')')"
      ],
      "metadata": {
        "colab": {
          "base_uri": "https://localhost:8080/",
          "height": 347
        },
        "outputId": "50ecc65a-7c3a-4951-eddd-ea571c372a1b",
        "id": "hZZrqOQwb3u9"
      },
      "execution_count": null,
      "outputs": [
        {
          "output_type": "display_data",
          "data": {
            "text/plain": [
              "<Figure size 450x300 with 1 Axes>"
            ],
            "image/png": "[encoded data removed]"
          },
          "metadata": {}
        },
        {
          "output_type": "stream",
          "name": "stdout",
          "text": [
            "Best max_depth using validation set: 15 (Accuracy score: 0.9549347962080746)\n",
            "Best max_depth using CV: 16 (Accuracy score: 0.9530143209116108)\n"
          ]
        }
      ]
    },
    {
      "cell_type": "code",
      "source": [
        "model_tunning = DecisionTreeClassifier(criterion='entropy', max_depth=16, random_state=42)\n",
        "model_tunning.fit(X_train, y_train)\n",
        "\n",
        "y_pred_test = model_tunning.predict(X_test)\n",
        "y_pred_cv = cross_val_predict(model_tunning, X, y, cv=5)\n",
        "\n",
        "tree_fpr, tree_tpr, thresholds = roc_curve(y, y_pred_cv)\n",
        "tree_auc = auc(tree_fpr, tree_tpr)\n",
        "\n",
        "print('Simple Accuracy:', accuracy_score(y_test, y_pred_test))\n",
        "print('CV Accuracy:', accuracy_score(y, y_pred_cv))\n",
        "print('CV AUC:', tree_auc)\n",
        "print('Tree object node count:', model_tunning.tree_.node_count)\n",
        "print('Confusion matrix:\\n', confusion_matrix(y, y_pred_cv))"
      ],
      "metadata": {
        "colab": {
          "base_uri": "https://localhost:8080/"
        },
        "outputId": "95b72d43-0797-4e0d-ddfa-57800966bfaf",
        "id": "-LCE7EhcwSCB"
      },
      "execution_count": null,
      "outputs": [
        {
          "output_type": "stream",
          "name": "stdout",
          "text": [
            "Simple Accuracy: 0.9545257687310524\n",
            "CV Accuracy: 0.9530143209116108\n",
            "CV AUC: 0.9507685696031064\n",
            "Tree object node count: 2237\n",
            "Confusion matrix:\n",
            " [[56972  1907]\n",
            " [ 2975 42050]]\n"
          ]
        }
      ]
    },
    {
      "cell_type": "markdown",
      "source": [
        "### max_leaf_nodes"
      ],
      "metadata": {
        "id": "WjA9g4Rab3u9"
      }
    },
    {
      "cell_type": "code",
      "source": [
        "max_leaf_nodes = range(200, 600, 20)\n",
        "\n",
        "train_acc = []\n",
        "test_acc = []\n",
        "cv_acc = []\n",
        "cv_auc = []\n",
        "node_count = []\n",
        "\n",
        "for i in max_leaf_nodes:\n",
        "  model_tunning = DecisionTreeClassifier(criterion='entropy', max_leaf_nodes=int(i), random_state=42)\n",
        "  model_tunning.fit(X_train, y_train)\n",
        "\n",
        "  y_pred_train = model_tunning.predict(X_train)\n",
        "  y_pred_test = model_tunning.predict(X_test)\n",
        "  y_pred_cv = cross_val_predict(model_tunning, X, y, cv=5)\n",
        "\n",
        "  train_acc.append(accuracy_score(y_train, y_pred_train))\n",
        "  test_acc.append(accuracy_score(y_test, y_pred_test))\n",
        "  cv_acc.append(accuracy_score(y, y_pred_cv))\n",
        "\n",
        "  tree_fpr, tree_tpr, thresholds = roc_curve(y, y_pred_cv)\n",
        "  tree_auc = auc(tree_fpr, tree_tpr)\n",
        "  cv_auc.append(tree_auc)\n",
        "\n",
        "  treeObj = model.tree_\n",
        "  node_count.append(treeObj.node_count)\n",
        "\n",
        "# visualize\n",
        "plt.figure(figsize=(4.5,3))\n",
        "plt.plot(max_leaf_nodes, train_acc, label='Train accuracy')\n",
        "plt.plot(max_leaf_nodes, test_acc, label='Test accuracy')\n",
        "plt.plot(max_leaf_nodes, cv_acc, label='CV score')\n",
        "plt.legend()\n",
        "plt.xlabel('Max leaf nodes')\n",
        "plt.ylabel('Accuracy score')\n",
        "plt.show\n",
        "\n",
        "print('Best max_leaf_nodes using validation:', max_leaf_nodes[test_acc.index(max(test_acc))], '(Accuracy score:', str(max(test_acc))+')')\n",
        "print('Best max_leaf_nodes using CV:', max_leaf_nodes[cv_acc.index(max(cv_acc))], '(Accuracy score:', str(max(cv_acc))+')')\n",
        "print('AUC when CV accuracy is the highest: ', cv_auc[cv_acc.index(max(cv_acc))])\n",
        "print('Tree object node count: ', node_count[cv_acc.index(max(cv_acc))])"
      ],
      "metadata": {
        "colab": {
          "base_uri": "https://localhost:8080/",
          "height": 382
        },
        "outputId": "d9372071-6d57-4eb2-998e-7b1993f6f1cb",
        "id": "q67S3Yghzjh7"
      },
      "execution_count": null,
      "outputs": [
        {
          "output_type": "stream",
          "name": "stdout",
          "text": [
            "Best max_leaf_nodes using validation: 420 (Accuracy score: 0.9593378566960205)\n",
            "Best max_leaf_nodes using CV: 440 (Accuracy score: 0.9592027255928549)\n",
            "AUC when CV accuracy is the highest:  0.9562811794851692\n",
            "Tree object node count:  5369\n"
          ]
        },
        {
          "output_type": "display_data",
          "data": {
            "text/plain": [
              "<Figure size 450x300 with 1 Axes>"
            ],
            "image/png": "[encoded data removed]"
          },
          "metadata": {}
        }
      ]
    },
    {
      "cell_type": "code",
      "source": [
        "max_leaf_nodes = range(400, 450)\n",
        "\n",
        "train_acc = []\n",
        "test_acc = []\n",
        "cv_acc = []\n",
        "cv_auc = []\n",
        "node_count = []\n",
        "\n",
        "for i in max_leaf_nodes:\n",
        "  model_tunning = DecisionTreeClassifier(criterion='entropy', max_leaf_nodes=int(i), random_state=42)\n",
        "  model_tunning.fit(X_train, y_train)\n",
        "\n",
        "  y_pred_train = model_tunning.predict(X_train)\n",
        "  y_pred_test = model_tunning.predict(X_test)\n",
        "  y_pred_cv = cross_val_predict(model_tunning, X, y, cv=5)\n",
        "\n",
        "  train_acc.append(accuracy_score(y_train, y_pred_train))\n",
        "  test_acc.append(accuracy_score(y_test, y_pred_test))\n",
        "  cv_acc.append(accuracy_score(y, y_pred_cv))\n",
        "\n",
        "  tree_fpr, tree_tpr, thresholds = roc_curve(y, y_pred_cv)\n",
        "  tree_auc = auc(tree_fpr, tree_tpr)\n",
        "  cv_auc.append(tree_auc)\n",
        "\n",
        "  treeObj = model_tunning.tree_\n",
        "  node_count.append(treeObj.node_count)\n",
        "\n",
        "# visualize\n",
        "plt.figure(figsize=(4.5,3))\n",
        "plt.plot(max_leaf_nodes, train_acc, label='Train accuracy')\n",
        "plt.plot(max_leaf_nodes, test_acc, label='Test accuracy')\n",
        "plt.plot(max_leaf_nodes, cv_acc, label='CV score')\n",
        "plt.legend()\n",
        "plt.xlabel('Max leaf nodes')\n",
        "plt.ylabel('Accuracy score')\n",
        "plt.show\n",
        "\n",
        "print('Best max_leaf_nodes using validation:', max_leaf_nodes[test_acc.index(max(test_acc))], '(Accuracy score:', str(max(test_acc))+')')\n",
        "print('Best max_leaf_nodes using CV:', max_leaf_nodes[cv_acc.index(max(cv_acc))], '(Accuracy score:', str(max(cv_acc))+')')\n",
        "print('AUC when CV accuracy is the highest: ', cv_auc[cv_acc.index(max(cv_acc))])\n",
        "print('Tree object node count: ', node_count[cv_acc.index(max(cv_acc))])"
      ],
      "metadata": {
        "colab": {
          "base_uri": "https://localhost:8080/",
          "height": 382
        },
        "outputId": "62a638e0-387f-4f34-ff1f-91d717dc9110",
        "id": "c_mwfAWzb3u-"
      },
      "execution_count": null,
      "outputs": [
        {
          "output_type": "stream",
          "name": "stdout",
          "text": [
            "Best max_leaf_nodes using validation: 416 (Accuracy score: 0.9593378566960205)\n",
            "Best max_leaf_nodes using CV: 440 (Accuracy score: 0.9592027255928549)\n",
            "AUC when CV accuracy is the highest:  0.9562811794851692\n",
            "Tree object node count:  879\n"
          ]
        },
        {
          "output_type": "display_data",
          "data": {
            "text/plain": [
              "<Figure size 450x300 with 1 Axes>"
            ],
            "image/png": "[encoded data removed]"
          },
          "metadata": {}
        }
      ]
    },
    {
      "cell_type": "code",
      "source": [
        "model_tunning = DecisionTreeClassifier(criterion='entropy', max_leaf_nodes=440, random_state=42)\n",
        "model_tunning.fit(X_train, y_train)\n",
        "\n",
        "y_pred_test = model_tunning.predict(X_test)\n",
        "y_pred_cv = cross_val_predict(model_tunning, X, y, cv=5)\n",
        "\n",
        "tree_fpr, tree_tpr, thresholds = roc_curve(y, y_pred_cv)\n",
        "tree_auc = auc(tree_fpr, tree_tpr)\n",
        "\n",
        "print('Simple Accuracy:', accuracy_score(y_test, y_pred_test))\n",
        "print('CV Accuracy:', accuracy_score(y, y_pred_cv))\n",
        "print('CV AUC:', tree_auc)\n",
        "print('Tree object node count:', model_tunning.tree_.node_count)\n",
        "print('Confusion matrix:\\n', confusion_matrix(y, y_pred_cv))"
      ],
      "metadata": {
        "colab": {
          "base_uri": "https://localhost:8080/"
        },
        "outputId": "61dc4add-7568-41eb-e368-912d6b21de35",
        "id": "WPitGkUM1n0N"
      },
      "execution_count": null,
      "outputs": [
        {
          "output_type": "stream",
          "name": "stdout",
          "text": [
            "Simple Accuracy: 0.959241614936721\n",
            "CV Accuracy: 0.9592027255928549\n",
            "CV AUC: 0.9562811794851692\n",
            "Tree object node count: 879\n",
            "Confusion matrix:\n",
            " [[57595  1284]\n",
            " [ 2955 42070]]\n"
          ]
        }
      ]
    },
    {
      "cell_type": "markdown",
      "source": [
        "### min_samples_leaf (inverse of complexity, external node)"
      ],
      "metadata": {
        "id": "qMrBbERNb3u-"
      }
    },
    {
      "cell_type": "markdown",
      "source": [
        "the accuracy of validation and cv after tuning with min_samples_leaf are both reduced, so ignore this hyper-parameter"
      ],
      "metadata": {
        "id": "POvGogyDb3u-"
      }
    },
    {
      "cell_type": "code",
      "source": [
        "min_samples_leaf = range(2, 150, 10)\n",
        "# create 2 lists for training and testing set, and append the accuracy at different min samples per leaf in\n",
        "train_acc = []\n",
        "test_acc = []\n",
        "cv_acc = []\n",
        "\n",
        "# create a loop to try out numbers from 1 to 80 for min samples per leaf\n",
        "for i in min_samples_leaf:\n",
        "  model_tuning = DecisionTreeClassifier(criterion='entropy', min_samples_leaf=int(i), random_state=42)\n",
        "  model_tuning.fit(X_train, y_train)\n",
        "\n",
        "  y_pred_train = model_tuning.predict(X_train)\n",
        "  y_pred_test = model_tuning.predict(X_test)\n",
        "  y_pred_cv = cross_val_predict(model_tuning, X, y, cv=5)\n",
        "\n",
        "  train_acc.append(accuracy_score(y_train, y_pred_train))\n",
        "  test_acc.append(accuracy_score(y_test, y_pred_test))\n",
        "  cv_acc.append(accuracy_score(y, y_pred_cv))\n",
        "\n",
        "# visualize\n",
        "plt.figure(figsize=(4.5,3))\n",
        "plt.plot(min_samples_leaf, train_acc, label='Train accuracy')\n",
        "plt.plot(min_samples_leaf, test_acc, label='Test accuracy')\n",
        "plt.plot(min_samples_leaf, cv_acc, label='CV score')\n",
        "plt.legend()\n",
        "plt.xlabel('Min samples per leaf (inverse of complexity)')\n",
        "plt.ylabel('Accuracy score')\n",
        "plt.show\n",
        "\n",
        "print('Best min_samples_leaf using validation set:', min_samples_leaf[test_acc.index(max(test_acc))], '(Accuracy score:', str(max(test_acc))+')')\n",
        "print('Best min_samples_leaf using CV:', min_samples_leaf[cv_acc.index(max(cv_acc))], '(Accuracy score:', str(max(cv_acc))+')')"
      ],
      "metadata": {
        "colab": {
          "base_uri": "https://localhost:8080/",
          "height": 347
        },
        "outputId": "7c0809b7-e9c8-4930-85a3-c10cbdd72000",
        "id": "AzpEAp6cb3u-"
      },
      "execution_count": null,
      "outputs": [
        {
          "output_type": "stream",
          "name": "stdout",
          "text": [
            "Best min_samples_leaf using validation set: 12 (Accuracy score: 0.9541167412540301)\n",
            "Best min_samples_leaf using CV: 12 (Accuracy score: 0.9528988296889437)\n"
          ]
        },
        {
          "output_type": "display_data",
          "data": {
            "text/plain": [
              "<Figure size 450x300 with 1 Axes>"
            ],
            "image/png": "[encoded data removed]"
          },
          "metadata": {}
        }
      ]
    },
    {
      "cell_type": "code",
      "source": [
        "min_samples_leaf = range(5, 20)\n",
        "# create 2 lists for training and testing set, and append the accuracy at different min samples per leaf in\n",
        "train_acc = []\n",
        "test_acc = []\n",
        "cv_acc = []\n",
        "\n",
        "# create a loop to try out numbers from 1 to 80 for min samples per leaf\n",
        "for i in min_samples_leaf:\n",
        "  model_tuning = DecisionTreeClassifier(criterion='entropy', min_samples_leaf=int(i), random_state=42)\n",
        "  model_tuning.fit(X_train, y_train)\n",
        "\n",
        "  y_pred_train = model_tuning.predict(X_train)\n",
        "  y_pred_test = model_tuning.predict(X_test)\n",
        "  y_pred_cv = cross_val_predict(model_tuning, X, y, cv=5)\n",
        "\n",
        "  train_acc.append(accuracy_score(y_train, y_pred_train))\n",
        "  test_acc.append(accuracy_score(y_test, y_pred_test))\n",
        "  cv_acc.append(accuracy_score(y, y_pred_cv))\n",
        "\n",
        "# visualize\n",
        "plt.figure(figsize=(4.5,3))\n",
        "plt.plot(min_samples_leaf, train_acc, label='Train accuracy')\n",
        "plt.plot(min_samples_leaf, test_acc, label='Test accuracy')\n",
        "plt.plot(min_samples_leaf, cv_acc, label='CV score')\n",
        "plt.legend()\n",
        "plt.xlabel('Min samples per leaf (inverse of complexity)')\n",
        "plt.ylabel('Accuracy score')\n",
        "plt.show\n",
        "\n",
        "print('Best min_samples_leaf using validation set:', min_samples_leaf[test_acc.index(max(test_acc))], '(Accuracy score:', str(max(test_acc))+')')\n",
        "print('Best min_samples_leaf using CV:', min_samples_leaf[cv_acc.index(max(cv_acc))], '(Accuracy score:', str(max(cv_acc))+')')"
      ],
      "metadata": {
        "colab": {
          "base_uri": "https://localhost:8080/",
          "height": 347
        },
        "outputId": "4cd2c648-e51b-4978-d3aa-54afae028bd2",
        "id": "v59dN0J6uncM"
      },
      "execution_count": null,
      "outputs": [
        {
          "output_type": "stream",
          "name": "stdout",
          "text": [
            "Best min_samples_leaf using validation set: 12 (Accuracy score: 0.9541167412540301)\n",
            "Best min_samples_leaf using CV: 15 (Accuracy score: 0.9534666615337234)\n"
          ]
        },
        {
          "output_type": "display_data",
          "data": {
            "text/plain": [
              "<Figure size 450x300 with 1 Axes>"
            ],
            "image/png": "[encoded data removed]"
          },
          "metadata": {}
        }
      ]
    },
    {
      "cell_type": "code",
      "source": [
        "model_tunning = DecisionTreeClassifier(criterion='entropy', min_samples_leaf=12, random_state=42)\n",
        "model_tunning.fit(X_train, y_train)\n",
        "\n",
        "y_pred_test = model_tunning.predict(X_test)\n",
        "y_pred_cv = cross_val_predict(model_tunning, X, y, cv=5)\n",
        "\n",
        "tree_fpr, tree_tpr, thresholds = roc_curve(y, y_pred_cv)\n",
        "tree_auc = auc(tree_fpr, tree_tpr)\n",
        "\n",
        "print('Simple Accuracy:', accuracy_score(y_test, y_pred_test))\n",
        "print('CV Accuracy:', accuracy_score(y, y_pred_cv))\n",
        "print('CV AUC:', tree_auc)\n",
        "print('Tree object node count:', model_tunning.tree_.node_count)\n",
        "print('Confusion matrix:\\n', confusion_matrix(y, y_pred_cv))"
      ],
      "metadata": {
        "colab": {
          "base_uri": "https://localhost:8080/"
        },
        "outputId": "b49c698f-4080-4ade-d56d-df2742be04bf",
        "id": "psnvWj5h4xT1"
      },
      "execution_count": null,
      "outputs": [
        {
          "output_type": "stream",
          "name": "stdout",
          "text": [
            "Simple Accuracy: 0.9541167412540301\n",
            "CV Accuracy: 0.9528988296889437\n",
            "CV AUC: 0.9507581189361529\n",
            "Tree object node count: 1613\n",
            "Confusion matrix:\n",
            " [[56925  1954]\n",
            " [ 2940 42085]]\n"
          ]
        }
      ]
    },
    {
      "cell_type": "markdown",
      "source": [
        "### min_samples_split (internal node)"
      ],
      "metadata": {
        "id": "_HVDblzeb3u-"
      }
    },
    {
      "cell_type": "code",
      "source": [
        "min_samples_split = range(50, 100)\n",
        "\n",
        "# create 2 lists to store the accuracy at different min samples for further splitting\n",
        "train_acc = []\n",
        "test_acc = []\n",
        "cv_acc = []\n",
        "\n",
        "# create a loop to try out different min samples for further splitting\n",
        "for i in min_samples_split:\n",
        "  model_tunning = DecisionTreeClassifier(criterion='entropy', min_samples_split=int(i), random_state=42)\n",
        "  model_tunning.fit(X_train, y_train)\n",
        "\n",
        "  y_pred_train = model_tunning.predict(X_train)\n",
        "  y_pred_test = model_tunning.predict(X_test)\n",
        "  y_pred_cv = cross_val_predict(model_tunning, X, y, cv=5)\n",
        "\n",
        "  train_acc.append(accuracy_score(y_train, y_pred_train))\n",
        "  test_acc.append(accuracy_score(y_test, y_pred_test))\n",
        "  cv_acc.append(accuracy_score(y, y_pred_cv))\n",
        "\n",
        "# visualize\n",
        "plt.figure(figsize=(4.5,3))\n",
        "plt.plot(min_samples_split, train_acc, label='Train accuracy')\n",
        "plt.plot(min_samples_split, test_acc, label='Test accuracy')\n",
        "plt.plot(min_samples_split, cv_acc, label='CV score')\n",
        "plt.legend()\n",
        "plt.xlabel('Min samples for further splitting')\n",
        "plt.ylabel('Accuracy score')\n",
        "plt.show\n",
        "\n",
        "print('Best min_samples_split using validation:', min_samples_split[test_acc.index(max(test_acc))], '(Accuracy score:', str(max(test_acc))+')')\n",
        "print('Best min_samples_split using CV:', min_samples_split[cv_acc.index(max(cv_acc))], '(Accuracy score:', str(max(cv_acc))+')')"
      ],
      "metadata": {
        "colab": {
          "base_uri": "https://localhost:8080/",
          "height": 347
        },
        "outputId": "3aaac862-b584-47b3-c8da-abf067e47cbe",
        "id": "dgSkNzY9b3u-"
      },
      "execution_count": null,
      "outputs": [
        {
          "output_type": "stream",
          "name": "stdout",
          "text": [
            "Best min_samples_split using validation: 73 (Accuracy score: 0.9554641258842211)\n",
            "Best min_samples_split using CV: 93 (Accuracy score: 0.9545927009547275)\n"
          ]
        },
        {
          "output_type": "display_data",
          "data": {
            "text/plain": [
              "<Figure size 450x300 with 1 Axes>"
            ],
            "image/png": "[encoded data removed]"
          },
          "metadata": {}
        }
      ]
    },
    {
      "cell_type": "code",
      "source": [
        "model_tunning = DecisionTreeClassifier(criterion='entropy', min_samples_split=93, random_state=42)\n",
        "model_tunning.fit(X_train, y_train)\n",
        "\n",
        "y_pred_test = model_tunning.predict(X_test)\n",
        "y_pred_cv = cross_val_predict(model_tunning, X, y, cv=5)\n",
        "\n",
        "tree_fpr, tree_tpr, thresholds = roc_curve(y, y_pred_cv)\n",
        "tree_auc = auc(tree_fpr, tree_tpr)\n",
        "\n",
        "print('Simple Accuracy:', accuracy_score(y_test, y_pred_test))\n",
        "print('CV Accuracy:', accuracy_score(y, y_pred_cv))\n",
        "print('CV AUC:', tree_auc)\n",
        "print('Tree object node count:', model_tunning.tree_.node_count)\n",
        "print('Confusion matrix:\\n', confusion_matrix(y, y_pred_cv))"
      ],
      "metadata": {
        "colab": {
          "base_uri": "https://localhost:8080/"
        },
        "outputId": "8d197dc4-eb26-44fd-b952-8618a4145ee7",
        "id": "UAE6DzFc8PAB"
      },
      "execution_count": null,
      "outputs": [
        {
          "output_type": "stream",
          "name": "stdout",
          "text": [
            "Simple Accuracy: 0.9544535874115779\n",
            "CV Accuracy: 0.9545927009547275\n",
            "CV AUC: 0.9523938088181846\n",
            "Tree object node count: 821\n",
            "Confusion matrix:\n",
            " [[57047  1832]\n",
            " [ 2886 42139]]\n"
          ]
        }
      ]
    },
    {
      "cell_type": "markdown",
      "source": [
        "### min_weight_fraction_leaf"
      ],
      "metadata": {
        "id": "67DDBCQib3u-"
      }
    },
    {
      "cell_type": "code",
      "source": [
        "min_weight_fraction_leaf = np.linspace(0.0, 0.5, 10)\n",
        "\n",
        "# create 2 lists to store the accuracy at different min samples for further splitting\n",
        "train_acc = []\n",
        "test_acc = []\n",
        "cv_acc = []\n",
        "\n",
        "# create a loop to try out different min samples for further splitting\n",
        "for i in min_weight_fraction_leaf:\n",
        "  model_tunning = DecisionTreeClassifier(criterion='entropy', min_weight_fraction_leaf=i, random_state=42)\n",
        "  model_tunning.fit(X_train, y_train)\n",
        "\n",
        "  y_pred_train = model_tunning.predict(X_train)\n",
        "  y_pred_test = model_tunning.predict(X_test)\n",
        "  y_pred_cv = cross_val_predict(model_tunning, X, y, cv=5)\n",
        "\n",
        "  train_acc.append(accuracy_score(y_train, y_pred_train))\n",
        "  test_acc.append(accuracy_score(y_test, y_pred_test))\n",
        "  cv_acc.append(accuracy_score(y, y_pred_cv))\n",
        "\n",
        "# visualize\n",
        "plt.figure(figsize=(4.5,3))\n",
        "plt.plot(min_weight_fraction_leaf, train_acc, label='Train accuracy')\n",
        "plt.plot(min_weight_fraction_leaf, test_acc, label='Test accuracy')\n",
        "plt.plot(min_weight_fraction_leaf, cv_acc, label='CV score')\n",
        "plt.legend()\n",
        "plt.xlabel('Min samples for further splitting')\n",
        "plt.ylabel('Accuracy score')\n",
        "plt.show\n",
        "\n",
        "print('Best min_weight_fraction_leaf using validation:', min_weight_fraction_leaf[test_acc.index(max(test_acc))], '(Accuracy score:', str(max(test_acc))+')')\n",
        "print('Best min_weight_fraction_leaf using CV:', min_weight_fraction_leaf[cv_acc.index(max(cv_acc))], '(Accuracy score:', str(max(cv_acc))+')')"
      ],
      "metadata": {
        "colab": {
          "base_uri": "https://localhost:8080/",
          "height": 347
        },
        "outputId": "b49fb800-e1f8-4d25-f5b3-23163db053ab",
        "id": "HZkSP93Yb3u-"
      },
      "execution_count": null,
      "outputs": [
        {
          "output_type": "stream",
          "name": "stdout",
          "text": [
            "Best min_weight_fraction_leaf using validation: 0.0 (Accuracy score: 0.9475723016216736)\n",
            "Best min_weight_fraction_leaf using CV: 0.0 (Accuracy score: 0.9478075916230366)\n"
          ]
        },
        {
          "output_type": "display_data",
          "data": {
            "text/plain": [
              "<Figure size 450x300 with 1 Axes>"
            ],
            "image/png": "[encoded data removed]"
          },
          "metadata": {}
        }
      ]
    },
    {
      "cell_type": "markdown",
      "source": [
        "### min_impurity_decrease"
      ],
      "metadata": {
        "id": "HbHaY3ORb3u-"
      }
    },
    {
      "cell_type": "code",
      "source": [
        "min_impurity_decrease = np.linspace(0.0, 0.5, 10)\n",
        "\n",
        "# create 2 lists to store the accuracy at different min samples for further splitting\n",
        "train_acc = []\n",
        "test_acc = []\n",
        "cv_acc = []\n",
        "\n",
        "# create a loop to try out different min samples for further splitting\n",
        "for i in min_impurity_decrease:\n",
        "  model_tunning = DecisionTreeClassifier(criterion='entropy', min_impurity_decrease=i, random_state=42)\n",
        "  model_tunning.fit(X_train, y_train)\n",
        "\n",
        "  y_pred_train = model_tunning.predict(X_train)\n",
        "  y_pred_test = model_tunning.predict(X_test)\n",
        "  y_pred_cv = cross_val_predict(model_tunning, X, y, cv=5)\n",
        "\n",
        "  train_acc.append(accuracy_score(y_train, y_pred_train))\n",
        "  test_acc.append(accuracy_score(y_test, y_pred_test))\n",
        "  cv_acc.append(accuracy_score(y, y_pred_cv))\n",
        "\n",
        "# visualize\n",
        "plt.figure(figsize=(4.5,3))\n",
        "plt.plot(min_impurity_decrease, train_acc, label='Train accuracy')\n",
        "plt.plot(min_impurity_decrease, test_acc, label='Test accuracy')\n",
        "plt.plot(min_impurity_decrease, cv_acc, label='CV score')\n",
        "plt.legend()\n",
        "plt.xlabel('Min samples for further splitting')\n",
        "plt.ylabel('Accuracy score')\n",
        "plt.show\n",
        "\n",
        "print('Best min_impurity_decrease using validation:', min_impurity_decrease[test_acc.index(max(test_acc))], '(Accuracy score:', str(max(test_acc))+')')\n",
        "print('Best min_impurity_decrease using CV:', min_impurity_decrease[cv_acc.index(max(cv_acc))], '(Accuracy score:', str(max(cv_acc))+')')"
      ],
      "metadata": {
        "colab": {
          "base_uri": "https://localhost:8080/",
          "height": 367
        },
        "outputId": "d4fda9f8-b208-4e1d-f872-b57b0d746949",
        "id": "9TRE61Pkb3u-"
      },
      "execution_count": null,
      "outputs": [
        {
          "output_type": "stream",
          "name": "stdout",
          "text": [
            "Best min_impurity_decrease using validation: 0.0 (Accuracy score: 0.9475723016216736)\n",
            "Best min_impurity_decrease using CV: 0.0 (Accuracy score: 0.9478075916230366)\n"
          ]
        },
        {
          "output_type": "display_data",
          "data": {
            "text/plain": [
              "<Figure size 450x300 with 1 Axes>"
            ],
            "image/png": "[encoded data removed]"
          },
          "metadata": {}
        }
      ]
    },
    {
      "cell_type": "markdown",
      "source": [
        "### max_depth + max_leaf_nodes"
      ],
      "metadata": {
        "id": "PSpwajM7-Fqx"
      }
    },
    {
      "cell_type": "code",
      "source": [
        "model_tunning = DecisionTreeClassifier(criterion='entropy', max_depth=16, max_leaf_nodes=440, random_state=42)\n",
        "model_tunning.fit(X_train, y_train)\n",
        "\n",
        "y_pred_test = model_tunning.predict(X_test)\n",
        "y_pred_cv = cross_val_predict(model_tunning, X, y, cv=5)\n",
        "\n",
        "tree_fpr, tree_tpr, thresholds = roc_curve(y, y_pred_cv)\n",
        "tree_auc = auc(tree_fpr, tree_tpr)\n",
        "\n",
        "print('Simple Accuracy:', accuracy_score(y_test, y_pred_test))\n",
        "print('CV Accuracy:', accuracy_score(y, y_pred_cv))\n",
        "print('CV AUC:', tree_auc)\n",
        "print('Tree object node count:', model_tunning.tree_.node_count)\n",
        "print('Confusion matrix:\\n', confusion_matrix(y, y_pred_cv))"
      ],
      "metadata": {
        "colab": {
          "base_uri": "https://localhost:8080/"
        },
        "outputId": "3ea95094-1bc1-4ecb-c1e8-d20a50300c28",
        "id": "XmnHk6JlLm-L"
      },
      "execution_count": null,
      "outputs": [
        {
          "output_type": "stream",
          "name": "stdout",
          "text": [
            "Simple Accuracy: 0.9584716808623261\n",
            "CV Accuracy: 0.9566137973514013\n",
            "CV AUC: 0.9538165400976352\n",
            "Tree object node count: 879\n",
            "Confusion matrix:\n",
            " [[57395  1484]\n",
            " [ 3024 42001]]\n"
          ]
        }
      ]
    },
    {
      "cell_type": "markdown",
      "source": [
        "### max_depth + min_samples_split"
      ],
      "metadata": {
        "id": "LMKJfF6wNMvp"
      }
    },
    {
      "cell_type": "code",
      "source": [
        "model_tunning = DecisionTreeClassifier(criterion='entropy', max_depth=16, min_samples_split=93, random_state=42)\n",
        "model_tunning.fit(X_train, y_train)\n",
        "\n",
        "y_pred_test = model_tunning.predict(X_test)\n",
        "y_pred_cv = cross_val_predict(model_tunning, X, y, cv=5)\n",
        "\n",
        "tree_fpr, tree_tpr, thresholds = roc_curve(y, y_pred_cv)\n",
        "tree_auc = auc(tree_fpr, tree_tpr)\n",
        "\n",
        "print('Simple Accuracy:', accuracy_score(y_test, y_pred_test))\n",
        "print('CV Accuracy:', accuracy_score(y, y_pred_cv))\n",
        "print('CV AUC:', tree_auc)\n",
        "print('Tree object node count:', model_tunning.tree_.node_count)\n",
        "print('Confusion matrix:\\n', confusion_matrix(y, y_pred_cv))"
      ],
      "metadata": {
        "colab": {
          "base_uri": "https://localhost:8080/"
        },
        "outputId": "4ab1f9b8-47e7-413c-ccae-257ee9ab8067",
        "id": "WzKT6Co2L6EB"
      },
      "execution_count": null,
      "outputs": [
        {
          "output_type": "stream",
          "name": "stdout",
          "text": [
            "Simple Accuracy: 0.9549107357682498\n",
            "CV Accuracy: 0.9537746381275023\n",
            "CV AUC: 0.9514551146730599\n",
            "Tree object node count: 647\n",
            "Confusion matrix:\n",
            " [[57045  1834]\n",
            " [ 2969 42056]]\n"
          ]
        }
      ]
    },
    {
      "cell_type": "markdown",
      "source": [
        "### max_depth + min_samples_leaf"
      ],
      "metadata": {
        "id": "U_XjCg5vNREc"
      }
    },
    {
      "cell_type": "code",
      "source": [
        "model_tunning = DecisionTreeClassifier(criterion='entropy', max_depth=16, min_samples_leaf=12, random_state=42)\n",
        "model_tunning.fit(X_train, y_train)\n",
        "\n",
        "y_pred_test = model_tunning.predict(X_test)\n",
        "y_pred_cv = cross_val_predict(model_tunning, X, y, cv=5)\n",
        "\n",
        "tree_fpr, tree_tpr, thresholds = roc_curve(y, y_pred_cv)\n",
        "tree_auc = auc(tree_fpr, tree_tpr)\n",
        "\n",
        "print('Simple Accuracy:', accuracy_score(y_test, y_pred_test))\n",
        "print('CV Accuracy:', accuracy_score(y, y_pred_cv))\n",
        "print('CV AUC:', tree_auc)\n",
        "print('Tree object node count:', model_tunning.tree_.node_count)\n",
        "print('Confusion matrix:\\n', confusion_matrix(y, y_pred_cv))"
      ],
      "metadata": {
        "colab": {
          "base_uri": "https://localhost:8080/"
        },
        "outputId": "91649900-8f8e-4dd5-ba11-369546918ab5",
        "id": "gj4Z8I-CL6j-"
      },
      "execution_count": null,
      "outputs": [
        {
          "output_type": "stream",
          "name": "stdout",
          "text": [
            "Simple Accuracy: 0.9558731533612435\n",
            "CV Accuracy: 0.9527255928549431\n",
            "CV AUC: 0.9503230645172895\n",
            "Tree object node count: 1157\n",
            "Confusion matrix:\n",
            " [[57015  1864]\n",
            " [ 3048 41977]]\n"
          ]
        }
      ]
    },
    {
      "cell_type": "markdown",
      "source": [
        "### max_leaf_nodes + min_samples_split"
      ],
      "metadata": {
        "id": "3fkcuH0gNUxj"
      }
    },
    {
      "cell_type": "code",
      "source": [
        "model_tunning = DecisionTreeClassifier(criterion='entropy', max_leaf_nodes=440, min_samples_split=93, random_state=42)\n",
        "model_tunning.fit(X_train, y_train)\n",
        "\n",
        "y_pred_test = model_tunning.predict(X_test)\n",
        "y_pred_cv = cross_val_predict(model_tunning, X, y, cv=5)\n",
        "\n",
        "tree_fpr, tree_tpr, thresholds = roc_curve(y, y_pred_cv)\n",
        "tree_auc = auc(tree_fpr, tree_tpr)\n",
        "\n",
        "print('Simple Accuracy:', accuracy_score(y_test, y_pred_test))\n",
        "print('CV Accuracy:', accuracy_score(y, y_pred_cv))\n",
        "print('CV AUC:', tree_auc)\n",
        "print('Tree object node count:', model_tunning.tree_.node_count)\n",
        "print('Confusion matrix:\\n', confusion_matrix(y, y_pred_cv))"
      ],
      "metadata": {
        "colab": {
          "base_uri": "https://localhost:8080/"
        },
        "outputId": "d0cfe7ab-9b5b-4c22-8434-280c44a2f0a7",
        "id": "3ChcqwcaL6u1"
      },
      "execution_count": null,
      "outputs": [
        {
          "output_type": "stream",
          "name": "stdout",
          "text": [
            "Simple Accuracy: 0.954285164332804\n",
            "CV Accuracy: 0.9555166307360641\n",
            "CV AUC: 0.9529451321407245\n",
            "Tree object node count: 821\n",
            "Confusion matrix:\n",
            " [[57244  1635]\n",
            " [ 2987 42038]]\n"
          ]
        }
      ]
    },
    {
      "cell_type": "markdown",
      "source": [
        "### max_leaf_nodes + min_samples_leaf"
      ],
      "metadata": {
        "id": "K7KfMPloNXrp"
      }
    },
    {
      "cell_type": "code",
      "source": [
        "model_tunning = DecisionTreeClassifier(criterion='entropy', max_leaf_nodes=440, min_samples_leaf=12, random_state=42)\n",
        "model_tunning.fit(X_train, y_train)\n",
        "\n",
        "y_pred_test = model_tunning.predict(X_test)\n",
        "y_pred_cv = cross_val_predict(model_tunning, X, y, cv=5)\n",
        "\n",
        "tree_fpr, tree_tpr, thresholds = roc_curve(y, y_pred_cv)\n",
        "tree_auc = auc(tree_fpr, tree_tpr)\n",
        "\n",
        "print('Simple Accuracy:', accuracy_score(y_test, y_pred_test))\n",
        "print('CV Accuracy:', accuracy_score(y, y_pred_cv))\n",
        "print('CV AUC:', tree_auc)\n",
        "print('Tree object node count:', model_tunning.tree_.node_count)\n",
        "print('Confusion matrix:\\n', confusion_matrix(y, y_pred_cv))"
      ],
      "metadata": {
        "colab": {
          "base_uri": "https://localhost:8080/"
        },
        "outputId": "69a27feb-eca6-4178-fab5-f7d135aaa9c4",
        "id": "pF0r8kA3L64B"
      },
      "execution_count": null,
      "outputs": [
        {
          "output_type": "stream",
          "name": "stdout",
          "text": [
            "Simple Accuracy: 0.9567633896347625\n",
            "CV Accuracy: 0.9559882198952879\n",
            "CV AUC: 0.9532593347149928\n",
            "Tree object node count: 879\n",
            "Confusion matrix:\n",
            " [[57332  1547]\n",
            " [ 3026 41999]]\n"
          ]
        }
      ]
    },
    {
      "cell_type": "markdown",
      "source": [
        "### min_samples_split + min_samples_leaf"
      ],
      "metadata": {
        "id": "jGl6vdJrNb6u"
      }
    },
    {
      "cell_type": "code",
      "source": [
        "model_tunning = DecisionTreeClassifier(criterion='entropy', min_samples_split=93, min_samples_leaf=12, random_state=42)\n",
        "model_tunning.fit(X_train, y_train)\n",
        "\n",
        "y_pred_test = model_tunning.predict(X_test)\n",
        "y_pred_cv = cross_val_predict(model_tunning, X, y, cv=5)\n",
        "\n",
        "tree_fpr, tree_tpr, thresholds = roc_curve(y, y_pred_cv)\n",
        "tree_auc = auc(tree_fpr, tree_tpr)\n",
        "\n",
        "print('Simple Accuracy:', accuracy_score(y_test, y_pred_test))\n",
        "print('CV Accuracy:', accuracy_score(y, y_pred_cv))\n",
        "print('CV AUC:', tree_auc)\n",
        "print('Tree object node count:', model_tunning.tree_.node_count)\n",
        "print('Confusion matrix:\\n', confusion_matrix(y, y_pred_cv))"
      ],
      "metadata": {
        "colab": {
          "base_uri": "https://localhost:8080/"
        },
        "outputId": "7515cdc7-4417-4d98-db83-6eb1e9794740",
        "id": "tDI2g-ySL7G3"
      },
      "execution_count": null,
      "outputs": [
        {
          "output_type": "stream",
          "name": "stdout",
          "text": [
            "Simple Accuracy: 0.9526490544247149\n",
            "CV Accuracy: 0.9536687711733908\n",
            "CV AUC: 0.9514270265016824\n",
            "Tree object node count: 733\n",
            "Confusion matrix:\n",
            " [[57009  1870]\n",
            " [ 2944 42081]]\n"
          ]
        }
      ]
    },
    {
      "cell_type": "markdown",
      "source": [
        "### max_depth + max_leaf_nodes + min_samples_split"
      ],
      "metadata": {
        "id": "rGXgqJ4mNhJ_"
      }
    },
    {
      "cell_type": "code",
      "source": [
        "model_tunning = DecisionTreeClassifier(criterion='entropy', max_depth=16, max_leaf_nodes=440, min_samples_split=93, random_state=42)\n",
        "model_tunning.fit(X_train, y_train)\n",
        "\n",
        "y_pred_test = model_tunning.predict(X_test)\n",
        "y_pred_cv = cross_val_predict(model_tunning, X, y, cv=5)\n",
        "\n",
        "tree_fpr, tree_tpr, thresholds = roc_curve(y, y_pred_cv)\n",
        "tree_auc = auc(tree_fpr, tree_tpr)\n",
        "\n",
        "print('Simple Accuracy:', accuracy_score(y_test, y_pred_test))\n",
        "print('CV Accuracy:', accuracy_score(y, y_pred_cv))\n",
        "print('CV AUC:', tree_auc)\n",
        "print('Tree object node count:', model_tunning.tree_.node_count)\n",
        "print('Confusion matrix:\\n', confusion_matrix(y, y_pred_cv))"
      ],
      "metadata": {
        "colab": {
          "base_uri": "https://localhost:8080/"
        },
        "outputId": "d18e714f-c78f-49c6-ceba-022a5dba5b94",
        "id": "W0iuTpZ2L7Pk"
      },
      "execution_count": null,
      "outputs": [
        {
          "output_type": "stream",
          "name": "stdout",
          "text": [
            "Simple Accuracy: 0.9545979500505269\n",
            "CV Accuracy: 0.9537650138589467\n",
            "CV AUC: 0.9514440097313608\n",
            "Tree object node count: 645\n",
            "Confusion matrix:\n",
            " [[57045  1834]\n",
            " [ 2970 42055]]\n"
          ]
        }
      ]
    },
    {
      "cell_type": "markdown",
      "source": [
        "### max_leaf_nodes + min_samples_split + min_samples_leaf"
      ],
      "metadata": {
        "id": "_LA-5PHDNjPA"
      }
    },
    {
      "cell_type": "code",
      "source": [
        "model_tunning = DecisionTreeClassifier(criterion='entropy', max_leaf_nodes=440, min_samples_split=93, min_samples_leaf=12, random_state=42)\n",
        "model_tunning.fit(X_train, y_train)\n",
        "\n",
        "y_pred_test = model_tunning.predict(X_test)\n",
        "y_pred_cv = cross_val_predict(model_tunning, X, y, cv=5)\n",
        "\n",
        "tree_fpr, tree_tpr, thresholds = roc_curve(y, y_pred_cv)\n",
        "tree_auc = auc(tree_fpr, tree_tpr)\n",
        "\n",
        "print('Simple Accuracy:', accuracy_score(y_test, y_pred_test))\n",
        "print('CV Accuracy:', accuracy_score(y, y_pred_cv))\n",
        "print('CV AUC:', tree_auc)\n",
        "print('Tree object node count:', model_tunning.tree_.node_count)\n",
        "print('Confusion matrix:\\n', confusion_matrix(y, y_pred_cv))"
      ],
      "metadata": {
        "colab": {
          "base_uri": "https://localhost:8080/"
        },
        "outputId": "c8ac8f9f-ed56-471d-eec0-41bbf7299d3f",
        "id": "We6ibO0fL7aS"
      },
      "execution_count": null,
      "outputs": [
        {
          "output_type": "stream",
          "name": "stdout",
          "text": [
            "Simple Accuracy: 0.9526490544247149\n",
            "CV Accuracy: 0.9541018632583924\n",
            "CV AUC: 0.9516732927623266\n",
            "Tree object node count: 733\n",
            "Confusion matrix:\n",
            " [[57106  1773]\n",
            " [ 2996 42029]]\n"
          ]
        }
      ]
    },
    {
      "cell_type": "markdown",
      "source": [
        "### max_depth + min_samples_split + min_samples_leaf"
      ],
      "metadata": {
        "id": "NyJLXewsNnJg"
      }
    },
    {
      "cell_type": "code",
      "source": [
        "model_tunning = DecisionTreeClassifier(criterion='entropy', max_depth=16, min_samples_split=93, min_samples_leaf=12, random_state=42)\n",
        "model_tunning.fit(X_train, y_train)\n",
        "\n",
        "y_pred_test = model_tunning.predict(X_test)\n",
        "y_pred_cv = cross_val_predict(model_tunning, X, y, cv=5)\n",
        "\n",
        "tree_fpr, tree_tpr, thresholds = roc_curve(y, y_pred_cv)\n",
        "tree_auc = auc(tree_fpr, tree_tpr)\n",
        "\n",
        "print('Simple Accuracy:', accuracy_score(y_test, y_pred_test))\n",
        "print('CV Accuracy:', accuracy_score(y, y_pred_cv))\n",
        "print('CV AUC:', tree_auc)\n",
        "print('Tree object node count:', model_tunning.tree_.node_count)\n",
        "print('Confusion matrix:\\n', confusion_matrix(y, y_pred_cv))"
      ],
      "metadata": {
        "colab": {
          "base_uri": "https://localhost:8080/"
        },
        "outputId": "0817a7e7-d185-4618-e0bd-fed7ef829ea7",
        "id": "4l-8B_mWL7lQ"
      },
      "execution_count": null,
      "outputs": [
        {
          "output_type": "stream",
          "name": "stdout",
          "text": [
            "Simple Accuracy: 0.9536114720177085\n",
            "CV Accuracy: 0.9528988296889437\n",
            "CV AUC: 0.9506144067055373\n",
            "Tree object node count: 595\n",
            "Confusion matrix:\n",
            " [[56980  1899]\n",
            " [ 2995 42030]]\n"
          ]
        }
      ]
    },
    {
      "cell_type": "markdown",
      "source": [
        "### max_depth + max_leaf_nodes + min_samples_leaf"
      ],
      "metadata": {
        "id": "7-w5o7uhNqQB"
      }
    },
    {
      "cell_type": "code",
      "source": [
        "model_tunning = DecisionTreeClassifier(criterion='entropy', max_depth=16, max_leaf_nodes=440, min_samples_leaf=12, random_state=42)\n",
        "model_tunning.fit(X_train, y_train)\n",
        "\n",
        "y_pred_test = model_tunning.predict(X_test)\n",
        "y_pred_cv = cross_val_predict(model_tunning, X, y, cv=5)\n",
        "\n",
        "tree_fpr, tree_tpr, thresholds = roc_curve(y, y_pred_cv)\n",
        "tree_auc = auc(tree_fpr, tree_tpr)\n",
        "\n",
        "print('Simple Accuracy:', accuracy_score(y_test, y_pred_test))\n",
        "print('CV Accuracy:', accuracy_score(y, y_pred_cv))\n",
        "print('CV AUC:', tree_auc)\n",
        "print('Tree object node count:', model_tunning.tree_.node_count)\n",
        "print('Confusion matrix:\\n', confusion_matrix(y, y_pred_cv))"
      ],
      "metadata": {
        "colab": {
          "base_uri": "https://localhost:8080/"
        },
        "outputId": "78e63faf-8292-4d29-dd1a-517c31211c38",
        "id": "CYsuEVQ_L7vd"
      },
      "execution_count": null,
      "outputs": [
        {
          "output_type": "stream",
          "name": "stdout",
          "text": [
            "Simple Accuracy: 0.9569799335931861\n",
            "CV Accuracy: 0.9543617185093933\n",
            "CV AUC: 0.9516334427340183\n",
            "Tree object node count: 879\n",
            "Confusion matrix:\n",
            " [[57236  1643]\n",
            " [ 3099 41926]]\n"
          ]
        }
      ]
    },
    {
      "cell_type": "markdown",
      "source": [
        "### max_depth + max_leaf_nodes + min_samples_split + min_samples_leaf"
      ],
      "metadata": {
        "id": "X7A-g9PKNxLV"
      }
    },
    {
      "cell_type": "code",
      "source": [
        "model_tunning = DecisionTreeClassifier(criterion='entropy', max_depth=16, max_leaf_nodes=440, min_samples_split=93, min_samples_leaf=12, random_state=42)\n",
        "model_tunning.fit(X_train, y_train)\n",
        "\n",
        "y_pred_test = model_tunning.predict(X_test)\n",
        "y_pred_cv = cross_val_predict(model_tunning, X, y, cv=5)\n",
        "\n",
        "tree_fpr, tree_tpr, thresholds = roc_curve(y, y_pred_cv)\n",
        "tree_auc = auc(tree_fpr, tree_tpr)\n",
        "\n",
        "print('Simple Accuracy:', accuracy_score(y_test, y_pred_test))\n",
        "print('CV Accuracy:', accuracy_score(y, y_pred_cv))\n",
        "print('CV AUC:', tree_auc)\n",
        "print('Tree object node count:', model_tunning.tree_.node_count)\n",
        "print('Confusion matrix:\\n', confusion_matrix(y, y_pred_cv))"
      ],
      "metadata": {
        "colab": {
          "base_uri": "https://localhost:8080/"
        },
        "outputId": "56c8b8b4-61e1-440d-f6bf-88c309f3c668",
        "id": "FX3cZH8lNzMB"
      },
      "execution_count": null,
      "outputs": [
        {
          "output_type": "stream",
          "name": "stdout",
          "text": [
            "Simple Accuracy: 0.9536114720177085\n",
            "CV Accuracy: 0.9528218355404989\n",
            "CV AUC: 0.9505412448698302\n",
            "Tree object node count: 595\n",
            "Confusion matrix:\n",
            " [[56974  1905]\n",
            " [ 2997 42028]]\n"
          ]
        }
      ]
    },
    {
      "cell_type": "markdown",
      "source": [
        "## criterion = 'log_loss'"
      ],
      "metadata": {
        "id": "9W9dBZKjQUcM"
      }
    },
    {
      "cell_type": "code",
      "source": [
        "model_tunning = DecisionTreeClassifier(criterion='log_loss', random_state=42)\n",
        "model_tunning.fit(X_train, y_train)\n",
        "\n",
        "y_pred_test = model_tunning.predict(X_test)\n",
        "y_pred_cv = cross_val_predict(model_tunning, X, y, cv=5)\n",
        "\n",
        "tree_fpr, tree_tpr, thresholds = roc_curve(y, y_pred_cv)\n",
        "tree_auc = auc(tree_fpr, tree_tpr)\n",
        "\n",
        "print('Simple Accuracy:', accuracy_score(y_test, y_pred_test))\n",
        "print('CV Accuracy:', accuracy_score(y, y_pred_cv))\n",
        "print('CV AUC:', tree_auc)\n",
        "print('Tree object node count:', model_tunning.tree_.node_count)\n",
        "print('Confusion matrix:\\n', confusion_matrix(y, y_pred_cv))"
      ],
      "metadata": {
        "colab": {
          "base_uri": "https://localhost:8080/"
        },
        "outputId": "73893729-3733-4942-bda6-c08812d6e861",
        "id": "yplvidEcQUcM"
      },
      "execution_count": null,
      "outputs": [
        {
          "output_type": "stream",
          "name": "stdout",
          "text": [
            "Simple Accuracy: 0.9475723016216736\n",
            "CV Accuracy: 0.9478075916230366\n",
            "CV AUC: 0.9471751616182631\n",
            "Tree object node count: 4853\n",
            "Confusion matrix:\n",
            " [[56048  2831]\n",
            " [ 2592 42433]]\n"
          ]
        }
      ]
    },
    {
      "cell_type": "markdown",
      "source": [
        "### max_depth (create a loop to try out different depth value)"
      ],
      "metadata": {
        "id": "P3kLn1SIQUcN"
      }
    },
    {
      "cell_type": "code",
      "source": [
        "# create array that hold max_depth from 0 to 35\n",
        "max_depth = np.linspace(1, 35, 35, endpoint=True)\n",
        "\n",
        "# create 2 lists for training and testing set, and append the accuracy at different depth level in\n",
        "train_acc = []\n",
        "test_acc = []\n",
        "cv_acc = []\n",
        "\n",
        "# create a loop to try out all the number from 1 to 35 for max_depths in a decision tree\n",
        "for i in max_depth:\n",
        "  model_tuning = DecisionTreeClassifier(criterion='log_loss', max_depth=int(i), random_state=42)\n",
        "  model_tuning.fit(X_train, y_train)\n",
        "\n",
        "  y_pred_train = model_tuning.predict(X_train)\n",
        "  y_pred_test = model_tuning.predict(X_test)\n",
        "  y_pred_cv = cross_val_predict(model_tuning, X, y, cv=5)\n",
        "\n",
        "  train_acc.append(accuracy_score(y_train, y_pred_train))\n",
        "  test_acc.append(accuracy_score(y_test, y_pred_test))\n",
        "  cv_acc.append(accuracy_score(y, y_pred_cv))\n",
        "\n",
        "\n",
        "plt.figure(figsize=(4.5,3))\n",
        "plt.plot(train_acc, label='Train accuracy')\n",
        "plt.plot(test_acc, label='Test accuracy')\n",
        "plt.plot(cv_acc, label='CV score')\n",
        "plt.legend()\n",
        "plt.xlabel('Tree depth')\n",
        "plt.ylabel('Accuracy score')\n",
        "plt.show()\n",
        "\n",
        "#print the best max_depth\n",
        "print('Best max_depth using validation set:', test_acc.index(max(test_acc))+1, '(Accuracy score:', str(max(test_acc))+')')\n",
        "print('Best max_depth using CV:', cv_acc.index(max(cv_acc))+1, '(Accuracy score:', str(max(cv_acc))+')')"
      ],
      "metadata": {
        "colab": {
          "base_uri": "https://localhost:8080/",
          "height": 347
        },
        "outputId": "433eaee4-e173-47b6-bd1a-400eeb7151a6",
        "id": "7pdLWNR1QUcN"
      },
      "execution_count": null,
      "outputs": [
        {
          "output_type": "display_data",
          "data": {
            "text/plain": [
              "<Figure size 450x300 with 1 Axes>"
            ],
            "image/png": "[encoded data removed]"
          },
          "metadata": {}
        },
        {
          "output_type": "stream",
          "name": "stdout",
          "text": [
            "Best max_depth using validation set: 15 (Accuracy score: 0.9549347962080746)\n",
            "Best max_depth using CV: 16 (Accuracy score: 0.9530143209116108)\n"
          ]
        }
      ]
    },
    {
      "cell_type": "code",
      "source": [
        "model_tunning = DecisionTreeClassifier(criterion='log_loss', max_depth=16, random_state=42)\n",
        "model_tunning.fit(X_train, y_train)\n",
        "\n",
        "y_pred_test = model_tunning.predict(X_test)\n",
        "y_pred_cv = cross_val_predict(model_tunning, X, y, cv=5)\n",
        "\n",
        "tree_fpr, tree_tpr, thresholds = roc_curve(y, y_pred_cv)\n",
        "tree_auc = auc(tree_fpr, tree_tpr)\n",
        "\n",
        "print('Simple Accuracy:', accuracy_score(y_test, y_pred_test))\n",
        "print('CV Accuracy:', accuracy_score(y, y_pred_cv))\n",
        "print('CV AUC:', tree_auc)\n",
        "print('Tree object node count:', model_tunning.tree_.node_count)\n",
        "print('Confusion matrix:\\n', confusion_matrix(y, y_pred_cv))"
      ],
      "metadata": {
        "colab": {
          "base_uri": "https://localhost:8080/"
        },
        "outputId": "c0550c6a-a437-4f09-e8af-b199621b34c6",
        "id": "YRPiKwnQQUcN"
      },
      "execution_count": null,
      "outputs": [
        {
          "output_type": "stream",
          "name": "stdout",
          "text": [
            "Simple Accuracy: 0.9545257687310524\n",
            "CV Accuracy: 0.9530143209116108\n",
            "CV AUC: 0.9507685696031064\n",
            "Tree object node count: 2237\n",
            "Confusion matrix:\n",
            " [[56972  1907]\n",
            " [ 2975 42050]]\n"
          ]
        }
      ]
    },
    {
      "cell_type": "markdown",
      "source": [
        "### max_leaf_nodes"
      ],
      "metadata": {
        "id": "hLrU9dzCQUcN"
      }
    },
    {
      "cell_type": "code",
      "source": [
        "max_leaf_nodes = range(200, 600, 20)\n",
        "\n",
        "train_acc = []\n",
        "test_acc = []\n",
        "cv_acc = []\n",
        "cv_auc = []\n",
        "node_count = []\n",
        "\n",
        "for i in max_leaf_nodes:\n",
        "  model_tunning = DecisionTreeClassifier(criterion='log_loss', max_leaf_nodes=int(i), random_state=42)\n",
        "  model_tunning.fit(X_train, y_train)\n",
        "\n",
        "  y_pred_train = model_tunning.predict(X_train)\n",
        "  y_pred_test = model_tunning.predict(X_test)\n",
        "  y_pred_cv = cross_val_predict(model_tunning, X, y, cv=5)\n",
        "\n",
        "  train_acc.append(accuracy_score(y_train, y_pred_train))\n",
        "  test_acc.append(accuracy_score(y_test, y_pred_test))\n",
        "  cv_acc.append(accuracy_score(y, y_pred_cv))\n",
        "\n",
        "  tree_fpr, tree_tpr, thresholds = roc_curve(y, y_pred_cv)\n",
        "  tree_auc = auc(tree_fpr, tree_tpr)\n",
        "  cv_auc.append(tree_auc)\n",
        "\n",
        "  treeObj = model.tree_\n",
        "  node_count.append(treeObj.node_count)\n",
        "\n",
        "# visualize\n",
        "plt.figure(figsize=(4.5,3))\n",
        "plt.plot(max_leaf_nodes, train_acc, label='Train accuracy')\n",
        "plt.plot(max_leaf_nodes, test_acc, label='Test accuracy')\n",
        "plt.plot(max_leaf_nodes, cv_acc, label='CV score')\n",
        "plt.legend()\n",
        "plt.xlabel('Max leaf nodes')\n",
        "plt.ylabel('Accuracy score')\n",
        "plt.show\n",
        "\n",
        "print('Best max_leaf_nodes using validation:', max_leaf_nodes[test_acc.index(max(test_acc))], '(Accuracy score:', str(max(test_acc))+')')\n",
        "print('Best max_leaf_nodes using CV:', max_leaf_nodes[cv_acc.index(max(cv_acc))], '(Accuracy score:', str(max(cv_acc))+')')\n",
        "print('AUC when CV accuracy is the highest: ', cv_auc[cv_acc.index(max(cv_acc))])\n",
        "print('Tree object node count: ', node_count[cv_acc.index(max(cv_acc))])"
      ],
      "metadata": {
        "colab": {
          "base_uri": "https://localhost:8080/",
          "height": 382
        },
        "outputId": "fb98a478-cfcd-48ee-b253-e47ed0ae6260",
        "id": "jg7EACSQQUcN"
      },
      "execution_count": null,
      "outputs": [
        {
          "output_type": "stream",
          "name": "stdout",
          "text": [
            "Best max_leaf_nodes using validation: 420 (Accuracy score: 0.9593378566960205)\n",
            "Best max_leaf_nodes using CV: 440 (Accuracy score: 0.9592027255928549)\n",
            "AUC when CV accuracy is the highest:  0.9562811794851692\n",
            "Tree object node count:  5369\n"
          ]
        },
        {
          "output_type": "display_data",
          "data": {
            "text/plain": [
              "<Figure size 450x300 with 1 Axes>"
            ],
            "image/png": "[encoded data removed]"
          },
          "metadata": {}
        }
      ]
    },
    {
      "cell_type": "code",
      "source": [
        "max_leaf_nodes = range(400, 460)\n",
        "\n",
        "train_acc = []\n",
        "test_acc = []\n",
        "cv_acc = []\n",
        "cv_auc = []\n",
        "node_count = []\n",
        "\n",
        "for i in max_leaf_nodes:\n",
        "  model_tunning = DecisionTreeClassifier(criterion='log_loss', max_leaf_nodes=int(i), random_state=42)\n",
        "  model_tunning.fit(X_train, y_train)\n",
        "\n",
        "  y_pred_train = model_tunning.predict(X_train)\n",
        "  y_pred_test = model_tunning.predict(X_test)\n",
        "  y_pred_cv = cross_val_predict(model_tunning, X, y, cv=5)\n",
        "\n",
        "  train_acc.append(accuracy_score(y_train, y_pred_train))\n",
        "  test_acc.append(accuracy_score(y_test, y_pred_test))\n",
        "  cv_acc.append(accuracy_score(y, y_pred_cv))\n",
        "\n",
        "  tree_fpr, tree_tpr, thresholds = roc_curve(y, y_pred_cv)\n",
        "  tree_auc = auc(tree_fpr, tree_tpr)\n",
        "  cv_auc.append(tree_auc)\n",
        "\n",
        "  treeObj = model_tunning.tree_\n",
        "  node_count.append(treeObj.node_count)\n",
        "\n",
        "# visualize\n",
        "plt.figure(figsize=(4.5,3))\n",
        "plt.plot(max_leaf_nodes, train_acc, label='Train accuracy')\n",
        "plt.plot(max_leaf_nodes, test_acc, label='Test accuracy')\n",
        "plt.plot(max_leaf_nodes, cv_acc, label='CV score')\n",
        "plt.legend()\n",
        "plt.xlabel('Max leaf nodes')\n",
        "plt.ylabel('Accuracy score')\n",
        "plt.show\n",
        "\n",
        "print('Best max_leaf_nodes using validation:', max_leaf_nodes[test_acc.index(max(test_acc))], '(Accuracy score:', str(max(test_acc))+')')\n",
        "print('Best max_leaf_nodes using CV:', max_leaf_nodes[cv_acc.index(max(cv_acc))], '(Accuracy score:', str(max(cv_acc))+')')\n",
        "print('AUC when CV accuracy is the highest: ', cv_auc[cv_acc.index(max(cv_acc))])\n",
        "print('Tree object node count: ', node_count[cv_acc.index(max(cv_acc))])"
      ],
      "metadata": {
        "colab": {
          "base_uri": "https://localhost:8080/",
          "height": 382
        },
        "outputId": "7ea8d17c-7494-44ac-b6bd-5ab994dcd857",
        "id": "-t3kMHcBQUcN"
      },
      "execution_count": null,
      "outputs": [
        {
          "output_type": "stream",
          "name": "stdout",
          "text": [
            "Best max_leaf_nodes using validation: 416 (Accuracy score: 0.9593378566960205)\n",
            "Best max_leaf_nodes using CV: 440 (Accuracy score: 0.9592027255928549)\n",
            "AUC when CV accuracy is the highest:  0.9562811794851692\n",
            "Tree object node count:  879\n"
          ]
        },
        {
          "output_type": "display_data",
          "data": {
            "text/plain": [
              "<Figure size 450x300 with 1 Axes>"
            ],
            "image/png": "[encoded data removed]"
          },
          "metadata": {}
        }
      ]
    },
    {
      "cell_type": "code",
      "source": [
        "model_tunning = DecisionTreeClassifier(criterion='log_loss', max_leaf_nodes=440, random_state=42)\n",
        "model_tunning.fit(X_train, y_train)\n",
        "\n",
        "y_pred_test = model_tunning.predict(X_test)\n",
        "y_pred_cv = cross_val_predict(model_tunning, X, y, cv=5)\n",
        "\n",
        "tree_fpr, tree_tpr, thresholds = roc_curve(y, y_pred_cv)\n",
        "tree_auc = auc(tree_fpr, tree_tpr)\n",
        "\n",
        "print('Simple Accuracy:', accuracy_score(y_test, y_pred_test))\n",
        "print('CV Accuracy:', accuracy_score(y, y_pred_cv))\n",
        "print('CV AUC:', tree_auc)\n",
        "print('Tree object node count:', model_tunning.tree_.node_count)\n",
        "print('Confusion matrix:\\n', confusion_matrix(y, y_pred_cv))"
      ],
      "metadata": {
        "colab": {
          "base_uri": "https://localhost:8080/"
        },
        "outputId": "fb6d417a-9ab4-48c9-9281-cb761803c539",
        "id": "7k_7tuJ1QUcN"
      },
      "execution_count": null,
      "outputs": [
        {
          "output_type": "stream",
          "name": "stdout",
          "text": [
            "Simple Accuracy: 0.959241614936721\n",
            "CV Accuracy: 0.9592027255928549\n",
            "CV AUC: 0.9562811794851692\n",
            "Tree object node count: 879\n",
            "Confusion matrix:\n",
            " [[57595  1284]\n",
            " [ 2955 42070]]\n"
          ]
        }
      ]
    },
    {
      "cell_type": "markdown",
      "source": [
        "### min_samples_leaf (inverse of complexity, external node)"
      ],
      "metadata": {
        "id": "48f1oczyQUcN"
      }
    },
    {
      "cell_type": "markdown",
      "source": [
        "the accuracy of validation and cv after tuning with min_samples_leaf are both reduced, so ignore this hyper-parameter"
      ],
      "metadata": {
        "id": "1GyLk5MMQUcN"
      }
    },
    {
      "cell_type": "code",
      "source": [
        "min_samples_leaf = range(2, 150, 10)\n",
        "# create 2 lists for training and testing set, and append the accuracy at different min samples per leaf in\n",
        "train_acc = []\n",
        "test_acc = []\n",
        "cv_acc = []\n",
        "\n",
        "# create a loop to try out numbers from 1 to 80 for min samples per leaf\n",
        "for i in min_samples_leaf:\n",
        "  model_tuning = DecisionTreeClassifier(criterion='log_loss', min_samples_leaf=int(i), random_state=42)\n",
        "  model_tuning.fit(X_train, y_train)\n",
        "\n",
        "  y_pred_train = model_tuning.predict(X_train)\n",
        "  y_pred_test = model_tuning.predict(X_test)\n",
        "  y_pred_cv = cross_val_predict(model_tuning, X, y, cv=5)\n",
        "\n",
        "  train_acc.append(accuracy_score(y_train, y_pred_train))\n",
        "  test_acc.append(accuracy_score(y_test, y_pred_test))\n",
        "  cv_acc.append(accuracy_score(y, y_pred_cv))\n",
        "\n",
        "# visualize\n",
        "plt.figure(figsize=(4.5,3))\n",
        "plt.plot(min_samples_leaf, train_acc, label='Train accuracy')\n",
        "plt.plot(min_samples_leaf, test_acc, label='Test accuracy')\n",
        "plt.plot(min_samples_leaf, cv_acc, label='CV score')\n",
        "plt.legend()\n",
        "plt.xlabel('Min samples per leaf (inverse of complexity)')\n",
        "plt.ylabel('Accuracy score')\n",
        "plt.show\n",
        "\n",
        "print('Best min_samples_leaf using validation set:', min_samples_leaf[test_acc.index(max(test_acc))], '(Accuracy score:', str(max(test_acc))+')')\n",
        "print('Best min_samples_leaf using CV:', min_samples_leaf[cv_acc.index(max(cv_acc))], '(Accuracy score:', str(max(cv_acc))+')')"
      ],
      "metadata": {
        "colab": {
          "base_uri": "https://localhost:8080/",
          "height": 347
        },
        "outputId": "7c0809b7-e9c8-4930-85a3-c10cbdd72000",
        "id": "-yFVkx3nQUcN"
      },
      "execution_count": null,
      "outputs": [
        {
          "output_type": "stream",
          "name": "stdout",
          "text": [
            "Best min_samples_leaf using validation set: 12 (Accuracy score: 0.9541167412540301)\n",
            "Best min_samples_leaf using CV: 12 (Accuracy score: 0.9528988296889437)\n"
          ]
        },
        {
          "output_type": "display_data",
          "data": {
            "text/plain": [
              "<Figure size 450x300 with 1 Axes>"
            ],
            "image/png": "[encoded data removed]"
          },
          "metadata": {}
        }
      ]
    },
    {
      "cell_type": "code",
      "source": [
        "min_samples_leaf = range(2, 20)\n",
        "# create 2 lists for training and testing set, and append the accuracy at different min samples per leaf in\n",
        "train_acc = []\n",
        "test_acc = []\n",
        "cv_acc = []\n",
        "\n",
        "# create a loop to try out numbers from 1 to 80 for min samples per leaf\n",
        "for i in min_samples_leaf:\n",
        "  model_tuning = DecisionTreeClassifier(criterion='log_loss', min_samples_leaf=int(i), random_state=42)\n",
        "  model_tuning.fit(X_train, y_train)\n",
        "\n",
        "  y_pred_train = model_tuning.predict(X_train)\n",
        "  y_pred_test = model_tuning.predict(X_test)\n",
        "  y_pred_cv = cross_val_predict(model_tuning, X, y, cv=5)\n",
        "\n",
        "  train_acc.append(accuracy_score(y_train, y_pred_train))\n",
        "  test_acc.append(accuracy_score(y_test, y_pred_test))\n",
        "  cv_acc.append(accuracy_score(y, y_pred_cv))\n",
        "\n",
        "# visualize\n",
        "plt.figure(figsize=(4.5,3))\n",
        "plt.plot(min_samples_leaf, train_acc, label='Train accuracy')\n",
        "plt.plot(min_samples_leaf, test_acc, label='Test accuracy')\n",
        "plt.plot(min_samples_leaf, cv_acc, label='CV score')\n",
        "plt.legend()\n",
        "plt.xlabel('Min samples per leaf (inverse of complexity)')\n",
        "plt.ylabel('Accuracy score')\n",
        "plt.show\n",
        "\n",
        "print('Best min_samples_leaf using validation set:', min_samples_leaf[test_acc.index(max(test_acc))], '(Accuracy score:', str(max(test_acc))+')')\n",
        "print('Best min_samples_leaf using CV:', min_samples_leaf[cv_acc.index(max(cv_acc))], '(Accuracy score:', str(max(cv_acc))+')')"
      ],
      "metadata": {
        "colab": {
          "base_uri": "https://localhost:8080/",
          "height": 367
        },
        "outputId": "f763b9fd-4727-4592-de16-64347d33145f",
        "id": "71focN2dUr5a"
      },
      "execution_count": null,
      "outputs": [
        {
          "output_type": "stream",
          "name": "stdout",
          "text": [
            "Best min_samples_leaf using validation set: 12 (Accuracy score: 0.9541167412540301)\n",
            "Best min_samples_leaf using CV: 15 (Accuracy score: 0.9534666615337234)\n"
          ]
        },
        {
          "output_type": "display_data",
          "data": {
            "text/plain": [
              "<Figure size 450x300 with 1 Axes>"
            ],
            "image/png": "[encoded data removed]"
          },
          "metadata": {}
        }
      ]
    },
    {
      "cell_type": "code",
      "source": [
        "model_tunning = DecisionTreeClassifier(criterion='log_loss', min_samples_leaf=15, random_state=42)\n",
        "model_tunning.fit(X_train, y_train)\n",
        "\n",
        "y_pred_test = model_tunning.predict(X_test)\n",
        "y_pred_cv = cross_val_predict(model_tunning, X, y, cv=5)\n",
        "\n",
        "tree_fpr, tree_tpr, thresholds = roc_curve(y, y_pred_cv)\n",
        "tree_auc = auc(tree_fpr, tree_tpr)\n",
        "\n",
        "print('Simple Accuracy:', accuracy_score(y_test, y_pred_test))\n",
        "print('CV Accuracy:', accuracy_score(y, y_pred_cv))\n",
        "print('CV AUC:', tree_auc)\n",
        "print('Tree object node count:', model_tunning.tree_.node_count)\n",
        "print('Confusion matrix:\\n', confusion_matrix(y, y_pred_cv))"
      ],
      "metadata": {
        "colab": {
          "base_uri": "https://localhost:8080/"
        },
        "outputId": "ba891477-12ad-49c2-a166-5dd11858dff0",
        "id": "D8xHUAEyQUcO"
      },
      "execution_count": null,
      "outputs": [
        {
          "output_type": "stream",
          "name": "stdout",
          "text": [
            "Simple Accuracy: 0.9539001972956066\n",
            "CV Accuracy: 0.9534666615337234\n",
            "CV AUC: 0.9512695982657816\n",
            "Tree object node count: 1385\n",
            "Confusion matrix:\n",
            " [[56980  1899]\n",
            " [ 2936 42089]]\n"
          ]
        }
      ]
    },
    {
      "cell_type": "markdown",
      "source": [
        "### min_samples_split (internal node)"
      ],
      "metadata": {
        "id": "VXY4fvmfQUcO"
      }
    },
    {
      "cell_type": "code",
      "source": [
        "min_samples_split = range(50, 100)\n",
        "\n",
        "# create 2 lists to store the accuracy at different min samples for further splitting\n",
        "train_acc = []\n",
        "test_acc = []\n",
        "cv_acc = []\n",
        "\n",
        "# create a loop to try out different min samples for further splitting\n",
        "for i in min_samples_split:\n",
        "  model_tunning = DecisionTreeClassifier(criterion='log_loss', min_samples_split=int(i), random_state=42)\n",
        "  model_tunning.fit(X_train, y_train)\n",
        "\n",
        "  y_pred_train = model_tunning.predict(X_train)\n",
        "  y_pred_test = model_tunning.predict(X_test)\n",
        "  y_pred_cv = cross_val_predict(model_tunning, X, y, cv=5)\n",
        "\n",
        "  train_acc.append(accuracy_score(y_train, y_pred_train))\n",
        "  test_acc.append(accuracy_score(y_test, y_pred_test))\n",
        "  cv_acc.append(accuracy_score(y, y_pred_cv))\n",
        "\n",
        "# visualize\n",
        "plt.figure(figsize=(4.5,3))\n",
        "plt.plot(min_samples_split, train_acc, label='Train accuracy')\n",
        "plt.plot(min_samples_split, test_acc, label='Test accuracy')\n",
        "plt.plot(min_samples_split, cv_acc, label='CV score')\n",
        "plt.legend()\n",
        "plt.xlabel('Min samples for further splitting')\n",
        "plt.ylabel('Accuracy score')\n",
        "plt.show\n",
        "\n",
        "print('Best min_samples_split using validation:', min_samples_split[test_acc.index(max(test_acc))], '(Accuracy score:', str(max(test_acc))+')')\n",
        "print('Best min_samples_split using CV:', min_samples_split[cv_acc.index(max(cv_acc))], '(Accuracy score:', str(max(cv_acc))+')')"
      ],
      "metadata": {
        "colab": {
          "base_uri": "https://localhost:8080/",
          "height": 367
        },
        "outputId": "860730bc-8a99-44cc-b2a5-94312f374c64",
        "id": "xe2kq4UxQUcO"
      },
      "execution_count": null,
      "outputs": [
        {
          "output_type": "stream",
          "name": "stdout",
          "text": [
            "Best min_samples_split using validation: 73 (Accuracy score: 0.9554641258842211)\n",
            "Best min_samples_split using CV: 93 (Accuracy score: 0.9545927009547275)\n"
          ]
        },
        {
          "output_type": "display_data",
          "data": {
            "text/plain": [
              "<Figure size 450x300 with 1 Axes>"
            ],
            "image/png": "[encoded data removed]"
          },
          "metadata": {}
        }
      ]
    },
    {
      "cell_type": "code",
      "source": [
        "model_tunning = DecisionTreeClassifier(criterion='log_loss', min_samples_split=93, random_state=42)\n",
        "model_tunning.fit(X_train, y_train)\n",
        "\n",
        "y_pred_test = model_tunning.predict(X_test)\n",
        "y_pred_cv = cross_val_predict(model_tunning, X, y, cv=5)\n",
        "\n",
        "tree_fpr, tree_tpr, thresholds = roc_curve(y, y_pred_cv)\n",
        "tree_auc = auc(tree_fpr, tree_tpr)\n",
        "\n",
        "print('Simple Accuracy:', accuracy_score(y_test, y_pred_test))\n",
        "print('CV Accuracy:', accuracy_score(y, y_pred_cv))\n",
        "print('CV AUC:', tree_auc)\n",
        "print('Tree object node count:', model_tunning.tree_.node_count)\n",
        "print('Confusion matrix:\\n', confusion_matrix(y, y_pred_cv))"
      ],
      "metadata": {
        "colab": {
          "base_uri": "https://localhost:8080/"
        },
        "outputId": "84e2ab66-156e-4f76-e435-5404e5724f29",
        "id": "GR2V6Q60QUcO"
      },
      "execution_count": null,
      "outputs": [
        {
          "output_type": "stream",
          "name": "stdout",
          "text": [
            "Simple Accuracy: 0.9544535874115779\n",
            "CV Accuracy: 0.9545927009547275\n",
            "CV AUC: 0.9523938088181846\n",
            "Tree object node count: 821\n",
            "Confusion matrix:\n",
            " [[57047  1832]\n",
            " [ 2886 42139]]\n"
          ]
        }
      ]
    },
    {
      "cell_type": "markdown",
      "source": [
        "### min_weight_fraction_leaf"
      ],
      "metadata": {
        "id": "d5HzWobIQUcO"
      }
    },
    {
      "cell_type": "code",
      "source": [
        "min_weight_fraction_leaf = np.linspace(0.0, 0.5, 10)\n",
        "\n",
        "# create 2 lists to store the accuracy at different min samples for further splitting\n",
        "train_acc = []\n",
        "test_acc = []\n",
        "cv_acc = []\n",
        "\n",
        "# create a loop to try out different min samples for further splitting\n",
        "for i in min_weight_fraction_leaf:\n",
        "  model_tunning = DecisionTreeClassifier(criterion='log_loss', min_weight_fraction_leaf=i, random_state=42)\n",
        "  model_tunning.fit(X_train, y_train)\n",
        "\n",
        "  y_pred_train = model_tunning.predict(X_train)\n",
        "  y_pred_test = model_tunning.predict(X_test)\n",
        "  y_pred_cv = cross_val_predict(model_tunning, X, y, cv=5)\n",
        "\n",
        "  train_acc.append(accuracy_score(y_train, y_pred_train))\n",
        "  test_acc.append(accuracy_score(y_test, y_pred_test))\n",
        "  cv_acc.append(accuracy_score(y, y_pred_cv))\n",
        "\n",
        "# visualize\n",
        "plt.figure(figsize=(4.5,3))\n",
        "plt.plot(min_weight_fraction_leaf, train_acc, label='Train accuracy')\n",
        "plt.plot(min_weight_fraction_leaf, test_acc, label='Test accuracy')\n",
        "plt.plot(min_weight_fraction_leaf, cv_acc, label='CV score')\n",
        "plt.legend()\n",
        "plt.xlabel('Min samples for further splitting')\n",
        "plt.ylabel('Accuracy score')\n",
        "plt.show\n",
        "\n",
        "print('Best min_weight_fraction_leaf using validation:', min_weight_fraction_leaf[test_acc.index(max(test_acc))], '(Accuracy score:', str(max(test_acc))+')')\n",
        "print('Best min_weight_fraction_leaf using CV:', min_weight_fraction_leaf[cv_acc.index(max(cv_acc))], '(Accuracy score:', str(max(cv_acc))+')')"
      ],
      "metadata": {
        "colab": {
          "base_uri": "https://localhost:8080/",
          "height": 367
        },
        "outputId": "08e344d8-acd0-4c6f-f182-258562800db7",
        "id": "644ydhXgQUcO"
      },
      "execution_count": null,
      "outputs": [
        {
          "output_type": "stream",
          "name": "stdout",
          "text": [
            "Best min_weight_fraction_leaf using validation: 0.0 (Accuracy score: 0.9475723016216736)\n",
            "Best min_weight_fraction_leaf using CV: 0.0 (Accuracy score: 0.9478075916230366)\n"
          ]
        },
        {
          "output_type": "display_data",
          "data": {
            "text/plain": [
              "<Figure size 450x300 with 1 Axes>"
            ],
            "image/png": "[encoded data removed]"
          },
          "metadata": {}
        }
      ]
    },
    {
      "cell_type": "markdown",
      "source": [
        "### min_impurity_decrease"
      ],
      "metadata": {
        "id": "dBOdylt1QUcO"
      }
    },
    {
      "cell_type": "code",
      "source": [
        "min_impurity_decrease = np.linspace(0.0, 0.5, 10)\n",
        "\n",
        "# create 2 lists to store the accuracy at different min samples for further splitting\n",
        "train_acc = []\n",
        "test_acc = []\n",
        "cv_acc = []\n",
        "\n",
        "# create a loop to try out different min samples for further splitting\n",
        "for i in min_impurity_decrease:\n",
        "  model_tunning = DecisionTreeClassifier(criterion='log_loss', min_impurity_decrease=i, random_state=42)\n",
        "  model_tunning.fit(X_train, y_train)\n",
        "\n",
        "  y_pred_train = model_tunning.predict(X_train)\n",
        "  y_pred_test = model_tunning.predict(X_test)\n",
        "  y_pred_cv = cross_val_predict(model_tunning, X, y, cv=5)\n",
        "\n",
        "  train_acc.append(accuracy_score(y_train, y_pred_train))\n",
        "  test_acc.append(accuracy_score(y_test, y_pred_test))\n",
        "  cv_acc.append(accuracy_score(y, y_pred_cv))\n",
        "\n",
        "# visualize\n",
        "plt.figure(figsize=(4.5,3))\n",
        "plt.plot(min_impurity_decrease, train_acc, label='Train accuracy')\n",
        "plt.plot(min_impurity_decrease, test_acc, label='Test accuracy')\n",
        "plt.plot(min_impurity_decrease, cv_acc, label='CV score')\n",
        "plt.legend()\n",
        "plt.xlabel('Min samples for further splitting')\n",
        "plt.ylabel('Accuracy score')\n",
        "plt.show\n",
        "\n",
        "print('Best min_impurity_decrease using validation:', min_impurity_decrease[test_acc.index(max(test_acc))], '(Accuracy score:', str(max(test_acc))+')')\n",
        "print('Best min_impurity_decrease using CV:', min_impurity_decrease[cv_acc.index(max(cv_acc))], '(Accuracy score:', str(max(cv_acc))+')')"
      ],
      "metadata": {
        "colab": {
          "base_uri": "https://localhost:8080/",
          "height": 367
        },
        "outputId": "f67123cf-c517-4c9f-90bd-46539ff18a47",
        "id": "DqxdNBFSQUcO"
      },
      "execution_count": null,
      "outputs": [
        {
          "output_type": "stream",
          "name": "stdout",
          "text": [
            "Best min_impurity_decrease using validation: 0.0 (Accuracy score: 0.9475723016216736)\n",
            "Best min_impurity_decrease using CV: 0.0 (Accuracy score: 0.9478075916230366)\n"
          ]
        },
        {
          "output_type": "display_data",
          "data": {
            "text/plain": [
              "<Figure size 450x300 with 1 Axes>"
            ],
            "image/png": "[encoded data removed]"
          },
          "metadata": {}
        }
      ]
    },
    {
      "cell_type": "markdown",
      "source": [
        "### max_depth + max_leaf_nodes"
      ],
      "metadata": {
        "id": "7dUxef8fQUcO"
      }
    },
    {
      "cell_type": "code",
      "source": [
        "model_tunning = DecisionTreeClassifier(criterion='log_loss', max_depth=16, max_leaf_nodes=440, random_state=42)\n",
        "model_tunning.fit(X_train, y_train)\n",
        "\n",
        "y_pred_test = model_tunning.predict(X_test)\n",
        "y_pred_cv = cross_val_predict(model_tunning, X, y, cv=5)\n",
        "\n",
        "tree_fpr, tree_tpr, thresholds = roc_curve(y, y_pred_cv)\n",
        "tree_auc = auc(tree_fpr, tree_tpr)\n",
        "\n",
        "print('Simple Accuracy:', accuracy_score(y_test, y_pred_test))\n",
        "print('CV Accuracy:', accuracy_score(y, y_pred_cv))\n",
        "print('CV AUC:', tree_auc)\n",
        "print('Tree object node count:', model_tunning.tree_.node_count)\n",
        "print('Confusion matrix:\\n', confusion_matrix(y, y_pred_cv))"
      ],
      "metadata": {
        "colab": {
          "base_uri": "https://localhost:8080/"
        },
        "outputId": "099ffe98-3400-4f87-f389-9dcf5d2514bc",
        "id": "wXvu4L4OQUcO"
      },
      "execution_count": null,
      "outputs": [
        {
          "output_type": "stream",
          "name": "stdout",
          "text": [
            "Simple Accuracy: 0.9584716808623261\n",
            "CV Accuracy: 0.9566137973514013\n",
            "CV AUC: 0.9538165400976352\n",
            "Tree object node count: 879\n",
            "Confusion matrix:\n",
            " [[57395  1484]\n",
            " [ 3024 42001]]\n"
          ]
        }
      ]
    },
    {
      "cell_type": "markdown",
      "source": [
        "### max_depth + min_samples_split"
      ],
      "metadata": {
        "id": "TBj-cz1tQUcP"
      }
    },
    {
      "cell_type": "code",
      "source": [
        "model_tunning = DecisionTreeClassifier(criterion='log_loss', max_depth=16, min_samples_split=93, random_state=42)\n",
        "model_tunning.fit(X_train, y_train)\n",
        "\n",
        "y_pred_test = model_tunning.predict(X_test)\n",
        "y_pred_cv = cross_val_predict(model_tunning, X, y, cv=5)\n",
        "\n",
        "tree_fpr, tree_tpr, thresholds = roc_curve(y, y_pred_cv)\n",
        "tree_auc = auc(tree_fpr, tree_tpr)\n",
        "\n",
        "print('Simple Accuracy:', accuracy_score(y_test, y_pred_test))\n",
        "print('CV Accuracy:', accuracy_score(y, y_pred_cv))\n",
        "print('CV AUC:', tree_auc)\n",
        "print('Tree object node count:', model_tunning.tree_.node_count)\n",
        "print('Confusion matrix:\\n', confusion_matrix(y, y_pred_cv))"
      ],
      "metadata": {
        "colab": {
          "base_uri": "https://localhost:8080/"
        },
        "outputId": "9f74f3e1-202a-4880-9179-9c9be9403434",
        "id": "2TqLBYC0QUcP"
      },
      "execution_count": null,
      "outputs": [
        {
          "output_type": "stream",
          "name": "stdout",
          "text": [
            "Simple Accuracy: 0.9549107357682498\n",
            "CV Accuracy: 0.9537746381275023\n",
            "CV AUC: 0.9514551146730599\n",
            "Tree object node count: 647\n",
            "Confusion matrix:\n",
            " [[57045  1834]\n",
            " [ 2969 42056]]\n"
          ]
        }
      ]
    },
    {
      "cell_type": "markdown",
      "source": [
        "### max_depth + min_samples_leaf"
      ],
      "metadata": {
        "id": "igjjroujQUcP"
      }
    },
    {
      "cell_type": "code",
      "source": [
        "model_tunning = DecisionTreeClassifier(criterion='log_loss', max_depth=16, min_samples_leaf=15, random_state=42)\n",
        "model_tunning.fit(X_train, y_train)\n",
        "\n",
        "y_pred_test = model_tunning.predict(X_test)\n",
        "y_pred_cv = cross_val_predict(model_tunning, X, y, cv=5)\n",
        "\n",
        "tree_fpr, tree_tpr, thresholds = roc_curve(y, y_pred_cv)\n",
        "tree_auc = auc(tree_fpr, tree_tpr)\n",
        "\n",
        "print('Simple Accuracy:', accuracy_score(y_test, y_pred_test))\n",
        "print('CV Accuracy:', accuracy_score(y, y_pred_cv))\n",
        "print('CV AUC:', tree_auc)\n",
        "print('Tree object node count:', model_tunning.tree_.node_count)\n",
        "print('Confusion matrix:\\n', confusion_matrix(y, y_pred_cv))"
      ],
      "metadata": {
        "colab": {
          "base_uri": "https://localhost:8080/"
        },
        "outputId": "0149adb3-1e5a-478f-91d2-de72f0248572",
        "id": "wIqTOoeYQUcP"
      },
      "execution_count": null,
      "outputs": [
        {
          "output_type": "stream",
          "name": "stdout",
          "text": [
            "Simple Accuracy: 0.9556566094028199\n",
            "CV Accuracy: 0.9528603326147213\n",
            "CV AUC: 0.950355725067641\n",
            "Tree object node count: 1037\n",
            "Confusion matrix:\n",
            " [[57062  1817]\n",
            " [ 3081 41944]]\n"
          ]
        }
      ]
    },
    {
      "cell_type": "markdown",
      "source": [
        "### max_leaf_nodes + min_samples_split"
      ],
      "metadata": {
        "id": "pgurMu24QUcP"
      }
    },
    {
      "cell_type": "code",
      "source": [
        "model_tunning = DecisionTreeClassifier(criterion='log_loss', max_leaf_nodes=440, min_samples_split=93, random_state=42)\n",
        "model_tunning.fit(X_train, y_train)\n",
        "\n",
        "y_pred_test = model_tunning.predict(X_test)\n",
        "y_pred_cv = cross_val_predict(model_tunning, X, y, cv=5)\n",
        "\n",
        "tree_fpr, tree_tpr, thresholds = roc_curve(y, y_pred_cv)\n",
        "tree_auc = auc(tree_fpr, tree_tpr)\n",
        "\n",
        "print('Simple Accuracy:', accuracy_score(y_test, y_pred_test))\n",
        "print('CV Accuracy:', accuracy_score(y, y_pred_cv))\n",
        "print('CV AUC:', tree_auc)\n",
        "print('Tree object node count:', model_tunning.tree_.node_count)\n",
        "print('Confusion matrix:\\n', confusion_matrix(y, y_pred_cv))"
      ],
      "metadata": {
        "colab": {
          "base_uri": "https://localhost:8080/"
        },
        "outputId": "c0df83f0-622a-4838-9158-d95ad7f29daf",
        "id": "tAC8qOUiQUcP"
      },
      "execution_count": null,
      "outputs": [
        {
          "output_type": "stream",
          "name": "stdout",
          "text": [
            "Simple Accuracy: 0.954285164332804\n",
            "CV Accuracy: 0.9555166307360641\n",
            "CV AUC: 0.9529451321407245\n",
            "Tree object node count: 821\n",
            "Confusion matrix:\n",
            " [[57244  1635]\n",
            " [ 2987 42038]]\n"
          ]
        }
      ]
    },
    {
      "cell_type": "markdown",
      "source": [
        "### max_leaf_nodes + min_samples_leaf"
      ],
      "metadata": {
        "id": "27CHIgWcQUcP"
      }
    },
    {
      "cell_type": "code",
      "source": [
        "model_tunning = DecisionTreeClassifier(criterion='log_loss', max_leaf_nodes=440, min_samples_leaf=15, random_state=42)\n",
        "model_tunning.fit(X_train, y_train)\n",
        "\n",
        "y_pred_test = model_tunning.predict(X_test)\n",
        "y_pred_cv = cross_val_predict(model_tunning, X, y, cv=5)\n",
        "\n",
        "tree_fpr, tree_tpr, thresholds = roc_curve(y, y_pred_cv)\n",
        "tree_auc = auc(tree_fpr, tree_tpr)\n",
        "\n",
        "print('Simple Accuracy:', accuracy_score(y_test, y_pred_test))\n",
        "print('CV Accuracy:', accuracy_score(y, y_pred_cv))\n",
        "print('CV AUC:', tree_auc)\n",
        "print('Tree object node count:', model_tunning.tree_.node_count)\n",
        "print('Confusion matrix:\\n', confusion_matrix(y, y_pred_cv))"
      ],
      "metadata": {
        "colab": {
          "base_uri": "https://localhost:8080/"
        },
        "outputId": "0e3b41f3-25eb-4ae5-ee9e-875af3b8b485",
        "id": "gG90E5f6QUcP"
      },
      "execution_count": null,
      "outputs": [
        {
          "output_type": "stream",
          "name": "stdout",
          "text": [
            "Simple Accuracy: 0.9560415764400173\n",
            "CV Accuracy: 0.9554203880505081\n",
            "CV AUC: 0.9528236309251437\n",
            "Tree object node count: 879\n",
            "Confusion matrix:\n",
            " [[57248  1631]\n",
            " [ 3001 42024]]\n"
          ]
        }
      ]
    },
    {
      "cell_type": "markdown",
      "source": [
        "### min_samples_split + min_samples_leaf"
      ],
      "metadata": {
        "id": "ZNE-X_dLQUcP"
      }
    },
    {
      "cell_type": "code",
      "source": [
        "model_tunning = DecisionTreeClassifier(criterion='log_loss', min_samples_split=93, min_samples_leaf=15, random_state=42)\n",
        "model_tunning.fit(X_train, y_train)\n",
        "\n",
        "y_pred_test = model_tunning.predict(X_test)\n",
        "y_pred_cv = cross_val_predict(model_tunning, X, y, cv=5)\n",
        "\n",
        "tree_fpr, tree_tpr, thresholds = roc_curve(y, y_pred_cv)\n",
        "tree_auc = auc(tree_fpr, tree_tpr)\n",
        "\n",
        "print('Simple Accuracy:', accuracy_score(y_test, y_pred_test))\n",
        "print('CV Accuracy:', accuracy_score(y, y_pred_cv))\n",
        "print('CV AUC:', tree_auc)\n",
        "print('Tree object node count:', model_tunning.tree_.node_count)\n",
        "print('Confusion matrix:\\n', confusion_matrix(y, y_pred_cv))"
      ],
      "metadata": {
        "colab": {
          "base_uri": "https://localhost:8080/"
        },
        "outputId": "ac530c04-17d2-4799-ae39-9ee990577bd9",
        "id": "FI23CmDEQUcP"
      },
      "execution_count": null,
      "outputs": [
        {
          "output_type": "stream",
          "name": "stdout",
          "text": [
            "Simple Accuracy: 0.9523122082671671\n",
            "CV Accuracy: 0.9537650138589467\n",
            "CV AUC: 0.9514335579327706\n",
            "Tree object node count: 723\n",
            "Confusion matrix:\n",
            " [[57049  1830]\n",
            " [ 2974 42051]]\n"
          ]
        }
      ]
    },
    {
      "cell_type": "markdown",
      "source": [
        "### max_depth + max_leaf_nodes + min_samples_split"
      ],
      "metadata": {
        "id": "RdZPJCBnQUcP"
      }
    },
    {
      "cell_type": "code",
      "source": [
        "model_tunning = DecisionTreeClassifier(criterion='log_loss', max_depth=16, max_leaf_nodes=440, min_samples_split=93, random_state=42)\n",
        "model_tunning.fit(X_train, y_train)\n",
        "\n",
        "y_pred_test = model_tunning.predict(X_test)\n",
        "y_pred_cv = cross_val_predict(model_tunning, X, y, cv=5)\n",
        "\n",
        "tree_fpr, tree_tpr, thresholds = roc_curve(y, y_pred_cv)\n",
        "tree_auc = auc(tree_fpr, tree_tpr)\n",
        "\n",
        "print('Simple Accuracy:', accuracy_score(y_test, y_pred_test))\n",
        "print('CV Accuracy:', accuracy_score(y, y_pred_cv))\n",
        "print('CV AUC:', tree_auc)\n",
        "print('Tree object node count:', model_tunning.tree_.node_count)\n",
        "print('Confusion matrix:\\n', confusion_matrix(y, y_pred_cv))"
      ],
      "metadata": {
        "colab": {
          "base_uri": "https://localhost:8080/"
        },
        "outputId": "dbce6b2a-a7d8-4235-ddae-780b7858c1b9",
        "id": "i1uJv6cAQUcP"
      },
      "execution_count": null,
      "outputs": [
        {
          "output_type": "stream",
          "name": "stdout",
          "text": [
            "Simple Accuracy: 0.9545979500505269\n",
            "CV Accuracy: 0.9537650138589467\n",
            "CV AUC: 0.9514440097313608\n",
            "Tree object node count: 645\n",
            "Confusion matrix:\n",
            " [[57045  1834]\n",
            " [ 2970 42055]]\n"
          ]
        }
      ]
    },
    {
      "cell_type": "markdown",
      "source": [
        "### max_leaf_nodes + min_samples_split + min_samples_leaf"
      ],
      "metadata": {
        "id": "83DTU6SqQUcP"
      }
    },
    {
      "cell_type": "code",
      "source": [
        "model_tunning = DecisionTreeClassifier(criterion='log_loss', max_leaf_nodes=440, min_samples_split=93, min_samples_leaf=15, random_state=42)\n",
        "model_tunning.fit(X_train, y_train)\n",
        "\n",
        "y_pred_test = model_tunning.predict(X_test)\n",
        "y_pred_cv = cross_val_predict(model_tunning, X, y, cv=5)\n",
        "\n",
        "tree_fpr, tree_tpr, thresholds = roc_curve(y, y_pred_cv)\n",
        "tree_auc = auc(tree_fpr, tree_tpr)\n",
        "\n",
        "print('Simple Accuracy:', accuracy_score(y_test, y_pred_test))\n",
        "print('CV Accuracy:', accuracy_score(y, y_pred_cv))\n",
        "print('CV AUC:', tree_auc)\n",
        "print('Tree object node count:', model_tunning.tree_.node_count)\n",
        "print('Confusion matrix:\\n', confusion_matrix(y, y_pred_cv))"
      ],
      "metadata": {
        "colab": {
          "base_uri": "https://localhost:8080/"
        },
        "outputId": "8614f435-fe57-466b-acd5-872698dcb65d",
        "id": "zq7qwyoCQUcP"
      },
      "execution_count": null,
      "outputs": [
        {
          "output_type": "stream",
          "name": "stdout",
          "text": [
            "Simple Accuracy: 0.9523122082671671\n",
            "CV Accuracy: 0.9539574992300586\n",
            "CV AUC: 0.9515067186368409\n",
            "Tree object node count: 723\n",
            "Confusion matrix:\n",
            " [[57106  1773]\n",
            " [ 3011 42014]]\n"
          ]
        }
      ]
    },
    {
      "cell_type": "markdown",
      "source": [
        "### max_depth + min_samples_split + min_samples_leaf"
      ],
      "metadata": {
        "id": "3l9rgHwjQUcQ"
      }
    },
    {
      "cell_type": "code",
      "source": [
        "model_tunning = DecisionTreeClassifier(criterion='log_loss', max_depth=16, min_samples_split=93, min_samples_leaf=15, random_state=42)\n",
        "model_tunning.fit(X_train, y_train)\n",
        "\n",
        "y_pred_test = model_tunning.predict(X_test)\n",
        "y_pred_cv = cross_val_predict(model_tunning, X, y, cv=5)\n",
        "\n",
        "tree_fpr, tree_tpr, thresholds = roc_curve(y, y_pred_cv)\n",
        "tree_auc = auc(tree_fpr, tree_tpr)\n",
        "\n",
        "print('Simple Accuracy:', accuracy_score(y_test, y_pred_test))\n",
        "print('CV Accuracy:', accuracy_score(y, y_pred_cv))\n",
        "print('CV AUC:', tree_auc)\n",
        "print('Tree object node count:', model_tunning.tree_.node_count)\n",
        "print('Confusion matrix:\\n', confusion_matrix(y, y_pred_cv))"
      ],
      "metadata": {
        "colab": {
          "base_uri": "https://localhost:8080/"
        },
        "outputId": "fec3bd8d-d69a-4a06-8c3a-520fb4297c30",
        "id": "miwDeD_pQUcQ"
      },
      "execution_count": null,
      "outputs": [
        {
          "output_type": "stream",
          "name": "stdout",
          "text": [
            "Simple Accuracy: 0.9531302632212116\n",
            "CV Accuracy: 0.9527544656606098\n",
            "CV AUC: 0.9503929606374526\n",
            "Tree object node count: 591\n",
            "Confusion matrix:\n",
            " [[57001  1878]\n",
            " [ 3031 41994]]\n"
          ]
        }
      ]
    },
    {
      "cell_type": "markdown",
      "source": [
        "### max_depth + max_leaf_nodes + min_samples_leaf"
      ],
      "metadata": {
        "id": "_MDTtxcDQUcQ"
      }
    },
    {
      "cell_type": "code",
      "source": [
        "model_tunning = DecisionTreeClassifier(criterion='log_loss', max_depth=16, max_leaf_nodes=440, min_samples_leaf=15, random_state=42)\n",
        "model_tunning.fit(X_train, y_train)\n",
        "\n",
        "y_pred_test = model_tunning.predict(X_test)\n",
        "y_pred_cv = cross_val_predict(model_tunning, X, y, cv=5)\n",
        "\n",
        "tree_fpr, tree_tpr, thresholds = roc_curve(y, y_pred_cv)\n",
        "tree_auc = auc(tree_fpr, tree_tpr)\n",
        "\n",
        "print('Simple Accuracy:', accuracy_score(y_test, y_pred_test))\n",
        "print('CV Accuracy:', accuracy_score(y, y_pred_cv))\n",
        "print('CV AUC:', tree_auc)\n",
        "print('Tree object node count:', model_tunning.tree_.node_count)\n",
        "print('Confusion matrix:\\n', confusion_matrix(y, y_pred_cv))"
      ],
      "metadata": {
        "colab": {
          "base_uri": "https://localhost:8080/"
        },
        "outputId": "308cdcd9-c28e-4e35-b0f9-cdadd9af786c",
        "id": "TQjVw-FSQUcQ"
      },
      "execution_count": null,
      "outputs": [
        {
          "output_type": "stream",
          "name": "stdout",
          "text": [
            "Simple Accuracy: 0.9557769116019441\n",
            "CV Accuracy: 0.954178857406837\n",
            "CV AUC: 0.9515086761801057\n",
            "Tree object node count: 879\n",
            "Confusion matrix:\n",
            " [[57203  1676]\n",
            " [ 3085 41940]]\n"
          ]
        }
      ]
    },
    {
      "cell_type": "markdown",
      "source": [
        "### max_depth + max_leaf_nodes + min_samples_split + min_samples_leaf"
      ],
      "metadata": {
        "id": "NifSoaWAQUcQ"
      }
    },
    {
      "cell_type": "code",
      "source": [
        "model_tunning = DecisionTreeClassifier(criterion='log_loss', max_depth=16, max_leaf_nodes=440, min_samples_split=93, min_samples_leaf=15, random_state=42)\n",
        "model_tunning.fit(X_train, y_train)\n",
        "\n",
        "y_pred_test = model_tunning.predict(X_test)\n",
        "y_pred_cv = cross_val_predict(model_tunning, X, y, cv=5)\n",
        "\n",
        "tree_fpr, tree_tpr, thresholds = roc_curve(y, y_pred_cv)\n",
        "tree_auc = auc(tree_fpr, tree_tpr)\n",
        "\n",
        "print('Simple Accuracy:', accuracy_score(y_test, y_pred_test))\n",
        "print('CV Accuracy:', accuracy_score(y, y_pred_cv))\n",
        "print('CV AUC:', tree_auc)\n",
        "print('Tree object node count:', model_tunning.tree_.node_count)\n",
        "print('Confusion matrix:\\n', confusion_matrix(y, y_pred_cv))"
      ],
      "metadata": {
        "colab": {
          "base_uri": "https://localhost:8080/"
        },
        "outputId": "c9559735-ff5e-494d-b33c-1dcbfe7e1dea",
        "id": "zSg_5wP6QUcR"
      },
      "execution_count": null,
      "outputs": [
        {
          "output_type": "stream",
          "name": "stdout",
          "text": [
            "Simple Accuracy: 0.9531302632212116\n",
            "CV Accuracy: 0.952773714197721\n",
            "CV AUC: 0.9504125575712031\n",
            "Tree object node count: 591\n",
            "Confusion matrix:\n",
            " [[57002  1877]\n",
            " [ 3030 41995]]\n"
          ]
        }
      ]
    },
    {
      "cell_type": "markdown",
      "source": [
        "# Grid search"
      ],
      "metadata": {
        "id": "m7AS8dedmOgE"
      }
    },
    {
      "cell_type": "code",
      "source": [
        "from sklearn.model_selection import GridSearchCV\n",
        "# make array for hyper-parameters to choose from\n",
        "depths = np.arange(13, 16)\n",
        "num_leafs = np.arange(375, 440)\n",
        "samples_leaf = np.arange(10, 12)\n",
        "samples_split = np.arange(58, 93)\n",
        "\n",
        "try_grid = [{'max_depth':depths,\n",
        "             'max_leaf_nodes':num_leafs,\n",
        "             'min_samples_leaf':samples_leaf,\n",
        "             'min_samples_split':samples_split}]\n",
        "\n",
        "DTM = GridSearchCV(DecisionTreeClassifier(), param_grid=try_grid, cv=5)\n",
        "DTM.fit(X_train, y_train)\n",
        "print(DTM.best_params_)\n",
        "print(DTM.best_score_)"
      ],
      "metadata": {
        "id": "QgIPsCqRmJgE"
      },
      "execution_count": null,
      "outputs": []
    }
  ]
}